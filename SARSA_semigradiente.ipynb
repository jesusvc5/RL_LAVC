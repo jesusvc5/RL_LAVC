{
  "nbformat": 4,
  "nbformat_minor": 0,
  "metadata": {
    "colab": {
      "provenance": [],
      "authorship_tag": "ABX9TyObT9jT1MAA+PP+JK6UTzWq",
      "include_colab_link": true
    },
    "kernelspec": {
      "name": "python3",
      "display_name": "Python 3"
    },
    "language_info": {
      "name": "python"
    }
  },
  "cells": [
    {
      "cell_type": "markdown",
      "metadata": {
        "id": "view-in-github",
        "colab_type": "text"
      },
      "source": [
        "<a href=\"https://colab.research.google.com/github/jesusvc5/RL_LAVC/blob/main/SARSA_semigradiente.ipynb\" target=\"_parent\"><img src=\"https://colab.research.google.com/assets/colab-badge.svg\" alt=\"Open In Colab\"/></a>"
      ]
    },
    {
      "cell_type": "markdown",
      "source": [
        "# Implementación, análisis y evaluación del método de SARSA semi-gradiente sobre el entorno Mountain Car\n",
        "\n",
        "*Description*: En este notebook se desarrolla la implementación del método de **SARSA semi-gradiente**, y se emplea sobre el entorno Mountain Car de Gymnasium.\n",
        "\n",
        "\n",
        "    Autores: Jesús Verdú Chacón\n",
        "             Jorge López Abad\n",
        "\n",
        "    Emails: jesus.v.c@um.es\n",
        "            jorge.lopeza@um.es\n",
        "            \n",
        "    Date: 2025/03/09"
      ],
      "metadata": {
        "id": "r7cPE2rDrdCC"
      }
    },
    {
      "cell_type": "code",
      "execution_count": null,
      "metadata": {
        "id": "1gmHFKAudBv7"
      },
      "outputs": [],
      "source": [
        "import random\n",
        "import gymnasium as gym\n",
        "from gymnasium import ObservationWrapper\n",
        "from tqdm import tqdm\n",
        "import numpy as np\n",
        "import matplotlib.pyplot as plt\n",
        "from IPython.display import clear_output\n",
        "\n",
        "SEED = 123"
      ]
    },
    {
      "cell_type": "markdown",
      "source": [
        "## Entorno MountainCar"
      ],
      "metadata": {
        "id": "dh-lxCchSf5F"
      }
    },
    {
      "cell_type": "markdown",
      "source": [
        "**Mountain Car** es otro entorno clásico del framework de Gymnasium. Hasta ahora hemos estado trabajando con el entorno sencillo de Frozen Lake (aunque el caso 8x8, no siempre resultaba sencillo), el cual, resultaba ser un buen entorno para poner en práctica los distintos métodos tabulares que hemos visto en la asignatura (Monte Carlo, SARSA y Q-learning). No obstante, estos métodos se encuentran limitados por la representación que tienen de los $Q$ valores para obtener la política. En casos en los que los estados son continuos, debemos de llevar a cabo distintas técnicas para poder trabajar con estos entornos.\n",
        "\n",
        "Mountain Car es uno de estos entornos más \"complicados\". A pesar de que su espacio de acciones es sencillo, pues estamos usando la versión v0, donde las acciones están discretizadas en:\n",
        "  * 0: acelera a la izquierda.\n",
        "  * 1: no acelera.\n",
        "  * 2: acelera a la derecha.\n",
        "\n",
        "El espacio de estados/observaciones es continuo, con dos dimensiones:\n",
        "  * Dimensión 0: Posición del coche a lo largo del eje x. Máx: 0.6; Min:-1.2.\n",
        "  * Dimensión 1: Velocidad del coche. Máx: 0.07; Min: -0.07.\n",
        "\n",
        "  Por terminar de explicar ya del todo el entorno que vamos a emplear, su sistema de recompensas es dar un valor de -1 por cada instante de tiempo que pasa en el episodio. De esta manera, se incentiva a la obtención del objetivo lo antes posible.\n",
        "\n",
        "  "
      ],
      "metadata": {
        "id": "hdNW8ThXuyJU"
      }
    },
    {
      "cell_type": "code",
      "source": [
        "env = gym.make(\"MountainCar-v0\", render_mode=\"rgb_array\")\n",
        "env.reset()"
      ],
      "metadata": {
        "colab": {
          "base_uri": "https://localhost:8080/"
        },
        "id": "IJP9CjkjtuSY",
        "outputId": "30128f00-d20c-4341-f5be-455ed0f0d2e8"
      },
      "execution_count": null,
      "outputs": [
        {
          "output_type": "execute_result",
          "data": {
            "text/plain": [
              "(array([-0.5125705,  0.       ], dtype=float32), {})"
            ]
          },
          "metadata": {},
          "execution_count": 4
        }
      ]
    },
    {
      "cell_type": "code",
      "source": [
        "env.render()"
      ],
      "metadata": {
        "colab": {
          "base_uri": "https://localhost:8080/",
          "height": 440
        },
        "id": "JMuHDR61tvby",
        "outputId": "b56b7e65-eb45-4aa7-ff10-e13f7455add3"
      },
      "execution_count": null,
      "outputs": [
        {
          "output_type": "execute_result",
          "data": {
            "text/plain": [
              "array([[[255, 255, 255],\n",
              "        [255, 255, 255],\n",
              "        [255, 255, 255],\n",
              "        ...,\n",
              "        [255, 255, 255],\n",
              "        [255, 255, 255],\n",
              "        [255, 255, 255]],\n",
              "\n",
              "       [[255, 255, 255],\n",
              "        [255, 255, 255],\n",
              "        [255, 255, 255],\n",
              "        ...,\n",
              "        [255, 255, 255],\n",
              "        [255, 255, 255],\n",
              "        [255, 255, 255]],\n",
              "\n",
              "       [[255, 255, 255],\n",
              "        [255, 255, 255],\n",
              "        [255, 255, 255],\n",
              "        ...,\n",
              "        [255, 255, 255],\n",
              "        [255, 255, 255],\n",
              "        [255, 255, 255]],\n",
              "\n",
              "       ...,\n",
              "\n",
              "       [[255, 255, 255],\n",
              "        [255, 255, 255],\n",
              "        [255, 255, 255],\n",
              "        ...,\n",
              "        [255, 255, 255],\n",
              "        [255, 255, 255],\n",
              "        [255, 255, 255]],\n",
              "\n",
              "       [[255, 255, 255],\n",
              "        [255, 255, 255],\n",
              "        [255, 255, 255],\n",
              "        ...,\n",
              "        [255, 255, 255],\n",
              "        [255, 255, 255],\n",
              "        [255, 255, 255]],\n",
              "\n",
              "       [[255, 255, 255],\n",
              "        [255, 255, 255],\n",
              "        [255, 255, 255],\n",
              "        ...,\n",
              "        [255, 255, 255],\n",
              "        [255, 255, 255],\n",
              "        [255, 255, 255]]], dtype=uint8)"
            ],
            "text/html": [
              "<style>\n",
              "      .ndarray_repr .ndarray_raw_data {\n",
              "        display: none;\n",
              "      }\n",
              "      .ndarray_repr.show_array .ndarray_raw_data {\n",
              "        display: block;\n",
              "      }\n",
              "      .ndarray_repr.show_array .ndarray_image_preview {\n",
              "        display: none;\n",
              "      }\n",
              "      </style>\n",
              "      <div id=\"id-4515698b-0e81-4ce1-b9a3-48ca996ea301\" class=\"ndarray_repr\"><pre>ndarray (400, 600, 3) <button style=\"padding: 0 2px;\">show data</button></pre><img src=\"data:image/png;base64,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\" class=\"ndarray_image_preview\" /><pre class=\"ndarray_raw_data\">array([[[255, 255, 255],\n",
              "        [255, 255, 255],\n",
              "        [255, 255, 255],\n",
              "        ...,\n",
              "        [255, 255, 255],\n",
              "        [255, 255, 255],\n",
              "        [255, 255, 255]],\n",
              "\n",
              "       [[255, 255, 255],\n",
              "        [255, 255, 255],\n",
              "        [255, 255, 255],\n",
              "        ...,\n",
              "        [255, 255, 255],\n",
              "        [255, 255, 255],\n",
              "        [255, 255, 255]],\n",
              "\n",
              "       [[255, 255, 255],\n",
              "        [255, 255, 255],\n",
              "        [255, 255, 255],\n",
              "        ...,\n",
              "        [255, 255, 255],\n",
              "        [255, 255, 255],\n",
              "        [255, 255, 255]],\n",
              "\n",
              "       ...,\n",
              "\n",
              "       [[255, 255, 255],\n",
              "        [255, 255, 255],\n",
              "        [255, 255, 255],\n",
              "        ...,\n",
              "        [255, 255, 255],\n",
              "        [255, 255, 255],\n",
              "        [255, 255, 255]],\n",
              "\n",
              "       [[255, 255, 255],\n",
              "        [255, 255, 255],\n",
              "        [255, 255, 255],\n",
              "        ...,\n",
              "        [255, 255, 255],\n",
              "        [255, 255, 255],\n",
              "        [255, 255, 255]],\n",
              "\n",
              "       [[255, 255, 255],\n",
              "        [255, 255, 255],\n",
              "        [255, 255, 255],\n",
              "        ...,\n",
              "        [255, 255, 255],\n",
              "        [255, 255, 255],\n",
              "        [255, 255, 255]]], dtype=uint8)</pre></div><script>\n",
              "      (() => {\n",
              "      const titles = ['show data', 'hide data'];\n",
              "      let index = 0\n",
              "      document.querySelector('#id-4515698b-0e81-4ce1-b9a3-48ca996ea301 button').onclick = (e) => {\n",
              "        document.querySelector('#id-4515698b-0e81-4ce1-b9a3-48ca996ea301').classList.toggle('show_array');\n",
              "        index = (++index) % 2;\n",
              "        document.querySelector('#id-4515698b-0e81-4ce1-b9a3-48ca996ea301 button').textContent = titles[index];\n",
              "        e.preventDefault();\n",
              "        e.stopPropagation();\n",
              "      }\n",
              "      })();\n",
              "    </script>"
            ]
          },
          "metadata": {},
          "execution_count": 5
        }
      ]
    },
    {
      "cell_type": "markdown",
      "source": [
        "De esta manera, se pone de manifiesto la necesidad de usar un método de aproximación, alternativo a los métodos tabulares empleados, pues ya no podemos definir, de la misma forma que hemos venido haciendo, los valores Q. Para solventar esto, en lugar de tomar $Q$, como una tabla, vamos a tomarla como una función que mapea valores de estado y acción, a valores $Q$. Existen diversas manera de obtener esta función, pero la que se corresponde con el método que analizamos en este notebook se basa en los métodos lineales.\n",
        "\n",
        "En estos métodos, los valores $Q$ se obtienen mediante las operaciones lineales entre un **vector de características**, que representa el estado $s$, $x(s)$, y unos pesos $w$, que serán los que deberá de ir aprendiendo el agente a medida que explore el entorno:\n",
        "\n",
        "$$\n",
        "\\hat{q}(s,a,w) = w^\\intercal x(s, a) = \\sum_{i=1}^d w_i x_i(s, a)\n",
        "$$\n",
        "\n",
        "Donde $\\hat{q}(s,a,w)$ es el valor aproximado de la función $Q(s,a)$, $w$ el vector de parámetros a obtener, y $x(s,a) el vector de características generado por distintas técnicas de contrucción de características para métodos lineales. La más usada y la que mejor funciona es el **Tiling encoding**, o codificación por teselados, que explicaremos en la siguiente sección."
      ],
      "metadata": {
        "id": "MGQNydlWxPs7"
      }
    },
    {
      "cell_type": "markdown",
      "source": [
        "## Extensión de la clase ObservationWrapper de Gymnasium para discretizar estados continuos"
      ],
      "metadata": {
        "id": "zTm57elrSbDf"
      }
    },
    {
      "cell_type": "markdown",
      "source": [
        "Acabamos de motivar el uso de métodos de aproximación para el entorno de Mountain Car, y hemos hablado de la base del método que desarrollamos en este notebook. En esta sección, desarrollamos un wrapper de gymnasium, para poder discretizar el espacio de observaciones del entorno.\n",
        "\n",
        "**Tile Coding** divide el espacio de estados en regiones o \"tiles\" (azulejos). Cada división recibe el nombre mosaicos (rejillas o tiling).\n",
        "\n",
        "La idea principal es cubrir el espacio de estados con varias rejillas (tilings) que se superponen. Cada rejilla divide el espacio en celdas (tiles) y está ligeramente desplazada respecto a las otras. Esto permite que cada punto del espacio se asocie a varios tiles, uno por cada rejilla.\n",
        "\n",
        "Para un estado dado, representado con un punto, se determina en qué teselas cae en cada una de las rejillas. Esto permite definir un vector binario (el vector de características que definíamos antes), **$x(s,a)$**, donde cada componente indica si un tile específico está activo (por ejemplo, con valor 1) o no (valor 0). La mayoría de componentes son 0 y unas pocas son 1, correspondientes a los tiles activos).\n",
        "\n",
        "Siguiendo el notebook `AproximacionFuncionesLineales.ipynb` de las prácticas de la asignatura, utilizamos el wrapper desarrollado, que discretiza el espacio de observaciones de dos dimensiones de Mountain Car."
      ],
      "metadata": {
        "id": "8T3pxqK00RIQ"
      }
    },
    {
      "cell_type": "code",
      "source": [
        "env = gym.make(\"MountainCar-v0\", render_mode=\"rgb_array\")\n",
        "env.reset(seed=10)\n",
        "\n",
        "# https://gymnasium.farama.org/tutorials/gymnasium_basics/implementing_custom_wrappers/\n",
        "\n",
        "\n",
        "# Definimos una clase que hereda de gym.ObservationWrapper, la cual nos permite modificar las observaciones que devuelve el entorno.\n",
        "\n",
        "class TileCodingEnv(ObservationWrapper):\n",
        "    \"\"\"\n",
        "    TileCodingEnv es un envoltorio para un entorno Gym que aplica la técnica de Tile Coding.\n",
        "    Esta técnica discretiza observaciones continuas en múltiples rejillas (tilings) desplazadas,\n",
        "    permitiendo representar el espacio de estados de forma que se faciliten la generalización y el aprendizaje.\n",
        "    \"\"\"\n",
        "\n",
        "    def __init__(self, env, bins, low, high, n=4):\n",
        "        \"\"\"\n",
        "        Inicializa el entorno env con tile coding.\n",
        "\n",
        "        Parámetros:\n",
        "        - env: entorno original de Gym.\n",
        "        - bins: array o lista con el número de intervalos (bins) que hay que particionar cada dimensión.\n",
        "        - low: array con el límite inferior para cada dimensión.\n",
        "        - high: array con el límite superior para cada dimensión.\n",
        "        - n: número de tilings (rejillas) a crear (por defecto 4).\n",
        "\n",
        "        Se llama al método _create_tilings para generar las rejillas desplazadas.\n",
        "        \"\"\"\n",
        "        super().__init__(env)  # Llama al constructor de la clase padre ObservationWrapper.\n",
        "\n",
        "        # Guardamos atributos útiles para calcular las features solo una vez.\n",
        "        self.bins = bins              # Ej.: np.array([10, 10])\n",
        "        self.n_tilings = n            # Número de tilings.\n",
        "        self.tile_size = int(np.prod(bins))  # Número de celdas en cada tiling.\n",
        "        self.last_active_features = None     # Aquí se guardarán las features activas de la última observación\n",
        "\n",
        "        self._high = high\n",
        "        self._low = low\n",
        "\n",
        "        self.tilings = self._create_tilings() # (bins, high, low, n)  # Crea y almacena las tilings.\n",
        "\n",
        "        # el vector de observación tendrá C componentes. Por ejemplo, para 2 dimensiones × 4 tilings = C = 8.\n",
        "        self.observation_space = gym.spaces.MultiDiscrete(nvec=bins.tolist()*n)\n",
        "\n",
        "\n",
        "\n",
        "    def observation(self, obs):  # Es necesario sobreescribir este método de ObservationWrapper\n",
        "        \"\"\"\n",
        "        Transforma una observación continua en una representación discreta usando tile coding.\n",
        "\n",
        "        Parámetro:\n",
        "        - obs: observación continua proveniente del entorno.\n",
        "\n",
        "        Para cada tiling en self.tilings, se determina el índice (bin) para cada dimensión usando np.digitize.\n",
        "        Se devuelve una lista de tuplas de índices, una por cada tiling.\n",
        "        Antes de retornar, se calcula y almacena en self.last_active_features el conjunto de índices\n",
        "        activos (flattened) usando _get_active_features().\n",
        "\n",
        "        Retorna:\n",
        "        - indices: lista de tuplas de índices, una por cada tiling.\n",
        "\n",
        "        \"\"\"\n",
        "        indices = []  # Lista que almacenará los índices discretizados para cada tiling.\n",
        "        for t in self.tilings:\n",
        "            # Para cada tiling 't', se calcula el índice en el que se encuentra cada componente de la observación.\n",
        "            tiling_indices = tuple(np.digitize(i, b) for i, b in zip(obs, t))\n",
        "            indices.append(tiling_indices)  # Se agrega la tupla de índices correspondiente a la tiling actual.\n",
        "\n",
        "        # Calcula y guarda las features activas a partir de los índices obtenidos.\n",
        "        self.last_active_features = self._get_active_features(indices)\n",
        "        return indices # Retorna la lista de índices de todas las tilings.\n",
        "\n",
        "\n",
        "    def _get_active_features(self, tiles):\n",
        "        \"\"\"\n",
        "        Método privado para calcular los índices (features) activos en la función aproximada.\n",
        "\n",
        "        Parámetro:\n",
        "        - tiles: lista de tuplas (una por tiling) obtenida de observation(), donde cada tupla\n",
        "          contiene los índices discretizados para cada dimensión.\n",
        "\n",
        "        La función realiza lo siguiente:\n",
        "          1. Convierte cada tupla de índices a un índice plano usando np.ravel_multi_index(tile, bins).\n",
        "            - Dado que `tile` es una tupla de índices - por ejemplo, `(3, 5)` , y\n",
        "            - dado que `bins` indica las particiones en cada dimensión - por ejemplo `bins = [10, 10]``\n",
        "            - entonces `(3, 5)` se mapea a  3*10 + 5 = 35\n",
        "            - Este índice plano identifica de forma única una celda dentro de una tiling.\n",
        "\n",
        "          2. Asigna a cada tiling un bloque distinto en el vector de parámetros, de forma que:\n",
        "             feature = (índice del tiling * tile_size) + índice plano.\n",
        "             - Por ejemplo, con dos tilings, si en ambos se selecccionara el tile `(3, 5)`\n",
        "             - Para el tiling 0 (i = 0), el flat_index será 35 (como se ha calculado antes)\n",
        "             - Pero para el tiling 1 (i=1), el flat_index será 1*100+35=135\n",
        "\n",
        "        Retorna:\n",
        "        - features: lista de índices únicos (enteros) que indican las características activas.\n",
        "        \"\"\"\n",
        "        features = []\n",
        "        for i, tile in enumerate(tiles):\n",
        "            # Convierte la tupla 'tile' a un índice plano.\n",
        "            flat_index = np.ravel_multi_index(tile, self.bins)\n",
        "            # Asigna a cada tiling un bloque único: para el tiling i, los índices van desde i*tile_size hasta (i+1)*tile_size - 1.\n",
        "            feature = i * self.tile_size + flat_index\n",
        "            features.append(feature)\n",
        "        return features\n",
        "\n",
        "\n",
        "\n",
        "    def _create_tilings(self): # , bins, high, low, n):\n",
        "        \"\"\"\n",
        "        Crea 'n' tilings (rejillas) desplazadas para el tile coding.\n",
        "\n",
        "        Parámetros:\n",
        "        - bins: número de intervalos (bins) en cada dimensión.\n",
        "        - high: array con el límite superior para cada dimensión.\n",
        "        - low: array con el límite inferior para cada dimensión.\n",
        "        - n: número de tilings a crear.\n",
        "\n",
        "        El proceso consiste en:\n",
        "         1. Generar un vector de desplazamientos base (displacement_vector) para cada dimensión.\n",
        "         2. Para cada tiling, se ajustan los límites 'low' y 'high' añadiéndoles un pequeño desplazamiento aleatorio.\n",
        "         3. Se calculan los tamaños de los segmentos en cada dimensión (segment_sizes).\n",
        "         4. Se determinan desplazamientos específicos para cada dimensión y se aplican a los límites.\n",
        "         5. Finalmente, se generan los buckets (límites discretos) para cada dimensión usando np.linspace.\n",
        "\n",
        "        Retorna:\n",
        "        - tilings: una lista donde cada elemento es una tiling (lista de arrays de buckets para cada dimensión).\n",
        "        \"\"\"\n",
        "        # Se genera un vector de desplazamientos en cada dimensión en base a los números impares.\n",
        "        # P.e. Si hay 2 dimensiones (len(bins) == 2): np.arange(1, 2 * 2, 2) -> np.arange(1, 4, 2) devuelve [1, 3]\n",
        "        #      Si la dimensión 1 se desplaza en 1 unidad, en la dimensión 2 se desplazará en 3 unidades.\n",
        "        # P.e. Si hay 3 dimensiones (len(bins) == 3): np.arange(1, 2 * 3, 2) -> np.arange(1, 6, 2) devuelve [1, 3, 5]\n",
        "        # P.e. Si hay 4 dimensiones (len(bins) == 4): np.arange(1, 2 * 4, 2) -> np.arange(1, 8, 2) devuelve [1, 3, 5, 7]\n",
        "        # Y así sucesivamente.\n",
        "        # displacement_vector se ajusta automáticamente generando un array de números impares\n",
        "        # Estos valores se usan posteriormente para calcular los desplazamientos específicos en cada dimensión al crear las tilings (rejillas).\n",
        "        # ¿Por qué esos valores? Porque son los recomendados: los primeros números impares.\n",
        "        displacement_vector = np.arange(1, 2 * len(bins), 2)\n",
        "\n",
        "\n",
        "        tilings = []  # Lista que almacenará todas las tilings generadas.\n",
        "        for i in range(0, self.n_tilings):\n",
        "            # Para cada tiling 'i', se calculan nuevos límites 'low_i' y 'high_i' con un desplazamiento aleatorio.\n",
        "            # El desplazamiento aleatorio se basa en el 20% de los límites originales.\n",
        "            low_i = self._low  # - random.random() * 0.2 * low\n",
        "            high_i = self._high # + random.random() * 0.2 * high\n",
        "\n",
        "            # Vamos a calcular el desplazamiento específico para cada dimensión y cada mosaico.\n",
        "\n",
        "            # Antes calculamos displacement_vector, que nos indica el desplazamiento en cada dimensión.\n",
        "            # Como tenemos varios mosaicos, cada uno se tendrá que desplazar\n",
        "            # en la mismas cantidades con respecto al mosaico anterior.\n",
        "            # Esto se puede conseguir multiplicando el displacement_vector por el número de mosaico (i),\n",
        "            # pero se toma el módulo n (número total de mosaicos).\n",
        "            # De esta forma el desplazamiento de cada mosaico es diferente, dentro del rango [0, n-1]\n",
        "\n",
        "            # P.e. Para n=4 mosaicos, y dos dimensiones, los vectores de desplazamiento de cada mosaico son:\n",
        "            # i = 1: [1, 3] = [1, 3] * 1 % 4 = [1, 3] % 4\n",
        "            # i = 2: [2, 2] = [1, 3] * 2 % 4 = [2, 6] % 4\n",
        "            # i = 3: [3, 1] = [1, 3] * 3 % 4 = [3, 9] % 4\n",
        "            # i = 4: [0, 0] = [1, 3] * 4 % 4 = [4, 12] % 4\n",
        "            displacements = displacement_vector * i % self.n_tilings\n",
        "\n",
        "            # Pero hay que escalar el desplazamiento a unidades reales en cada dimensión.\n",
        "            # Para ello necesitamos calcular el tamaño de cada segmento (intervalo) en cada dimensión.\n",
        "            segment_sizes = (high_i - low_i) / self.bins\n",
        "\n",
        "            # Entonces usamos una fracción del tamaño del segmento para desplazar cada mosaico.\n",
        "            # La fracción del tamaño del segmento viene dado por el tamaño del segmento dividido por el número de mosaicos.\n",
        "            # Por ejemplo, si el tamaño de la celda es 0.5 en la primera dimensión y se consideran n=4 mosaicos, la fracción es 0.5/4=0.125\n",
        "            # Según se ha calculado anteriormente, en el vector de desplazamiento,\n",
        "            # la primera dimensión se desplaza en 1, 2, 3 y 0 unidades para los mosaicos 1, 2, 3, y 4, respectivamente.\n",
        "            # Como la unidad es 0.125, entonces la primera dimensión de cada mosaico se desplaza en las cantidades:\n",
        "            # 0.125 = 1 * 0.125,  0.25 = 2 * 0.125, 0.375 = 3 * 0.125, y  0 = 0 * 0.125.\n",
        "            # Lo mismo se haría con el resto de dimensiones. En forma vectorial:\n",
        "            # Es decir, el desplazamiento de cada mosaico en la primera dimensión es:\n",
        "            # Tiling 1, [1, 3]: [1 * 0.125, 3 * 0.05] = [0.125, 0.15]\n",
        "            # Tiling 2, [2, 2]: [2 * 0.125, 2 * 0.05] = [0.25, 0.10]\n",
        "            # Tiling 3, [3, 1]: [3 * 0.125, 1 * 0.05] = [0.375, 0.05]\n",
        "            # Tiling 4  [0, 0]: [0 * 0.125, 0 * 0.05] = [0, 0]\n",
        "            displacements = displacements * (segment_sizes / self.n_tilings)\n",
        "\n",
        "            dlow_i = low_i + displacements\n",
        "            dhigh_i = high_i + displacements\n",
        "            # print(f\"Tiling {i}: Se aplican los desplazamientos {displacements} a los límites inferiores {low_i}->{dlow_i} y superiores {high_i}->{dhigh_i}.\")\n",
        "\n",
        "            # Para cada dimensión, se crean los buckets que dividen el intervalo de low_i a high_i en 'bins' partes,\n",
        "            # generando 'l-1' puntos (límites) para cada dimensión.\n",
        "            buckets_i = [np.linspace(j, k, l - 1) for j, k, l in zip(dlow_i, dhigh_i, bins)]\n",
        "\n",
        "            # Se añade la tiling actual (lista de buckets para cada dimensión) a la lista de tilings.\n",
        "            tilings.append(buckets_i)\n",
        "\n",
        "        return tilings  # Retorna la lista completa de tilings."
      ],
      "metadata": {
        "id": "Djh1soRStyUs"
      },
      "execution_count": null,
      "outputs": []
    },
    {
      "cell_type": "markdown",
      "source": [
        "Vamos a discretizar el espacio de estados de Mountain Car usando 10 tiles, donde estos se encuentran superpuestos, consiguiendo así que estados cercanos, no se representen como muy distintos tras realizar la discretización. Para cada tile, usaremos 20 bins por dimensión, obteniendo un mosaico de 400 celdas, buscando así no discretizar demasiado, y no perder tanta información así. El nuevo entorno será `tcenv`."
      ],
      "metadata": {
        "id": "4eRI97SM3DX4"
      }
    },
    {
      "cell_type": "code",
      "source": [
        "tilings = 10  # Número de mosaicos\n",
        "bins = np.array([20, 20])  # Número de intervalos en cada dimensión. 20 en cada una\n",
        "low = env.observation_space.low\n",
        "high = env.observation_space.high\n",
        "tcenv = TileCodingEnv(env, bins=bins, low=low, high=high, n=tilings)"
      ],
      "metadata": {
        "id": "Uz4nU8jtt5Bl"
      },
      "execution_count": null,
      "outputs": []
    },
    {
      "cell_type": "markdown",
      "source": [
        "Ploteamos el siguiente ejemplo para hacernos una idea de como funciona el wrapper:"
      ],
      "metadata": {
        "id": "PJjQQHFu354V"
      }
    },
    {
      "cell_type": "code",
      "source": [
        "print(f\"El espacio de observaciones original es: {env.observation_space}, \\n\\\n",
        "Un estado para este espacio original es: {env.step(env.action_space.sample())}\")\n",
        "print(f\"\\nEl espacio de estados modificado es: {tcenv.observation_space}. Mosaicos: {tcenv.n_tilings} \\n\\\n",
        "Un estado para este nuevo espacio es: {tcenv.step(tcenv.action_space.sample())[0]} \\n\\\n",
        "Cada pareja es la 'celda' correspondiente a cada mosaico\")\n",
        "print(f\"Las caracterísiticas observadas han sido {tcenv.last_active_features} sobre {np.prod(tcenv.bins)*tcenv.n_tilings} parámetros\")"
      ],
      "metadata": {
        "id": "JBi4kGfyuGHQ",
        "colab": {
          "base_uri": "https://localhost:8080/"
        },
        "outputId": "547fe7fd-f0a7-4ad1-d0d1-18b02a15bafa"
      },
      "execution_count": null,
      "outputs": [
        {
          "output_type": "stream",
          "name": "stdout",
          "text": [
            "El espacio de observaciones original es: Box([-1.2  -0.07], [0.6  0.07], (2,), float32), \n",
            "Un estado para este espacio original es: (array([-4.0864372e-01,  1.5592630e-04], dtype=float32), -1.0, False, False, {})\n",
            "\n",
            "El espacio de estados modificado es: MultiDiscrete([20 20 20 20 20 20 20 20 20 20 20 20 20 20 20 20 20 20 20 20]). Mosaicos: 10 \n",
            "Un estado para este nuevo espacio es: [(8, 10), (8, 9), (8, 9), (8, 9), (8, 9), (8, 9), (8, 9), (8, 9), (8, 9), (8, 9)] \n",
            "Cada pareja es la 'celda' correspondiente a cada mosaico\n",
            "Las caracterísiticas observadas han sido [170, 569, 969, 1369, 1769, 2169, 2569, 2969, 3369, 3769] sobre 4000 parámetros\n"
          ]
        }
      ]
    },
    {
      "cell_type": "markdown",
      "source": [
        "## Definción del agente"
      ],
      "metadata": {
        "id": "Ozk4JStPuOGa"
      }
    },
    {
      "cell_type": "markdown",
      "source": [
        "Una vez que hemos discretizado el espacio de observaciones, vamos a ver cómo es el diseño del agente, para que use **SARSA semi-gradiente**. La política que usa este método es una $\\epsilon$-greedy, tan vista en la asignatura. Lo interesante del método, como viene siendo habitual, es su forma de obtener los valores que determinan la política.\n",
        "\n",
        "La **regla de actualización general**, consiste en la siguiente ecuación de actualización de los pesos **$w$**:\n",
        "\n",
        "$$\n",
        "w ← w + \\alpha [R + \\gamma \\hat{q}(S', A', w) - \\hat{q}(S, A, w)] \\nabla_w \\hat{q}(S, A, w)\n",
        "$$\n",
        "\n",
        "Donde $\\alpha$ es la tasa de aprendizaje, $\\gamma$ es el factor de descuento, y **$R$** es la recompensa obtenida tras la transición $(S, A) → (S', A')$.\n",
        "\n",
        "Como comentábamos al inicio del notebook, la **función aproximada** que estamos asumiendo es $\\hat{q}(s, a, w) = w^\\intercal x(s, a)$, donde **$x(s, a)$** es el **vector de características** que obtenemos gracias al tiling anterior.\n",
        "\n",
        "Por último, se necesita calcular $\\nabla_w \\hat{q}(S, A, w)$, pero dado que $\\hat{q}$ es lineal, la derivada con respecto a $w$ es simplemente:\n",
        "\n",
        "$$\n",
        "\\nabla_w\\hat{q}(S, A, w) = x(s,a)\n",
        "$$\n",
        "\n",
        "Por tanto, tenemos que los pesos se actualizan:\n",
        "\n",
        "$$\n",
        "w ← w + \\alpha [R + \\gamma \\hat{q}(S', A', w) - \\hat{q}(S, A, w)] x(S, A)\n",
        "$$\n",
        "\n",
        "No obstante, antes hablábamos de la utilidad de usar **tiling encoding** para la discretización de los estados. Entre otras, una de ellas es que, el vector **$x(s, a)$** es un vector compuesto por 1s en los índices de los tiles activos (10), y 0s en el resto, por lo que la actualización de los pesos sólo se lleva a cabo para aquellos correspondientes con los índices de los tilings activos."
      ],
      "metadata": {
        "id": "GiyqNsyO3_uT"
      }
    },
    {
      "cell_type": "code",
      "source": [
        "class AgentSARSA_semigrad:\n",
        "  def __init__(self,\n",
        "               tcenv:TileCodingEnv, # entorno discretizado con tiling coding\n",
        "               epsilon:float,\n",
        "               max_steps:int,\n",
        "               gamma:float,\n",
        "               alpha:float,\n",
        "               decay:bool\n",
        "               ):\n",
        "\n",
        "    # Inicializamos atributos del agente\n",
        "    self.tcenv = tcenv\n",
        "\n",
        "    # Número de acciones del entorno original\n",
        "    self.n_actions = self.tcenv.env.action_space.n\n",
        "    # Número total de caracterísitcas en el aproximador lineal\n",
        "    self.total_features = self.tcenv.n_tilings * np.prod(self.tcenv.bins)\n",
        "    # Inicializamos los pesos (por ejemplo, a cero)\n",
        "    self.weights = np.zeros((self.total_features, self.n_actions))\n",
        "\n",
        "    self.epsilon = epsilon\n",
        "    self.max_steps = max_steps\n",
        "    self.gamma = gamma\n",
        "    self.alpha = alpha\n",
        "    self.alpha_ini = alpha\n",
        "    self.decay = decay\n",
        "\n",
        "  def q_value(self, active_features, a):\n",
        "    return self.weights[active_features, a].sum()\n",
        "\n",
        "  def compute_q_values(self, active_features):\n",
        "    q_vals = np.zeros(self.n_actions)\n",
        "    for a in range(self.n_actions):\n",
        "        q_vals[a] = self.q_value(active_features, a)\n",
        "    return q_vals\n",
        "\n",
        "  def epsilon_greedy_policy(self, active_features):\n",
        "    # Obtenemos los Q-values para cada acción, y determinar, en el caso greedy, aquella que tenga mayor valor\n",
        "    q_vals = self.compute_q_values(active_features)\n",
        "    # Con probabilidad epsilon se escoge una acción aleatoria (exploración)\n",
        "    if np.random.random() < self.epsilon:\n",
        "      return self.tcenv.env.action_space.sample()\n",
        "    else:\n",
        "      # Con probabilidad 1-epsilon se escoge la mejor acción (explotación)\n",
        "      return np.argmax(q_vals)\n",
        "\n",
        "  def greed_action(self, active_features):\n",
        "    q_vals = self.compute_q_values(active_features)\n",
        "    return np.argmax(q_vals)\n",
        "\n",
        "  #def decay_epsilon(self):\n",
        "  #  self.epsilon = max(self.epsilon * self.epsilon_decay, self.epsilon_min)\n",
        "\n",
        "  #def decay_alpha(self):\n",
        "  #  self.alpha = max(self.alpha * self.alpha_decay, self.alpha_min)\n",
        "\n",
        "\n",
        "  def update(self, active_features, action, reward, active_features_next, next_action, done, truncated):\n",
        "    # Calcular Q(s,a) para el estado actual y la acción tomada\n",
        "    q_sa = self.q_value(active_features, action)\n",
        "    # Si no es estado terminal, calcular Q(s',a')\n",
        "    if not (done or truncated):\n",
        "        q_sap = self.q_value(active_features_next, next_action)\n",
        "        delta = reward + self.gamma * q_sap - q_sa\n",
        "    else:\n",
        "        delta = reward - q_sa\n",
        "\n",
        "    # Actualizar los pesos solo en las features activas para la acción 'a'\n",
        "    for i in active_features:\n",
        "        self.weights[i, action] += self.alpha * delta"
      ],
      "metadata": {
        "id": "2758-ajWuVYm"
      },
      "execution_count": null,
      "outputs": []
    },
    {
      "cell_type": "markdown",
      "source": [
        "## Esquema general del aprendizaje episódico (Algoritmo)"
      ],
      "metadata": {
        "id": "F_3BQHXfugiB"
      }
    },
    {
      "cell_type": "markdown",
      "source": [
        "El esquema general de aprendizaje, es similar al de SARSA, pero adaptado para trabajar con vectores de características, en lugar de con estados. Una de las cosas a destacar es el uso de decaimiento, en este caso no para $\\epsilon$, sino para $\\alpha$. Como veíamos en el apartado anterior, un factor clave en la actualización de los pesos $w$, es el factor de aprendizaje $\\alpha$. Aplicar un factor de decaimiento del alpha, va a hacer que, en instantes iniciales, los valores de $Q$ cambien brucamente, para luego, con el paso del tiempo, ir reduciéndose para así estabilizar la política y la actualización de estos valores."
      ],
      "metadata": {
        "id": "eLSGfg6yAGGy"
      }
    },
    {
      "cell_type": "code",
      "source": [
        "def train(agent, num_episodes):\n",
        "  returns = []  # Para guardar la recompensa total de cada episodio\n",
        "  len_episodes = [] # Para guardar la longitud de los episodios\n",
        "  step_display = num_episodes / 10\n",
        "  np.random.seed(SEED)\n",
        "\n",
        "  for episode in tqdm(range(num_episodes)):\n",
        "    # Resetear el entorno (Gymnasium devuelve (obs, info))\n",
        "    obs, info = agent.tcenv.reset(seed=SEED)\n",
        "    # El método observation() del wrapper actualiza internamente tcenv.last_active_features.\n",
        "    active_features = agent.tcenv.last_active_features\n",
        "    # Seleccionar acción inicial usando epsilon-greedy\n",
        "    a = agent.epsilon_greedy_policy(active_features)\n",
        "\n",
        "    # Recompensa total del episodio\n",
        "    total_reward = 0.0\n",
        "    # Longitud del episodio\n",
        "    len_episode = 0\n",
        "    done = False\n",
        "\n",
        "    # Aplicamos decaimiento de la epsilon a partir del episodio 1000\n",
        "    if agent.decay:\n",
        "      agent.alpha = min(agent.alpha_ini, 1/(1+0.1*episode))#min(agent.epsilon, 200/(episode+1))\n",
        "\n",
        "    for t in range(agent.max_steps):\n",
        "\n",
        "      # Ejecutar la acción 'a' y obtener la siguiente observación\n",
        "      obs_next, reward, done, truncated, info = agent.tcenv.step(a)\n",
        "      total_reward += reward\n",
        "\n",
        "      # Después de step, tcenv.last_active_features se actualiza para el nuevo estado s' (active_features es el state (S) de los metodos tabulares)\n",
        "      active_features_next = agent.tcenv.last_active_features\n",
        "\n",
        "      # Seleccionar la siguiente acción a' (si el episodio continúa)\n",
        "      if not (done or truncated):\n",
        "        a_next = agent.epsilon_greedy_policy(active_features_next)\n",
        "      else:\n",
        "        a_next = None  # No se usa si es terminal\n",
        "\n",
        "      # Actualizamos los pesos\n",
        "      agent.update(active_features, a, reward, active_features_next, a_next, done, truncated)\n",
        "\n",
        "      if done or truncated:\n",
        "        break\n",
        "\n",
        "      # Actualiza estado y acción para el siguiente paso\n",
        "      active_features = active_features_next\n",
        "      a = a_next\n",
        "      len_episode += 1\n",
        "\n",
        "    # Almacenamos la recompensa del episodio\n",
        "    returns.append(total_reward)\n",
        "    # Almacenamos la longitud del episodio\n",
        "    len_episodes.append(len_episode)\n",
        "    # Para mostrar la evolución.  Comentar si no se quiere mostrar\n",
        "    if episode % step_display == 0 and episode != 0:\n",
        "      print(f\"Episode {episode+1}/{num_episodes}, total reward: {total_reward}; len_episode: {len_episode}; epsilon: {agent.epsilon}\")\n",
        "\n",
        "  # Después de entrenar, puedes evaluar la política (por ejemplo, sin exploración)\n",
        "  avg_return = np.mean(returns)\n",
        "  print(f\"Average return over {num_episodes} episodes: {avg_return}\")\n",
        "  return returns, len_episodes"
      ],
      "metadata": {
        "id": "zZZmzHpgugsc"
      },
      "execution_count": null,
      "outputs": []
    },
    {
      "cell_type": "markdown",
      "source": [
        "Desarrollamos esta función para, una vez entrenado el agente, evaluar su aprendizaje en el entorno, mediante un video."
      ],
      "metadata": {
        "id": "Wm2e1TBfHxvG"
      }
    },
    {
      "cell_type": "code",
      "source": [
        "def run_episode_greedy(agent, max_steps=200):\n",
        "  frames = []\n",
        "  obs, info = agent.tcenv.reset(seed=SEED)\n",
        "\n",
        "  active_features = agent.tcenv.last_active_features\n",
        "  a = agent.greed_action(active_features)\n",
        "\n",
        "  total_reward = 0.0\n",
        "  len_episode = 0\n",
        "\n",
        "  for t in range(max_steps):\n",
        "    frame = agent.tcenv.env.render()\n",
        "    frames.append(frame)\n",
        "\n",
        "    obs_next, reward, done, truncated, info = agent.tcenv.step(a)\n",
        "    total_reward += reward\n",
        "    active_features_next = agent.tcenv.last_active_features\n",
        "    if not (done or truncated):\n",
        "      a_next = agent.greed_action(active_features_next)\n",
        "    else:\n",
        "      a_next = None  # No se usa si es terminal\n",
        "    if done or truncated:\n",
        "      break\n",
        "    active_features = active_features_next\n",
        "    a = a_next\n",
        "    len_episode += 1\n",
        "\n",
        "  return total_reward, len_episode, frames"
      ],
      "metadata": {
        "id": "nvIFd__BMZNM"
      },
      "execution_count": null,
      "outputs": []
    },
    {
      "cell_type": "markdown",
      "source": [
        "## Funciones auxiliares"
      ],
      "metadata": {
        "id": "0s63M4nUHm4n"
      }
    },
    {
      "cell_type": "markdown",
      "source": [
        "Funciones comúnes que usaremos en todos los notebooks. Serán para visualizar la política greedy final obtenida, el vídeo del comportamiento final del agente, así como las gráficas que nos provean de información intuitiva de la evolución del proceso de aprendizaje."
      ],
      "metadata": {
        "id": "m-NXn7khH6yz"
      }
    },
    {
      "cell_type": "code",
      "source": [
        "import imageio\n",
        "\n",
        "def frames_to_gif(frames, filename=\"MountainCar_sarsa.gif\"):\n",
        "    \"\"\"\n",
        "    Crea un archivo GIF a partir de una lista de fotogramas.\n",
        "\n",
        "    Parámetros:\n",
        "      - frames (list): Lista de fotogramas (imágenes) capturados del entorno.\n",
        "      - filename (str): Nombre del archivo GIF resultante.\n",
        "\n",
        "    Retorna:\n",
        "      - str: Nombre del archivo GIF creado.\n",
        "    \"\"\"\n",
        "    # Abrir un escritor de GIF con imageio.\n",
        "    with imageio.get_writer(filename, mode='I') as writer:\n",
        "        # Agregar cada fotograma al GIF.\n",
        "        for frame in frames:\n",
        "            writer.append_data(frame)\n",
        "    return filename"
      ],
      "metadata": {
        "id": "04AID2CUKmJe"
      },
      "execution_count": null,
      "outputs": []
    },
    {
      "cell_type": "code",
      "source": [
        "import base64\n",
        "from IPython.display import HTML\n",
        "\n",
        "def display_gif(gif_path):\n",
        "    \"\"\"\n",
        "    Muestra un GIF en Google Colab.\n",
        "\n",
        "    Parámetros:\n",
        "      - gif_path (str): Ruta del archivo GIF.\n",
        "\n",
        "    Retorna:\n",
        "      - HTML: Objeto HTML que contiene el GIF incrustado.\n",
        "    \"\"\"\n",
        "    # Abrir el archivo GIF en modo binario.\n",
        "    with open(gif_path, 'rb') as f:\n",
        "        video = f.read()\n",
        "    # Convertir el contenido del GIF a una cadena Base64.\n",
        "    b64 = base64.b64encode(video)\n",
        "    # Retornar el objeto HTML que muestra el GIF.\n",
        "    return HTML(f'')"
      ],
      "metadata": {
        "id": "g3t-46FiKynO"
      },
      "execution_count": null,
      "outputs": []
    },
    {
      "cell_type": "code",
      "source": [
        "def plot(list_stats):\n",
        "  '''\n",
        "    Plotea la proporción de recompensas a lo largo de los episodios.\n",
        "  '''\n",
        "  # Creamos una lista de índices para el eje x\n",
        "  indices = list(range(len(list_stats)))\n",
        "\n",
        "  # Creamos el gráfico\n",
        "  plt.figure(figsize=(10, 4))\n",
        "  plt.plot(indices, list_stats)\n",
        "\n",
        "  # Añadimos título y etiquetas\n",
        "  plt.title('Proporción de recompensas')\n",
        "  plt.xlabel('Episodio')\n",
        "  plt.ylabel('Proporción')\n",
        "\n",
        "  # Mostramos el gráfico\n",
        "  plt.grid(True)\n",
        "  plt.show()\n",
        "\n",
        "def plot_comparative(dict_stats):\n",
        "  '''\n",
        "    Plotea la proporción de recompensas a lo largo de los episodios de cada elemento de la lista.\n",
        "    list_stats: Es un diccionario, donde cada clave contiene la información de un agente.\n",
        "  '''\n",
        "  # Creamos una lista de índices para el eje x\n",
        "  indices = list(range(len(dict_stats['decay=True'])))\n",
        "  plt.figure(figsize=(10, 4))\n",
        "\n",
        "  for key in dict_stats:\n",
        "    plt.plot(indices, dict_stats[key], label=key)\n",
        "\n",
        "  # Añadimos título y etiquetas\n",
        "  plt.title('Proporción de recompensas')\n",
        "  plt.xlabel('Episodio')\n",
        "  plt.ylabel('Proporción')\n",
        "  plt.legend()\n",
        "\n",
        "  # Mostramos el gráfico\n",
        "  plt.grid(True)\n",
        "  plt.show()"
      ],
      "metadata": {
        "id": "3oUyJXhVNEGe"
      },
      "execution_count": null,
      "outputs": []
    },
    {
      "cell_type": "code",
      "source": [
        "from scipy import stats\n",
        "\n",
        "def moving_average(data, window_size):\n",
        "    '''\n",
        "      Calcula la media móvil de una serie de datos, para una window_size dada.\n",
        "    '''\n",
        "    return np.convolve(data, np.ones(window_size)/window_size, mode='valid')\n",
        "\n",
        "def plot_len_tendency(list_len):\n",
        "  '''\n",
        "    Plotea la longitud del episodio a lo largo de los episodios, junto con la media\n",
        "    móvil, para visualizar la tendencia.\n",
        "  '''\n",
        "\n",
        "  plt.figure(figsize=(10, 4))\n",
        "\n",
        "  plt.plot(list_len, alpha=0.3, color='green')\n",
        "\n",
        "  # Curva de media móvil\n",
        "  window = 100\n",
        "  avg = moving_average(list_len, window_size=window)\n",
        "  plt.plot(range(len(avg)), avg, label=\"Longitud del episodio\", color='darkgreen', linewidth=2)\n",
        "\n",
        "  plt.title('Longitud de los episodios')\n",
        "  plt.xlabel('Episodio')\n",
        "  plt.ylabel('Longitud')\n",
        "  plt.legend()\n",
        "\n",
        "  plt.grid(True)\n",
        "  plt.show()\n",
        "\n",
        "def plot_len_comparative(dict_len):\n",
        "  '''\n",
        "    Plotea la longitud del episodio a lo largo de los episodios, junto con la media\n",
        "    móvil, para visualizar la tendencia, de cada elemento del diccionario.\n",
        "  '''\n",
        "  color = ['darkred', 'darkblue', 'darkgreen']\n",
        "\n",
        "  plt.figure(figsize=(10, 4))\n",
        "  # Curva de media móvil\n",
        "  window = 100\n",
        "  for i, key in enumerate(dict_len):\n",
        "    plt.plot(dict_len[key], alpha=0.2, color=color[i])\n",
        "    avg = moving_average(dict_len[key], window_size=window)\n",
        "    plt.plot(range(len(avg)), avg, label=key, linewidth=2, color=color[i])\n",
        "\n",
        "  plt.title('Longitud de los episodios')\n",
        "  plt.xlabel('Episodio')\n",
        "  plt.ylabel('Longitud')\n",
        "  plt.legend()\n",
        "\n",
        "  plt.grid(True)\n",
        "  plt.show()"
      ],
      "metadata": {
        "id": "gzrJgyP_NEGf"
      },
      "execution_count": null,
      "outputs": []
    },
    {
      "cell_type": "markdown",
      "source": [
        "## Entrenamiento"
      ],
      "metadata": {
        "id": "ssjM9NtHPwwr"
      }
    },
    {
      "cell_type": "markdown",
      "source": [
        "Vamos a entrenar al agente en el entorno de Mountain Car. No obstante, ya no vamos a probar con un número tan elevado de episodios, como sí que hacíamos en los experimentos con los métodos tabulares. En este caso vamos a probar con 10000 episodios.\n",
        "\n",
        "Además, vamos a evaluar la efectividad de aplicar decaimiento al $\\alpha$, para ver cómo se mejora el entrenamiento tras estabilizar este en los episodios finales, y priorizar una actualización más agresiva en los primeros episodios.\n",
        "\n",
        "En el agente con decay, empezaremos con un $\\alpha_0 = 0.1$, y el decaimiento, como veíamos en la implementación del esquema de entrenamiento episódico, será inversamente prorcional al número de episodios."
      ],
      "metadata": {
        "id": "k9NknGFlMOVO"
      }
    },
    {
      "cell_type": "code",
      "source": [
        "n_episodes = 10000\n",
        "\n",
        "agent = AgentSARSA_semigrad(tcenv=tcenv, epsilon=0.3, max_steps=200, gamma=0.99, alpha=0.1, decay=True)\n",
        "returns, len_episodes = train(agent, n_episodes)"
      ],
      "metadata": {
        "colab": {
          "base_uri": "https://localhost:8080/"
        },
        "id": "C6S7AOs74zgN",
        "outputId": "8cdddf44-a24e-45b7-a2d8-df07b9cc527d"
      },
      "execution_count": null,
      "outputs": [
        {
          "output_type": "stream",
          "name": "stderr",
          "text": [
            " 10%|█         | 1005/10000 [01:01<06:57, 21.54it/s]"
          ]
        },
        {
          "output_type": "stream",
          "name": "stdout",
          "text": [
            "Episode 1001/10000, total reward: -148.0; len_episode: 147; epsilon: 0.009900990099009901\n"
          ]
        },
        {
          "output_type": "stream",
          "name": "stderr",
          "text": [
            " 20%|██        | 2004/10000 [02:02<06:33, 20.30it/s]"
          ]
        },
        {
          "output_type": "stream",
          "name": "stdout",
          "text": [
            "Episode 2001/10000, total reward: -156.0; len_episode: 155; epsilon: 0.004975124378109453\n"
          ]
        },
        {
          "output_type": "stream",
          "name": "stderr",
          "text": [
            " 30%|███       | 3003/10000 [03:02<05:42, 20.42it/s]"
          ]
        },
        {
          "output_type": "stream",
          "name": "stdout",
          "text": [
            "Episode 3001/10000, total reward: -150.0; len_episode: 149; epsilon: 0.0033222591362126247\n"
          ]
        },
        {
          "output_type": "stream",
          "name": "stderr",
          "text": [
            " 40%|████      | 4005/10000 [03:57<04:29, 22.26it/s]"
          ]
        },
        {
          "output_type": "stream",
          "name": "stdout",
          "text": [
            "Episode 4001/10000, total reward: -154.0; len_episode: 153; epsilon: 0.0024937655860349127\n"
          ]
        },
        {
          "output_type": "stream",
          "name": "stderr",
          "text": [
            " 50%|█████     | 5003/10000 [04:51<04:07, 20.19it/s]"
          ]
        },
        {
          "output_type": "stream",
          "name": "stdout",
          "text": [
            "Episode 5001/10000, total reward: -148.0; len_episode: 147; epsilon: 0.001996007984031936\n"
          ]
        },
        {
          "output_type": "stream",
          "name": "stderr",
          "text": [
            " 60%|██████    | 6003/10000 [05:44<04:27, 14.93it/s]"
          ]
        },
        {
          "output_type": "stream",
          "name": "stdout",
          "text": [
            "Episode 6001/10000, total reward: -158.0; len_episode: 157; epsilon: 0.0016638935108153079\n"
          ]
        },
        {
          "output_type": "stream",
          "name": "stderr",
          "text": [
            " 70%|███████   | 7003/10000 [06:38<02:25, 20.57it/s]"
          ]
        },
        {
          "output_type": "stream",
          "name": "stdout",
          "text": [
            "Episode 7001/10000, total reward: -159.0; len_episode: 158; epsilon: 0.0014265335235378032\n"
          ]
        },
        {
          "output_type": "stream",
          "name": "stderr",
          "text": [
            " 80%|████████  | 8004/10000 [07:30<01:35, 20.90it/s]"
          ]
        },
        {
          "output_type": "stream",
          "name": "stdout",
          "text": [
            "Episode 8001/10000, total reward: -145.0; len_episode: 144; epsilon: 0.0012484394506866417\n"
          ]
        },
        {
          "output_type": "stream",
          "name": "stderr",
          "text": [
            " 90%|█████████ | 9005/10000 [08:24<00:44, 22.61it/s]"
          ]
        },
        {
          "output_type": "stream",
          "name": "stdout",
          "text": [
            "Episode 9001/10000, total reward: -146.0; len_episode: 145; epsilon: 0.0011098779134295228\n"
          ]
        },
        {
          "output_type": "stream",
          "name": "stderr",
          "text": [
            "100%|██████████| 10000/10000 [09:20<00:00, 17.85it/s]"
          ]
        },
        {
          "output_type": "stream",
          "name": "stdout",
          "text": [
            "Average return over 10000 episodes: -162.1193\n"
          ]
        },
        {
          "output_type": "stream",
          "name": "stderr",
          "text": [
            "\n"
          ]
        }
      ]
    },
    {
      "cell_type": "markdown",
      "source": [
        "Probamos el entrenamiento de otro agente que use un $\\alpha$ fijo, y evaluar la efectividad del decay."
      ],
      "metadata": {
        "id": "CxZ5fYbpNqYD"
      }
    },
    {
      "cell_type": "code",
      "source": [
        "agent_2 = AgentSARSA_semigrad(tcenv=tcenv, epsilon=0.3, max_steps=200, gamma=0.99, alpha=0.1, decay=False)\n",
        "returns_2, len_episodes_2 = train(agent, n_episodes)"
      ],
      "metadata": {
        "colab": {
          "base_uri": "https://localhost:8080/"
        },
        "id": "SOyJ06OZ4zoU",
        "outputId": "e24e8218-73c3-4d5b-8580-1f1428a416a7"
      },
      "execution_count": null,
      "outputs": [
        {
          "output_type": "stream",
          "name": "stderr",
          "text": [
            " 10%|█         | 1003/10000 [01:07<09:15, 16.20it/s]"
          ]
        },
        {
          "output_type": "stream",
          "name": "stdout",
          "text": [
            "Episode 1001/10000, total reward: -200.0; len_episode: 199; epsilon: 0.009900990099009901\n"
          ]
        },
        {
          "output_type": "stream",
          "name": "stderr",
          "text": [
            " 20%|██        | 2003/10000 [02:14<07:35, 17.54it/s]"
          ]
        },
        {
          "output_type": "stream",
          "name": "stdout",
          "text": [
            "Episode 2001/10000, total reward: -200.0; len_episode: 199; epsilon: 0.004975124378109453\n"
          ]
        },
        {
          "output_type": "stream",
          "name": "stderr",
          "text": [
            " 30%|███       | 3003/10000 [03:22<10:00, 11.66it/s]"
          ]
        },
        {
          "output_type": "stream",
          "name": "stdout",
          "text": [
            "Episode 3001/10000, total reward: -200.0; len_episode: 199; epsilon: 0.0033222591362126247\n"
          ]
        },
        {
          "output_type": "stream",
          "name": "stderr",
          "text": [
            " 40%|████      | 4004/10000 [04:29<05:50, 17.11it/s]"
          ]
        },
        {
          "output_type": "stream",
          "name": "stdout",
          "text": [
            "Episode 4001/10000, total reward: -200.0; len_episode: 199; epsilon: 0.0024937655860349127\n"
          ]
        },
        {
          "output_type": "stream",
          "name": "stderr",
          "text": [
            " 50%|█████     | 5003/10000 [05:36<05:41, 14.62it/s]"
          ]
        },
        {
          "output_type": "stream",
          "name": "stdout",
          "text": [
            "Episode 5001/10000, total reward: -200.0; len_episode: 199; epsilon: 0.001996007984031936\n"
          ]
        },
        {
          "output_type": "stream",
          "name": "stderr",
          "text": [
            " 60%|██████    | 6003/10000 [06:43<05:31, 12.05it/s]"
          ]
        },
        {
          "output_type": "stream",
          "name": "stdout",
          "text": [
            "Episode 6001/10000, total reward: -200.0; len_episode: 199; epsilon: 0.0016638935108153079\n"
          ]
        },
        {
          "output_type": "stream",
          "name": "stderr",
          "text": [
            " 70%|███████   | 7004/10000 [07:51<03:15, 15.31it/s]"
          ]
        },
        {
          "output_type": "stream",
          "name": "stdout",
          "text": [
            "Episode 7001/10000, total reward: -200.0; len_episode: 199; epsilon: 0.0014265335235378032\n"
          ]
        },
        {
          "output_type": "stream",
          "name": "stderr",
          "text": [
            " 80%|████████  | 8004/10000 [09:00<02:00, 16.57it/s]"
          ]
        },
        {
          "output_type": "stream",
          "name": "stdout",
          "text": [
            "Episode 8001/10000, total reward: -200.0; len_episode: 199; epsilon: 0.0012484394506866417\n"
          ]
        },
        {
          "output_type": "stream",
          "name": "stderr",
          "text": [
            " 90%|█████████ | 9002/10000 [10:07<01:24, 11.84it/s]"
          ]
        },
        {
          "output_type": "stream",
          "name": "stdout",
          "text": [
            "Episode 9001/10000, total reward: -200.0; len_episode: 199; epsilon: 0.0011098779134295228\n"
          ]
        },
        {
          "output_type": "stream",
          "name": "stderr",
          "text": [
            "100%|██████████| 10000/10000 [11:15<00:00, 14.81it/s]"
          ]
        },
        {
          "output_type": "stream",
          "name": "stdout",
          "text": [
            "Average return over 10000 episodes: -199.9826\n"
          ]
        },
        {
          "output_type": "stream",
          "name": "stderr",
          "text": [
            "\n"
          ]
        }
      ]
    },
    {
      "cell_type": "code",
      "source": [
        "dict_stats = {'decay=True': returns, 'decay=False': returns_2}\n",
        "dict_len = {'decay=True': len_episodes, 'decay=False': len_episodes_2}"
      ],
      "metadata": {
        "id": "BIXn4wlOCpmv"
      },
      "execution_count": null,
      "outputs": []
    },
    {
      "cell_type": "markdown",
      "source": [
        "Hemos aprovechado la función que plotea la tendencia de la longitud de los episodios para evaluar la tendencia de las recompensas (en este caso, hemos almacenado la recompensa por episodio, y no la promedio)."
      ],
      "metadata": {
        "id": "Xn8ztArVOmgh"
      }
    },
    {
      "cell_type": "code",
      "source": [
        "plot_len_comparative(dict_stats)"
      ],
      "metadata": {
        "colab": {
          "base_uri": "https://localhost:8080/",
          "height": 397
        },
        "id": "EDMRa1fESFsi",
        "outputId": "dfd089ef-0197-4f46-e9a1-3c4b5c227fee"
      },
      "execution_count": null,
      "outputs": [
        {
          "output_type": "display_data",
          "data": {
            "text/plain": [
              "<Figure size 1000x400 with 1 Axes>"
            ],
            "image/png": "[encoded data removed]"
          },
          "metadata": {}
        }
      ]
    },
    {
      "cell_type": "code",
      "source": [
        "plot_len_comparative(dict_len)"
      ],
      "metadata": {
        "colab": {
          "base_uri": "https://localhost:8080/",
          "height": 430
        },
        "id": "TqWIGb1USFx0",
        "outputId": "a972f3fb-4bda-4564-ff4b-9885494679e9"
      },
      "execution_count": null,
      "outputs": [
        {
          "output_type": "display_data",
          "data": {
            "text/plain": [
              "<Figure size 1000x400 with 1 Axes>"
            ],
            "image/png": "[encoded data removed]"
          },
          "metadata": {}
        }
      ]
    },
    {
      "cell_type": "markdown",
      "source": [
        "Visualizando los resultados vemos como, el caso de no usar decay, ya sea por la semilla usada, o por lo que sea, parece haber encontrado una política subóptima que lo deja estancado, sin posibilidad de encontrar la solución en ningún episodio (y eso que la $\\epsilon$ estaba fija a un valor considerable 0.3). No obstante, el uso del decay del $\\alpha$ como veníamos anticipando, ha resultado ser de gran ayuda para el método, consiguiendo alcanzar el objetivo en buena parte de los episodios, aunque de manera poco eficiente, pues tarda un tiempo alto en conseguirlo.\n",
        "\n",
        "Fijémonos además en cómo una gráfica es la inversa de la otra, debido al reparto de recompensas que tiene este entorno. Por cada instante de tiempo se nos da una recompensa de -1, equivalente a sumarle 1 a la longitud del episodio, por lo que usando una de ellas hubiese sido sufiente."
      ],
      "metadata": {
        "id": "s6LI2ggKO8fD"
      }
    },
    {
      "cell_type": "markdown",
      "source": [
        "## Evaluación"
      ],
      "metadata": {
        "id": "eM1agy5zQGOs"
      }
    },
    {
      "cell_type": "markdown",
      "source": [
        "Observando el vídeo vemos como el coche tarda en llegar al objetivo, pues no realiza el camino óptimo, pero ha aprendido a alcanzarlo de todas formas."
      ],
      "metadata": {
        "id": "SuJgNFZIQHxW"
      }
    },
    {
      "cell_type": "code",
      "source": [
        "# Ejecutar un episodio utilizando la política greedy y capturar los fotogramas.\n",
        "total_reward, len_episode, frames = run_episode_greedy(agent)\n",
        "\n",
        "# Crear el GIF a partir de los fotogramas capturados.\n",
        "gif_path = frames_to_gif(frames)\n",
        "print(\"GIF guardado en:\", gif_path)"
      ],
      "metadata": {
        "colab": {
          "base_uri": "https://localhost:8080/"
        },
        "id": "TpYDbYpmLLro",
        "outputId": "fc74d32b-ff1b-46bc-ea36-8e7b36f8ed4e"
      },
      "execution_count": null,
      "outputs": [
        {
          "output_type": "stream",
          "name": "stdout",
          "text": [
            "GIF guardado en: MountainCar_sarsa.gif\n"
          ]
        }
      ]
    },
    {
      "cell_type": "code",
      "source": [
        "display_gif(gif_path)"
      ],
      "metadata": {
        "colab": {
          "base_uri": "https://localhost:8080/",
          "height": 17
        },
        "id": "KPYwiGx8Lbay",
        "outputId": "3464a57d-7e6d-4937-c76b-53de0e2a1900"
      },
      "execution_count": null,
      "outputs": [
        {
          "output_type": "execute_result",
          "data": {
            "text/plain": [
              "<IPython.core.display.HTML object>"
            ],
            "text/html": []
          },
          "metadata": {},
          "execution_count": 43
        }
      ]
    }
  ]
}