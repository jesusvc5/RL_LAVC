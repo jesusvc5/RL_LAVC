{
  "nbformat": 4,
  "nbformat_minor": 0,
  "metadata": {
    "colab": {
      "provenance": [],
      "authorship_tag": "ABX9TyP2USL/IWNfFjP+j7RNWAaf",
      "include_colab_link": true
    },
    "kernelspec": {
      "name": "python3",
      "display_name": "Python 3"
    },
    "language_info": {
      "name": "python"
    }
  },
  "cells": [
    {
      "cell_type": "markdown",
      "metadata": {
        "id": "view-in-github",
        "colab_type": "text"
      },
      "source": [
        "<a href=\"https://colab.research.google.com/github/jesusvc5/RL_LAVC/blob/main/MonteCarloOffPolicy.ipynb\" target=\"_parent\"><img src=\"https://colab.research.google.com/assets/colab-badge.svg\" alt=\"Open In Colab\"/></a>"
      ]
    },
    {
      "cell_type": "code",
      "execution_count": null,
      "metadata": {
        "id": "GimITZk6g5Vf"
      },
      "outputs": [],
      "source": []
    },
    {
      "cell_type": "code",
      "execution_count": 1,
      "metadata": {
        "id": "s-wSiHxNyuBH"
      },
      "outputs": [],
      "source": [
        "%%capture\n",
        "#@title Instalamos gym\n",
        "!pip install 'gym[box2d]==0.20.0'\n",
        "\n",
        "## Instalación de algunos paquetes.\n",
        "#!apt-get update\n",
        "## Para usar gymnasium[box2d]\n",
        "#!apt install swig\n",
        "#!pip install gymnasium[box2d]"
      ]
    },
    {
      "cell_type": "code",
      "source": [
        "#@title Importamos librerias\n",
        "import numpy as np\n",
        "import matplotlib.pyplot as plt\n",
        "from tqdm import tqdm\n",
        "import gymnasium as gym\n"
      ],
      "metadata": {
        "id": "o5s4pz9Hzk7r"
      },
      "execution_count": 2,
      "outputs": []
    },
    {
      "cell_type": "code",
      "source": [
        "# Intentamos fijar las semillas\n",
        "import os\n",
        "import torch\n",
        "\n",
        "# Configuración del dispositivo (CPU o GPU)\n",
        "device = torch.device(\"cuda\" if torch.cuda.is_available() else \"cpu\")\n",
        "print(f\"Usando dispositivo: {device}\")\n",
        "\n",
        "SEED = 123\n",
        "\n",
        "# Fijar la semilla en NumPy\n",
        "np.random.seed(SEED) # Para generar números aleatorios consistentes en NumPy\n",
        "np.random.default_rng(SEED) # Establece una instancia del generador de NumPy con la misma semilla\n",
        "\n",
        "# Fijar la semilla en Python\n",
        "os.environ['PYTHONHASHSEED'] = str(SEED) # Evita variabilidad en hashing de Python\n",
        "\n",
        "# Fijar la semilla en Gymnasium\n",
        "def make_env(env_name, map=\"4x4\"):\n",
        "  env = gym.make(env_name, is_slippery=False, map_name=map, render_mode=\"ansi\")\n",
        "  env.reset(seed=SEED) # Establece la semilla en el entorno de Gymnasium\n",
        "  return env"
      ],
      "metadata": {
        "colab": {
          "base_uri": "https://localhost:8080/"
        },
        "id": "Imo9pbaQftay",
        "outputId": "72b39b1b-8fcc-4071-d3d3-941e1b71ab03"
      },
      "execution_count": 3,
      "outputs": [
        {
          "output_type": "stream",
          "name": "stdout",
          "text": [
            "Usando dispositivo: cpu\n"
          ]
        }
      ]
    },
    {
      "cell_type": "code",
      "source": [
        "#@title Importamos el lago helado\n",
        "name = 'FrozenLake-v1'\n",
        "env4 = make_env(name, \"4x4\")\n",
        "env8 = make_env(name, \"8x8\")"
      ],
      "metadata": {
        "id": "0ogCwKft-Ki9"
      },
      "execution_count": 4,
      "outputs": []
    },
    {
      "cell_type": "markdown",
      "source": [
        "#### **Código de las políticas y algoritmo MC**\n",
        "----------------"
      ],
      "metadata": {
        "id": "9vDI1gmKfDPT"
      }
    },
    {
      "cell_type": "markdown",
      "source": [
        "**Según Gymnasium:**\n",
        "\n",
        "**Definición del agente:**"
      ],
      "metadata": {
        "id": "Uj9dLD8FuBPx"
      }
    },
    {
      "cell_type": "code",
      "source": [
        "# actions\n",
        "LEFT, DOWN, RIGHT, UP = 0,1,2,3\n",
        "\n",
        "class AgentMonteCarloOffPolicy:\n",
        "  def __init__(self,\n",
        "               env:gym.Env,\n",
        "               epsilon:float,\n",
        "               decay:bool,\n",
        "               discount_factor:float,\n",
        "               factor_ini:float):\n",
        "    \"\"\"Inicializa todo lo necesario para el aprendizaje\"\"\"\n",
        "    self.env = env\n",
        "    self.epsilon = epsilon\n",
        "    self.decay = decay\n",
        "    self.discount_factor = discount_factor\n",
        "    self.returns = {}\n",
        "    self.nA = env.action_space.n\n",
        "    self.nS = env.observation_space.n\n",
        "    # Cada vez que se hace self.q_values[state] para un state nuevo, se crea un nuevo espacio de valores Q(state,a), para cada acción\n",
        "    #self.q_values = defaultdict(lambda: np.zeros(env.action_space.n))\n",
        "    self.Q = np.zeros((self.nS, self.nA))\n",
        "    #self.n_visits = np.zeros((self.nS, self.nA))\n",
        "    self.C = np.zeros((self.nS, self.nA))\n",
        "    self.factor_ini = factor_ini\n",
        "\n",
        "  def set_epsilon(self, eps):\n",
        "    self.epsilon = eps\n",
        "\n",
        "  def get_epsilon(self):\n",
        "    return self.epsilon\n",
        "\n",
        "  def get_decay(self):\n",
        "    return self.decay\n",
        "\n",
        "  def get_discount_factor(self):\n",
        "    return self.discount_factor\n",
        "\n",
        "  def get_Q(self):\n",
        "    return self.Q\n",
        "\n",
        "  def set_return(self, state, action, G):\n",
        "    self.returns[(state, action)].append(G)\n",
        "\n",
        "  def get_return(self, state, action):\n",
        "    return self.returns[(state, action)]\n",
        "\n",
        "\n",
        "  \"\"\"\n",
        "  Indicará qué acción realizar de acuerdo al estado.\n",
        "  Responde a la política del agente.\n",
        "  Construir tantas funciones de este tipo como políticas se quieran usar.\n",
        "  \"\"\"\n",
        "\n",
        "  # Política uniforme (es soft-policy también)\n",
        "  '''\n",
        "  def behavior_policy(self, state):\n",
        "    return np.random.choice(self.nA)\n",
        "  '''\n",
        "\n",
        "  # Política epsilon-soft\n",
        "  def get_action_epsilon_soft(self, state):\n",
        "    pi_A = np.ones(self.nA, dtype=float) * self.epsilon / self.nA\n",
        "    best_action = np.argmax(self.Q[state])\n",
        "    pi_A[best_action] += (1.0 - self.epsilon)\n",
        "    return pi_A\n",
        "\n",
        "  # Política de comportamiento b. Soft policy (usamos una epsilon-greedy)\n",
        "  def get_action_behavior_policy( self, state):\n",
        "    pi_A = self.get_action_epsilon_soft(state)\n",
        "    return np.random.choice(np.arange(self.nA), p=pi_A)\n",
        "\n",
        "  def get_pi_behavior_policy(self, state, action):\n",
        "    pi_A = self.get_action_epsilon_soft(state)\n",
        "    return pi_A[action]\n",
        "\n",
        "  def target_policy(self, state):\n",
        "    return np.argmax(self.Q[state])\n",
        "\n",
        "\n",
        "  # Política Greedy a partir de los valones Q. Se usa para mostrar la solución.\n",
        "  def get_action_greedy_from_Q(self, env):\n",
        "    done = False\n",
        "    pi_star = np.zeros([env.observation_space.n, env.action_space.n])\n",
        "    state, info = env.reset() # start in top-left, = 0\n",
        "    actions = \"\"\n",
        "    while not done:\n",
        "        action = np.argmax(self.Q[state, :])\n",
        "        actions += f\"{action}, \"\n",
        "        pi_star[state,action] = action\n",
        "        state, reward, terminated, truncated, info = env.step(action)\n",
        "        done = terminated or truncated\n",
        "    return pi_star, actions\n",
        "\n",
        "  def update(self, episode):\n",
        "    G = 0\n",
        "    W = 1\n",
        "    factor = self.discount_factor # el gamma\n",
        "\n",
        "    for step in reversed(range(len(episode))):\n",
        "      state, action, reward = episode[step]\n",
        "      G = reward + factor * G\n",
        "      self.C[state, action] += W\n",
        "      self.Q[state, action] += (W/self.C[state, action]) * (G - self.Q[state, action])\n",
        "      if action != self.target_policy(state):\n",
        "        break\n",
        "      W = W * 1/self.get_pi_behavior_policy(state, action)\n",
        "\n",
        "    return G\n",
        "\n",
        "\n"
      ],
      "metadata": {
        "id": "ROW3rDdNuA1P"
      },
      "execution_count": 16,
      "outputs": []
    },
    {
      "cell_type": "markdown",
      "source": [
        "**Algoritmo:**"
      ],
      "metadata": {
        "id": "7KU1uXDaxGbl"
      }
    },
    {
      "cell_type": "code",
      "source": [
        "import gymnasium as gym\n",
        "\n",
        "def off_policy_all_visit(agent, num_episodes):\n",
        "  stats = 0.0\n",
        "  list_stats = [stats]\n",
        "  list_len = []\n",
        "  step_display = num_episodes / 10\n",
        "  np.random.seed(SEED)\n",
        "  for t in tqdm(range(n_episodes)):\n",
        "    state, info = agent.env.reset(seed=SEED)\n",
        "    done = False\n",
        "\n",
        "    episode = []\n",
        "    result_sum = 0.0\n",
        "    #G = []\n",
        "    #factor_list = []\n",
        "    #rewards = []\n",
        "\n",
        "    # play one episode\n",
        "    while not done:\n",
        "      if agent.get_decay():\n",
        "        agent.set_epsilon(min(1.0, 1000.0/(t+1)))\n",
        "\n",
        "      # get action\n",
        "      action = agent.get_action_behavior_policy(state)\n",
        "      next_state, reward, terminated, truncated, info = agent.env.step(action)\n",
        "      #print(f'State: {state}; Action: {action}; Recompensa:{reward}')\n",
        "      #rewards.append(reward)\n",
        "      episode.append((state, action, reward))\n",
        "      #result_sum += reward\n",
        "\n",
        "      # update the agent\n",
        "      #agent.update_returns(G, factor_list, reward)\n",
        "      #for i, g in enumerate(G):\n",
        "      #  print(f'G_{i}:= {g}')\n",
        "\n",
        "      # update if the environment is done and the current obs\n",
        "      done = terminated or truncated\n",
        "      #factor *= agent.get_discount_factor()\n",
        "      state = next_state\n",
        "      #print(\"------------------------\")\n",
        "\n",
        "    result_sum = agent.update(episode)#, rewards)\n",
        "    #print('*************************')\n",
        "\n",
        "    # Guardamos datos sobre la evolución\n",
        "    stats += result_sum\n",
        "    list_stats.append(stats/(t+1))\n",
        "    list_len.append(len(episode))\n",
        "\n",
        "    # Para mostrar la evolución.  Comentar si no se quiere mostrar\n",
        "    if t % step_display == 0 and t != 0:\n",
        "      print(f\"success: {stats/t}, epsilon: {agent.get_epsilon()}\")\n",
        "\n",
        "  return list_stats, list_len\n",
        "\n",
        "\n",
        "#stats = agent.stats() # Retorna los resultados estadísticos, evolución, etc ...\n",
        "\n",
        "# Mostrar las estadísticas\n"
      ],
      "metadata": {
        "id": "p1WkqQGuxJZO"
      },
      "execution_count": 17,
      "outputs": []
    },
    {
      "cell_type": "code",
      "source": [
        "# @title Funciones para mostrar los resultados\n",
        "\n",
        "def plot(list_stats):\n",
        "  # Creamos una lista de índices para el eje x\n",
        "  indices = list(range(len(list_stats)))\n",
        "\n",
        "  # Creamos el gráfico\n",
        "  plt.figure(figsize=(6, 3))\n",
        "  plt.plot(indices, list_stats)\n",
        "\n",
        "  # Añadimos título y etiquetas\n",
        "  plt.title('Proporción de recompensas')\n",
        "  plt.xlabel('Episodio')\n",
        "  plt.ylabel('Proporción')\n",
        "\n",
        "  # Mostramos el gráfico\n",
        "  plt.grid(True)\n",
        "  plt.show()\n",
        "\n",
        "# Define la función para mostrar el tamaño de los episodios\n",
        "# Pon aquí tu código."
      ],
      "metadata": {
        "id": "u42-YlgazukU"
      },
      "execution_count": 7,
      "outputs": []
    },
    {
      "cell_type": "code",
      "source": [
        "def plot_len(list_len):\n",
        "  indices = list(range(len(list_len)))\n",
        "\n",
        "  plt.figure(figsize=(6, 3))\n",
        "  plt.plot(indices, list_len)\n",
        "\n",
        "  plt.title('Longitud de los episodios')\n",
        "  plt.xlabel('Episodio')\n",
        "  plt.ylabel('Longitud')\n",
        "\n",
        "  plt.grid(True)\n",
        "  plt.show()"
      ],
      "metadata": {
        "id": "dDfCD90eKuMg"
      },
      "execution_count": 8,
      "outputs": []
    },
    {
      "cell_type": "markdown",
      "source": [
        "### **3.2 Experimentación en el escenario 4x4**\n",
        "\n",
        "\n",
        "\n",
        "   - Se realizan 5000 epsisodios y se actualizan los valores Q (valor de acción) basándose en las recompensas obtenidas durante cada episodio completo (e.d. aplicamos Monte Carlo) Se apica una política $\\epsilon$ greedy sobre una política $\\epsilon$ soft con un valor $\\epsilon$ constante\n",
        "\n",
        "\n"
      ],
      "metadata": {
        "id": "JvnGJVGF_j2j"
      }
    },
    {
      "cell_type": "code",
      "source": [
        "# @title Aprendizaje\n",
        "n_episodes = 50000\n",
        "agent_4 = AgentMonteCarloOffPolicy(env4, epsilon=0.4, decay=False, discount_factor=1, factor_ini=1)\n",
        "\n",
        "list_stats, list_len = off_policy_all_visit(agent_4, n_episodes)"
      ],
      "metadata": {
        "colab": {
          "base_uri": "https://localhost:8080/"
        },
        "id": "3S_p9DJvWO3_",
        "outputId": "198bff67-d148-40c1-c03f-024853527b02"
      },
      "execution_count": 18,
      "outputs": [
        {
          "output_type": "stream",
          "name": "stderr",
          "text": [
            " 10%|█         | 5100/50000 [00:05<01:01, 735.38it/s]"
          ]
        },
        {
          "output_type": "stream",
          "name": "stdout",
          "text": [
            "success: 0.2044, epsilon: 0.4\n"
          ]
        },
        {
          "output_type": "stream",
          "name": "stderr",
          "text": [
            " 20%|██        | 10124/50000 [00:11<00:35, 1119.62it/s]"
          ]
        },
        {
          "output_type": "stream",
          "name": "stdout",
          "text": [
            "success: 0.2386, epsilon: 0.4\n"
          ]
        },
        {
          "output_type": "stream",
          "name": "stderr",
          "text": [
            " 30%|███       | 15114/50000 [00:15<00:30, 1141.82it/s]"
          ]
        },
        {
          "output_type": "stream",
          "name": "stdout",
          "text": [
            "success: 0.23466666666666666, epsilon: 0.4\n"
          ]
        },
        {
          "output_type": "stream",
          "name": "stderr",
          "text": [
            " 40%|████      | 20193/50000 [00:20<00:24, 1238.45it/s]"
          ]
        },
        {
          "output_type": "stream",
          "name": "stdout",
          "text": [
            "success: 0.23125, epsilon: 0.4\n"
          ]
        },
        {
          "output_type": "stream",
          "name": "stderr",
          "text": [
            " 50%|█████     | 25249/50000 [00:24<00:20, 1229.68it/s]"
          ]
        },
        {
          "output_type": "stream",
          "name": "stdout",
          "text": [
            "success: 0.226, epsilon: 0.4\n"
          ]
        },
        {
          "output_type": "stream",
          "name": "stderr",
          "text": [
            " 60%|██████    | 30198/50000 [00:28<00:15, 1274.28it/s]"
          ]
        },
        {
          "output_type": "stream",
          "name": "stdout",
          "text": [
            "success: 0.22396666666666668, epsilon: 0.4\n"
          ]
        },
        {
          "output_type": "stream",
          "name": "stderr",
          "text": [
            " 70%|███████   | 35166/50000 [00:35<00:16, 873.07it/s]"
          ]
        },
        {
          "output_type": "stream",
          "name": "stdout",
          "text": [
            "success: 0.22425714285714285, epsilon: 0.4\n"
          ]
        },
        {
          "output_type": "stream",
          "name": "stderr",
          "text": [
            " 80%|████████  | 40217/50000 [00:39<00:05, 1902.58it/s]"
          ]
        },
        {
          "output_type": "stream",
          "name": "stdout",
          "text": [
            "success: 0.240575, epsilon: 0.4\n"
          ]
        },
        {
          "output_type": "stream",
          "name": "stderr",
          "text": [
            " 90%|█████████ | 45145/50000 [00:42<00:04, 1111.77it/s]"
          ]
        },
        {
          "output_type": "stream",
          "name": "stdout",
          "text": [
            "success: 0.2567333333333333, epsilon: 0.4\n"
          ]
        },
        {
          "output_type": "stream",
          "name": "stderr",
          "text": [
            "100%|██████████| 50000/50000 [00:48<00:00, 1039.61it/s]\n"
          ]
        }
      ]
    },
    {
      "cell_type": "code",
      "source": [
        "#@title Proporción de aciertos por número de episodios\n",
        "\n",
        "plot(list_stats)\n",
        "print(f\"Máxima proporcion: {list_stats[-1]}\")"
      ],
      "metadata": {
        "colab": {
          "base_uri": "https://localhost:8080/",
          "height": 351
        },
        "id": "KLhdk1SFtn8S",
        "outputId": "d3afd022-6a18-468e-ff6e-6d10b6fcc318"
      },
      "execution_count": 19,
      "outputs": [
        {
          "output_type": "display_data",
          "data": {
            "text/plain": [
              "<Figure size 600x300 with 1 Axes>"
            ],
            "image/png": "[encoded data removed]"
          },
          "metadata": {}
        },
        {
          "output_type": "stream",
          "name": "stdout",
          "text": [
            "Máxima proporcion: 0.26636\n"
          ]
        }
      ]
    },
    {
      "cell_type": "code",
      "source": [
        "# @title Longitud de los episodios\n",
        "\n",
        "plot_len(list_len)\n",
        "print(f\"Longitud del último episodio: {list_len[-1]}\")"
      ],
      "metadata": {
        "colab": {
          "base_uri": "https://localhost:8080/",
          "height": 350
        },
        "id": "fPr7M9oALHl7",
        "outputId": "514ebf87-993a-4283-b266-c1100e0f285d"
      },
      "execution_count": 20,
      "outputs": [
        {
          "output_type": "display_data",
          "data": {
            "text/plain": [
              "<Figure size 600x300 with 1 Axes>"
            ],
            "image/png": "[encoded data removed]"
          },
          "metadata": {}
        },
        {
          "output_type": "stream",
          "name": "stdout",
          "text": [
            "Longitud del último episodio: 14\n"
          ]
        }
      ]
    },
    {
      "cell_type": "markdown",
      "source": [
        "####.\n",
        "Mostramos los valores Q para cada estado. Cada estado tienen 4 valores, que se corresponden con las 4 acciones que se pueden en cada estado."
      ],
      "metadata": {
        "id": "zoP1jHL_StI9"
      }
    },
    {
      "cell_type": "code",
      "source": [
        "# @title Tabla de valores Q\n",
        "LEFT, DOWN, RIGHT, UP = 0,1,2,3\n",
        "print(\"Valores Q para cada estado:\\n\", agent_4.get_Q())\n"
      ],
      "metadata": {
        "colab": {
          "base_uri": "https://localhost:8080/"
        },
        "id": "psRtMmxyFkFq",
        "outputId": "b067879d-730a-4043-a3b1-797e70d85fb3"
      },
      "execution_count": 21,
      "outputs": [
        {
          "output_type": "stream",
          "name": "stdout",
          "text": [
            "Valores Q para cada estado:\n",
            " [[0.98573513 0.98323039 0.99961032 0.99661614]\n",
            " [0.99677307 0.         0.99948768 0.99636818]\n",
            " [0.99805591 0.99887246 0.99846045 0.99887755]\n",
            " [1.         0.         1.         1.        ]\n",
            " [0.98662642 0.         0.         0.98199369]\n",
            " [0.         0.         0.         0.        ]\n",
            " [0.         1.         0.         1.        ]\n",
            " [0.         0.         0.         0.        ]\n",
            " [1.         0.         1.         1.        ]\n",
            " [1.         0.96401028 1.         0.        ]\n",
            " [0.         0.99984009 0.         0.99714404]\n",
            " [0.         0.         0.         0.        ]\n",
            " [0.         0.         0.         0.        ]\n",
            " [0.         0.98659004 0.99870298 0.        ]\n",
            " [0.99755779 0.99935762 1.         1.        ]\n",
            " [0.         0.         0.         0.        ]]\n"
          ]
        }
      ]
    },
    {
      "cell_type": "markdown",
      "source": [
        "- También se muestra la política óptima (greedy) obtenida a partir del aprendizaje anterior.\n",
        "\n",
        "- Cada estado tienen 4 valores, pero todos son 0 menos 1. Es decir, en cada estado se aplica de manera determinística una única acción.\n",
        "\n",
        "*TODO:* Mostrar de forma gráfica el escenario."
      ],
      "metadata": {
        "id": "AsJ-AgwcTgdO"
      }
    },
    {
      "cell_type": "code",
      "source": [
        "# @title Política final\n",
        "LEFT, DOWN, RIGHT, UP = 0,1,2,3\n",
        "pi, actions = agent_4.get_action_greedy_from_Q(env4)\n",
        "\n",
        "print(\"Política óptima obtenida\\n\", pi, f\"\\n Acciones {actions} \\n Para el siguiente grid\\n\", env4.render())\n",
        "print()"
      ],
      "metadata": {
        "colab": {
          "base_uri": "https://localhost:8080/"
        },
        "collapsed": true,
        "id": "dA0-q-woGYL2",
        "outputId": "8e47f3e5-6a04-426b-c5c3-83c808fb2841"
      },
      "execution_count": 22,
      "outputs": [
        {
          "output_type": "stream",
          "name": "stdout",
          "text": [
            "Política óptima obtenida\n",
            " [[0. 0. 2. 0.]\n",
            " [0. 0. 2. 0.]\n",
            " [0. 0. 0. 3.]\n",
            " [0. 0. 0. 0.]\n",
            " [0. 0. 0. 0.]\n",
            " [0. 0. 0. 0.]\n",
            " [0. 0. 0. 0.]\n",
            " [0. 0. 0. 0.]\n",
            " [0. 0. 0. 0.]\n",
            " [0. 0. 0. 0.]\n",
            " [0. 0. 0. 0.]\n",
            " [0. 0. 0. 0.]\n",
            " [0. 0. 0. 0.]\n",
            " [0. 0. 0. 0.]\n",
            " [0. 0. 0. 0.]\n",
            " [0. 0. 0. 0.]] \n",
            " Acciones 2, 2, 3, 3, 3, 3, 3, 3, 3, 3, 3, 3, 3, 3, 3, 3, 3, 3, 3, 3, 3, 3, 3, 3, 3, 3, 3, 3, 3, 3, 3, 3, 3, 3, 3, 3, 3, 3, 3, 3, 3, 3, 3, 3, 3, 3, 3, 3, 3, 3, 3, 3, 3, 3, 3, 3, 3, 3, 3, 3, 3, 3, 3, 3, 3, 3, 3, 3, 3, 3, 3, 3, 3, 3, 3, 3, 3, 3, 3, 3, 3, 3, 3, 3, 3, 3, 3, 3, 3, 3, 3, 3, 3, 3, 3, 3, 3, 3, 3, 3,  \n",
            " Para el siguiente grid\n",
            "   (Up)\n",
            "SF\u001b[41mF\u001b[0mF\n",
            "FHFH\n",
            "FFFH\n",
            "HFFG\n",
            "\n",
            "\n"
          ]
        }
      ]
    },
    {
      "cell_type": "markdown",
      "source": [
        "### **3.3 Experimentación en el escenario 8x8**\n",
        "\n",
        "  - Se realizan 5000 epsisodios y se actualizan los valores Q (valor de acción) basándose en las recompensas obtenidas durante cada episodio completo (e.d. aplicamos Monte Carlo) Se apica una política $\\epsilon$ greedy sobre una política $\\epsilon$ soft con un valor $\\epsilon$ decreciente\n",
        "\n"
      ],
      "metadata": {
        "id": "3tUyGCBuS41T"
      }
    },
    {
      "cell_type": "code",
      "source": [
        "# @title Aprendizaje\n",
        "n_episodes = 50000\n",
        "agent_8 = AgentMonteCarloOffPolicy(env8, epsilon=0.4, decay=False, discount_factor=0.99, factor_ini=1)\n",
        "\n",
        "list_stats, list_len = off_policy_all_visit(agent_8, n_episodes)"
      ],
      "metadata": {
        "colab": {
          "base_uri": "https://localhost:8080/",
          "height": 373
        },
        "collapsed": true,
        "outputId": "8362596a-7721-417a-b7af-a42a2bf403a9",
        "id": "ttDsqDX16sSj"
      },
      "execution_count": 25,
      "outputs": [
        {
          "output_type": "stream",
          "name": "stderr",
          "text": [
            " 10%|█         | 5024/50000 [00:25<03:45, 199.27it/s]"
          ]
        },
        {
          "output_type": "stream",
          "name": "stdout",
          "text": [
            "success: 0.0, epsilon: 0.4\n"
          ]
        },
        {
          "output_type": "stream",
          "name": "stderr",
          "text": [
            " 14%|█▍        | 7230/50000 [00:37<03:43, 191.67it/s]\n"
          ]
        },
        {
          "output_type": "error",
          "ename": "KeyboardInterrupt",
          "evalue": "",
          "traceback": [
            "\u001b[0;31m---------------------------------------------------------------------------\u001b[0m",
            "\u001b[0;31mKeyboardInterrupt\u001b[0m                         Traceback (most recent call last)",
            "\u001b[0;32m<ipython-input-25-66b7baedc91f>\u001b[0m in \u001b[0;36m<cell line: 0>\u001b[0;34m()\u001b[0m\n\u001b[1;32m      3\u001b[0m \u001b[0magent_8\u001b[0m \u001b[0;34m=\u001b[0m \u001b[0mAgentMonteCarloOffPolicy\u001b[0m\u001b[0;34m(\u001b[0m\u001b[0menv8\u001b[0m\u001b[0;34m,\u001b[0m \u001b[0mepsilon\u001b[0m\u001b[0;34m=\u001b[0m\u001b[0;36m0.4\u001b[0m\u001b[0;34m,\u001b[0m \u001b[0mdecay\u001b[0m\u001b[0;34m=\u001b[0m\u001b[0;32mFalse\u001b[0m\u001b[0;34m,\u001b[0m \u001b[0mdiscount_factor\u001b[0m\u001b[0;34m=\u001b[0m\u001b[0;36m0.99\u001b[0m\u001b[0;34m,\u001b[0m \u001b[0mfactor_ini\u001b[0m\u001b[0;34m=\u001b[0m\u001b[0;36m1\u001b[0m\u001b[0;34m)\u001b[0m\u001b[0;34m\u001b[0m\u001b[0;34m\u001b[0m\u001b[0m\n\u001b[1;32m      4\u001b[0m \u001b[0;34m\u001b[0m\u001b[0m\n\u001b[0;32m----> 5\u001b[0;31m \u001b[0mlist_stats\u001b[0m\u001b[0;34m,\u001b[0m \u001b[0mlist_len\u001b[0m \u001b[0;34m=\u001b[0m \u001b[0moff_policy_all_visit\u001b[0m\u001b[0;34m(\u001b[0m\u001b[0magent_8\u001b[0m\u001b[0;34m,\u001b[0m \u001b[0mn_episodes\u001b[0m\u001b[0;34m)\u001b[0m\u001b[0;34m\u001b[0m\u001b[0;34m\u001b[0m\u001b[0m\n\u001b[0m",
            "\u001b[0;32m<ipython-input-17-33832296f486>\u001b[0m in \u001b[0;36moff_policy_all_visit\u001b[0;34m(agent, num_episodes)\u001b[0m\n\u001b[1;32m     23\u001b[0m \u001b[0;34m\u001b[0m\u001b[0m\n\u001b[1;32m     24\u001b[0m       \u001b[0;31m# get action\u001b[0m\u001b[0;34m\u001b[0m\u001b[0;34m\u001b[0m\u001b[0m\n\u001b[0;32m---> 25\u001b[0;31m       \u001b[0maction\u001b[0m \u001b[0;34m=\u001b[0m \u001b[0magent\u001b[0m\u001b[0;34m.\u001b[0m\u001b[0mget_action_behavior_policy\u001b[0m\u001b[0;34m(\u001b[0m\u001b[0mstate\u001b[0m\u001b[0;34m)\u001b[0m\u001b[0;34m\u001b[0m\u001b[0;34m\u001b[0m\u001b[0m\n\u001b[0m\u001b[1;32m     26\u001b[0m       \u001b[0mnext_state\u001b[0m\u001b[0;34m,\u001b[0m \u001b[0mreward\u001b[0m\u001b[0;34m,\u001b[0m \u001b[0mterminated\u001b[0m\u001b[0;34m,\u001b[0m \u001b[0mtruncated\u001b[0m\u001b[0;34m,\u001b[0m \u001b[0minfo\u001b[0m \u001b[0;34m=\u001b[0m \u001b[0magent\u001b[0m\u001b[0;34m.\u001b[0m\u001b[0menv\u001b[0m\u001b[0;34m.\u001b[0m\u001b[0mstep\u001b[0m\u001b[0;34m(\u001b[0m\u001b[0maction\u001b[0m\u001b[0;34m)\u001b[0m\u001b[0;34m\u001b[0m\u001b[0;34m\u001b[0m\u001b[0m\n\u001b[1;32m     27\u001b[0m       \u001b[0;31m#print(f'State: {state}; Action: {action}; Recompensa:{reward}')\u001b[0m\u001b[0;34m\u001b[0m\u001b[0;34m\u001b[0m\u001b[0m\n",
            "\u001b[0;32m<ipython-input-16-f0689a143f29>\u001b[0m in \u001b[0;36mget_action_behavior_policy\u001b[0;34m(self, state)\u001b[0m\n\u001b[1;32m     68\u001b[0m   \u001b[0;32mdef\u001b[0m \u001b[0mget_action_behavior_policy\u001b[0m\u001b[0;34m(\u001b[0m \u001b[0mself\u001b[0m\u001b[0;34m,\u001b[0m \u001b[0mstate\u001b[0m\u001b[0;34m)\u001b[0m\u001b[0;34m:\u001b[0m\u001b[0;34m\u001b[0m\u001b[0;34m\u001b[0m\u001b[0m\n\u001b[1;32m     69\u001b[0m     \u001b[0mpi_A\u001b[0m \u001b[0;34m=\u001b[0m \u001b[0mself\u001b[0m\u001b[0;34m.\u001b[0m\u001b[0mget_action_epsilon_soft\u001b[0m\u001b[0;34m(\u001b[0m\u001b[0mstate\u001b[0m\u001b[0;34m)\u001b[0m\u001b[0;34m\u001b[0m\u001b[0;34m\u001b[0m\u001b[0m\n\u001b[0;32m---> 70\u001b[0;31m     \u001b[0;32mreturn\u001b[0m \u001b[0mnp\u001b[0m\u001b[0;34m.\u001b[0m\u001b[0mrandom\u001b[0m\u001b[0;34m.\u001b[0m\u001b[0mchoice\u001b[0m\u001b[0;34m(\u001b[0m\u001b[0mnp\u001b[0m\u001b[0;34m.\u001b[0m\u001b[0marange\u001b[0m\u001b[0;34m(\u001b[0m\u001b[0mself\u001b[0m\u001b[0;34m.\u001b[0m\u001b[0mnA\u001b[0m\u001b[0;34m)\u001b[0m\u001b[0;34m,\u001b[0m \u001b[0mp\u001b[0m\u001b[0;34m=\u001b[0m\u001b[0mpi_A\u001b[0m\u001b[0;34m)\u001b[0m\u001b[0;34m\u001b[0m\u001b[0;34m\u001b[0m\u001b[0m\n\u001b[0m\u001b[1;32m     71\u001b[0m \u001b[0;34m\u001b[0m\u001b[0m\n\u001b[1;32m     72\u001b[0m   \u001b[0;32mdef\u001b[0m \u001b[0mget_pi_behavior_policy\u001b[0m\u001b[0;34m(\u001b[0m\u001b[0mself\u001b[0m\u001b[0;34m,\u001b[0m \u001b[0mstate\u001b[0m\u001b[0;34m,\u001b[0m \u001b[0maction\u001b[0m\u001b[0;34m)\u001b[0m\u001b[0;34m:\u001b[0m\u001b[0;34m\u001b[0m\u001b[0;34m\u001b[0m\u001b[0m\n",
            "\u001b[0;31mKeyboardInterrupt\u001b[0m: "
          ]
        }
      ]
    },
    {
      "cell_type": "code",
      "source": [
        "#@title Proporción de aciertos por número de episodios\n",
        "\n",
        "plot(list_stats)\n",
        "print(f\"Máxima proporcion: {list_stats[-1]}\")"
      ],
      "metadata": {
        "colab": {
          "base_uri": "https://localhost:8080/",
          "height": 351
        },
        "id": "Z_tbLcAq6yWR",
        "outputId": "e4940e71-cd76-4273-d77a-235a846fe84f"
      },
      "execution_count": null,
      "outputs": [
        {
          "output_type": "display_data",
          "data": {
            "text/plain": [
              "<Figure size 600x300 with 1 Axes>"
            ],
            "image/png": "[encoded data removed]"
          },
          "metadata": {}
        },
        {
          "output_type": "stream",
          "name": "stdout",
          "text": [
            "Máxima proporcion: 0.89422\n"
          ]
        }
      ]
    },
    {
      "cell_type": "code",
      "source": [
        "plot_len(list_len)\n",
        "print(f\"Longitud del último episodio: {list_len[-1]}\")"
      ],
      "metadata": {
        "colab": {
          "base_uri": "https://localhost:8080/",
          "height": 350
        },
        "id": "jm04j_kfaIDG",
        "outputId": "da5fb70d-84b9-4a16-d997-113ded073a74"
      },
      "execution_count": null,
      "outputs": [
        {
          "output_type": "display_data",
          "data": {
            "text/plain": [
              "<Figure size 600x300 with 1 Axes>"
            ],
            "image/png": "[encoded data removed]"
          },
          "metadata": {}
        },
        {
          "output_type": "stream",
          "name": "stdout",
          "text": [
            "Longitud del último episodio: 16\n"
          ]
        }
      ]
    },
    {
      "cell_type": "markdown",
      "source": [
        "####.\n",
        "Mostramos los valores Q para cada estado. Cada estado tienen 4 valores, que se corresponden con las 4 acciones que se pueden en cada estado."
      ],
      "metadata": {
        "id": "dptS3Xv8v8H7"
      }
    },
    {
      "cell_type": "code",
      "source": [
        "# @title Tabla de valores Q\n",
        "LEFT, DOWN, RIGHT, UP = 0,1,2,3\n",
        "print(\"Valores Q para cada estado:\\n\", agent_8.get_Q())"
      ],
      "metadata": {
        "colab": {
          "base_uri": "https://localhost:8080/"
        },
        "id": "scmn1mwlwBam",
        "outputId": "93a93315-45f6-47db-ec13-f2154abd36c2"
      },
      "execution_count": null,
      "outputs": [
        {
          "output_type": "stream",
          "name": "stdout",
          "text": [
            "Valores Q para cada estado:\n",
            " [[0.2705955  0.26817349 0.84372832 0.26572008]\n",
            " [0.34447005 0.85225249 0.3748068  0.32855482]\n",
            " [0.08323831 0.11070999 0.53176044 0.11124547]\n",
            " [0.27094668 0.6412156  0.3038674  0.26227679]\n",
            " [0.59478022 0.65503356 0.95553126 0.70191455]\n",
            " [0.6822335  0.67673716 0.95901658 0.6468254 ]\n",
            " [0.72483221 0.96060071 0.77878104 0.73372093]\n",
            " [0.2        0.80340064 0.2745098  0.2       ]\n",
            " [0.43381356 0.26409603 0.25645791 0.27144428]\n",
            " [0.27467882 0.34263085 0.91805961 0.35903614]\n",
            " [0.46466809 0.45265279 0.92132176 0.4668435 ]\n",
            " [0.56317935 0.         0.92424449 0.55946844]\n",
            " [0.61392405 0.6166065  0.67665505 0.92334685]\n",
            " [0.2781457  0.29757785 0.79792945 0.30794702]\n",
            " [0.71655329 0.95755207 0.73880597 0.75391499]\n",
            " [0.36909871 0.84609053 0.40528634 0.44594595]\n",
            " [0.11495246 0.12489233 0.29223228 0.10289116]\n",
            " [0.1686747  0.13396716 0.19666374 0.3587385 ]\n",
            " [0.07801418 0.09350649 0.         0.5100426 ]\n",
            " [0.         0.         0.         0.        ]\n",
            " [0.         0.18548387 0.73817863 0.29577465]\n",
            " [0.30813953 0.         0.82819383 0.35204082]\n",
            " [0.73834746 0.75842697 0.9601462  0.75473684]\n",
            " [0.77710233 0.95917277 0.79497487 0.78415842]\n",
            " [0.03986711 0.02783726 0.04175365 0.16733068]\n",
            " [0.05298013 0.04568528 0.05223881 0.19567568]\n",
            " [0.16793893 0.02312139 0.04210526 0.04035874]\n",
            " [0.26548673 0.         0.03030303 0.        ]\n",
            " [0.23300971 0.         0.         0.03125   ]\n",
            " [0.         0.         0.         0.        ]\n",
            " [0.         0.52252252 0.85732323 0.51538462]\n",
            " [0.78006166 0.96077272 0.7797619  0.81584362]\n",
            " [0.00793651 0.00833333 0.01351351 0.09467456]\n",
            " [0.08695652 0.         0.         0.02      ]\n",
            " [0.03333333 0.         0.         0.        ]\n",
            " [0.         0.         0.         0.        ]\n",
            " [0.         0.         0.         0.        ]\n",
            " [0.         0.         0.61904762 0.        ]\n",
            " [0.37681159 0.         0.88663484 0.51578947]\n",
            " [0.80218579 0.96322657 0.84734513 0.86188437]\n",
            " [0.00917431 0.         0.         0.025     ]\n",
            " [0.         0.         0.         0.        ]\n",
            " [0.         0.         0.         0.        ]\n",
            " [0.         0.         0.         0.        ]\n",
            " [0.         0.         0.         0.        ]\n",
            " [0.         0.         0.         0.        ]\n",
            " [0.         0.         0.         0.        ]\n",
            " [0.         0.98162003 0.88487585 0.87875289]\n",
            " [0.         0.         0.         0.        ]\n",
            " [0.         0.         0.         0.        ]\n",
            " [0.         0.         0.         0.        ]\n",
            " [0.         0.         0.         0.        ]\n",
            " [0.         0.         0.         0.        ]\n",
            " [0.         0.         0.         0.        ]\n",
            " [0.         0.         0.         0.        ]\n",
            " [0.         1.         0.94888598 0.90131579]\n",
            " [0.         0.         0.         0.        ]\n",
            " [0.         0.         0.         0.        ]\n",
            " [0.         0.         0.         0.        ]\n",
            " [0.         0.         0.         0.        ]\n",
            " [0.         0.         0.         0.        ]\n",
            " [0.         0.         0.         0.        ]\n",
            " [0.         0.         0.         0.        ]\n",
            " [0.         0.         0.         0.        ]]\n"
          ]
        }
      ]
    },
    {
      "cell_type": "markdown",
      "source": [
        "- También se muestra la política óptima (greedy) obtenida a partir del aprendizaje anterior.\n",
        "\n",
        "- Cada estado tienen 4 valores, pero todos son 0 menos 1. Es decir, en cada estado se aplica de manera determinística una única acción.\n",
        "\n",
        "*TODO:* Mostrar de forma gráfica el escenario."
      ],
      "metadata": {
        "id": "oWQWD7UqwH2Y"
      }
    },
    {
      "cell_type": "code",
      "source": [
        "# @title Política final\n",
        "LEFT, DOWN, RIGHT, UP = 0,1,2,3\n",
        "pi, actions = agent_8.get_action_greedy_from_Q(env8)\n",
        "\n",
        "print(\"Política óptima obtenida\\n\", pi, f\"\\n Acciones {actions} \\n Para el siguiente grid\\n\", env8.render())\n",
        "print()"
      ],
      "metadata": {
        "colab": {
          "base_uri": "https://localhost:8080/"
        },
        "id": "1n6i3oMzwSG3",
        "outputId": "be5c1407-38e9-44e3-f131-a1ae9edae35d"
      },
      "execution_count": null,
      "outputs": [
        {
          "output_type": "stream",
          "name": "stdout",
          "text": [
            "Política óptima obtenida\n",
            " [[0. 0. 2. 0.]\n",
            " [0. 0. 2. 0.]\n",
            " [0. 0. 2. 0.]\n",
            " [0. 0. 2. 0.]\n",
            " [0. 0. 2. 0.]\n",
            " [0. 0. 2. 0.]\n",
            " [0. 1. 0. 0.]\n",
            " [0. 0. 0. 0.]\n",
            " [0. 0. 0. 0.]\n",
            " [0. 0. 0. 0.]\n",
            " [0. 0. 0. 0.]\n",
            " [0. 0. 0. 0.]\n",
            " [0. 0. 0. 0.]\n",
            " [0. 0. 0. 0.]\n",
            " [0. 0. 2. 0.]\n",
            " [0. 1. 0. 0.]\n",
            " [0. 0. 0. 0.]\n",
            " [0. 0. 0. 0.]\n",
            " [0. 0. 0. 0.]\n",
            " [0. 0. 0. 0.]\n",
            " [0. 0. 0. 0.]\n",
            " [0. 0. 0. 0.]\n",
            " [0. 0. 0. 0.]\n",
            " [0. 1. 0. 0.]\n",
            " [0. 0. 0. 0.]\n",
            " [0. 0. 0. 0.]\n",
            " [0. 0. 0. 0.]\n",
            " [0. 0. 0. 0.]\n",
            " [0. 0. 0. 0.]\n",
            " [0. 0. 0. 0.]\n",
            " [0. 0. 0. 0.]\n",
            " [0. 1. 0. 0.]\n",
            " [0. 0. 0. 0.]\n",
            " [0. 0. 0. 0.]\n",
            " [0. 0. 0. 0.]\n",
            " [0. 0. 0. 0.]\n",
            " [0. 0. 0. 0.]\n",
            " [0. 0. 0. 0.]\n",
            " [0. 0. 0. 0.]\n",
            " [0. 1. 0. 0.]\n",
            " [0. 0. 0. 0.]\n",
            " [0. 0. 0. 0.]\n",
            " [0. 0. 0. 0.]\n",
            " [0. 0. 0. 0.]\n",
            " [0. 0. 0. 0.]\n",
            " [0. 0. 0. 0.]\n",
            " [0. 0. 0. 0.]\n",
            " [0. 1. 0. 0.]\n",
            " [0. 0. 0. 0.]\n",
            " [0. 0. 0. 0.]\n",
            " [0. 0. 0. 0.]\n",
            " [0. 0. 0. 0.]\n",
            " [0. 0. 0. 0.]\n",
            " [0. 0. 0. 0.]\n",
            " [0. 0. 0. 0.]\n",
            " [0. 1. 0. 0.]\n",
            " [0. 0. 0. 0.]\n",
            " [0. 0. 0. 0.]\n",
            " [0. 0. 0. 0.]\n",
            " [0. 0. 0. 0.]\n",
            " [0. 0. 0. 0.]\n",
            " [0. 0. 0. 0.]\n",
            " [0. 0. 0. 0.]\n",
            " [0. 0. 0. 0.]] \n",
            " Acciones 2, 2, 2, 2, 2, 2, 1, 2, 1, 1, 1, 1, 1, 1,  \n",
            " Para el siguiente grid\n",
            "   (Down)\n",
            "SFFFFFFF\n",
            "FFFFFFFF\n",
            "FFFHFFFF\n",
            "FFFFFHFF\n",
            "FFFHFFFF\n",
            "FHHFFFHF\n",
            "FHFFHFHF\n",
            "FFFHFFF\u001b[41mG\u001b[0m\n",
            "\n",
            "\n"
          ]
        }
      ]
    }
  ]
}