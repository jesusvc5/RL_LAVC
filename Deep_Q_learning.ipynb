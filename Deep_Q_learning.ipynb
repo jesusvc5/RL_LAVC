{
  "cells": [
    {
      "cell_type": "markdown",
      "metadata": {
        "id": "view-in-github",
        "colab_type": "text"
      },
      "source": [
        "<a href=\"https://colab.research.google.com/github/jesusvc5/RL_LAVC/blob/main/Deep_Q_learning.ipynb\" target=\"_parent\"><img src=\"https://colab.research.google.com/assets/colab-badge.svg\" alt=\"Open In Colab\"/></a>"
      ]
    },
    {
      "cell_type": "markdown",
      "source": [
        "# Implementación, análisis y evaluación del método de Deep Q-Learning sobre el entorno Mountain Car\n",
        "\n",
        "*Description*: En este notebook se desarrolla la implementación del método de **Deep Q-Learning**, y se emplea sobre el entorno Mountain Car de Gymnasium.\n",
        "\n",
        "\n",
        "    Autores: Jesús Verdú Chacón\n",
        "             Jorge López Abad\n",
        "\n",
        "    Emails: jesus.v.c@um.es\n",
        "            jorge.lopeza@um.es\n",
        "            \n",
        "    Date: 2025/03/09"
      ],
      "metadata": {
        "id": "r7cPE2rDrdCC"
      }
    },
    {
      "cell_type": "code",
      "source": [
        "%%capture\n",
        "!pip install 'gym[box2d]==0.20.0'"
      ],
      "metadata": {
        "id": "f0BIWV7wtYz4"
      },
      "execution_count": 1,
      "outputs": []
    },
    {
      "cell_type": "code",
      "execution_count": 2,
      "metadata": {
        "id": "1gmHFKAudBv7"
      },
      "outputs": [],
      "source": [
        "import random\n",
        "import gymnasium as gym\n",
        "from gymnasium import ObservationWrapper\n",
        "from tqdm import tqdm\n",
        "import numpy as np\n",
        "import matplotlib.pyplot as plt\n",
        "from IPython.display import clear_output"
      ]
    },
    {
      "cell_type": "markdown",
      "metadata": {
        "id": "jPimFlI59j6g"
      },
      "source": [
        "## Semillas Fijas"
      ]
    },
    {
      "cell_type": "code",
      "execution_count": 3,
      "metadata": {
        "colab": {
          "base_uri": "https://localhost:8080/"
        },
        "id": "owDqsU9y9mYD",
        "outputId": "441dce36-8459-471a-9ffa-682a35df4965"
      },
      "outputs": [
        {
          "output_type": "stream",
          "name": "stdout",
          "text": [
            "Usando dispositivo: cpu\n"
          ]
        }
      ],
      "source": [
        "import os\n",
        "import gc\n",
        "import torch\n",
        "import numpy as np\n",
        "import gymnasium as gym\n",
        "\n",
        "# Configuración del dispositivo (CPU o GPU)\n",
        "device = torch.device(\"cuda\" if torch.cuda.is_available() else \"cpu\")\n",
        "print(f\"Usando dispositivo: {device}\")\n",
        "\n",
        "# Liberación de memoria para evitar problemas de consumo en GPU\n",
        "gc.collect() # Ejecuta el recolector de basura de Python\n",
        "torch.cuda.empty_cache() # Vacía la caché de memoria en GPU\n",
        "\n",
        "# Depuración de errores en CUDA\n",
        "os.environ['CUDA_LAUNCH_BLOCKING'] = '1' # Muestra errores de CUDA en el punto exacto donde ocurren\n",
        "\n",
        "# Configuración de la semilla para reproducibilidad\n",
        "SEED = 2024 # Se define una semilla fija\n",
        "\n",
        "# Fijar la semilla en NumPy\n",
        "np.random.seed(SEED) # Para generar números aleatorios consistentes en NumPy\n",
        "np.random.default_rng(SEED) # Establece una instancia del generador de NumPy con la misma semilla\n",
        "\n",
        "# Fijar la semilla en Python\n",
        "os.environ['PYTHONHASHSEED'] = str(SEED) # Evita variabilidad en hashing de Python\n",
        "\n",
        "# Fijar la semilla en PyTorch\n",
        "torch.manual_seed(SEED) # Asegura resultados reproducibles en operaciones de PyTorch\n",
        "if torch.cuda.is_available(): # Si hay GPU disponible\n",
        "  torch.cuda.manual_seed(SEED) # Fija la semilla para la GPU\n",
        "  torch.backends.cudnn.deterministic = True # Hace las operaciones de CUDNN determinísticas\n",
        "  torch.backends.cudnn.benchmark = False # Desactiva optimizaciones de CUDNN para evitar variabilidad\n"
      ]
    },
    {
      "cell_type": "markdown",
      "metadata": {
        "id": "XSgehHaO_GgQ"
      },
      "source": [
        "## Red Neuronal"
      ]
    },
    {
      "cell_type": "markdown",
      "source": [
        "Otra alternativa dentro de los métodos aproximados para trabajar con el entorno de Mountain Car es el uso de redes neuronales para el cálculo de la función $Q(s,t)$. Para SARSA también existe su variante con red neuronal, pero nosotros implementaremos el caso para Q-Learning, **Deep Q-Learning**."
      ],
      "metadata": {
        "id": "Soiz5cyE1eif"
      }
    },
    {
      "cell_type": "code",
      "execution_count": 4,
      "metadata": {
        "id": "ltRsNTtuAgch"
      },
      "outputs": [],
      "source": [
        "import numpy as np\n",
        "import gym\n",
        "from IPython.display import clear_output, display\n",
        "import torch\n",
        "import torch.nn as nn\n",
        "import torch.nn.functional as F\n",
        "import random\n",
        "import copy\n",
        "import time\n",
        "import matplotlib.pyplot as plt"
      ]
    },
    {
      "cell_type": "markdown",
      "source": [
        "La red neuronal que definimos para obtener los pesos $w$ tiene la siguiente estructura:\n",
        "* Una capa de entrada de tamaño de input la dimensión del espacio de estados (2), y de salida el tamaño de la capa oculta.\n",
        "* Una capa oculta con 64 nodos ocultos, que conecta la capa de entrada con la de salida.\n",
        "* Una capa de salida, con tamaño de input de 64, y de salida la dimensión del espacio de acciones del entorno (3).\n",
        "* Función de activación usaremos la **RELU**."
      ],
      "metadata": {
        "id": "LJc05Sch3d4k"
      }
    },
    {
      "cell_type": "code",
      "execution_count": 5,
      "metadata": {
        "id": "2AHbzhxju1gh",
        "colab": {
          "base_uri": "https://localhost:8080/"
        },
        "outputId": "334274dd-1ac4-46c1-f7c5-d0f278446676"
      },
      "outputs": [
        {
          "output_type": "stream",
          "name": "stderr",
          "text": [
            "/usr/local/lib/python3.11/dist-packages/ipykernel/ipkernel.py:283: DeprecationWarning: `should_run_async` will not call `transform_cell` automatically in the future. Please pass the result to `transformed_cell` argument and any exception that happen during thetransform in `preprocessing_exc_tuple` in IPython 7.17 and above.\n",
            "  and should_run_async(code)\n"
          ]
        }
      ],
      "source": [
        "import torch\n",
        "import torch.nn as nn\n",
        "import torch.nn.functional as F\n",
        "\n",
        "# Definición de la Red Neuronal Profunda DQN\n",
        "class DQN_Network(nn.Module):\n",
        "  \"\"\"\n",
        "  Red neuronal para el algoritmo Deep Q-Network (DQN).\n",
        "  Se compone de capas totalmente conectadas (FC) con activaciones ReLU.\n",
        "  \"\"\"\n",
        "\n",
        "  def __init__(self, state_dim, action_dim, hidden_dim=64):\n",
        "    \"\"\"\n",
        "    Inicializa la red neuronal.\n",
        "    Parámetros:\n",
        "    num_actions (int): Número total de acciones posibles en el entorno.\n",
        "    input_dim (int): Dimensión del espacio de estados de entrada.\n",
        "    \"\"\"\n",
        "\n",
        "    super(DQN_Network, self).__init__()\n",
        "    # Primera capa: de estado a capa oculta de tamaño hidden_dim.\n",
        "    self.fc1 = nn.Linear(state_dim, hidden_dim)\n",
        "    # Segunda capa oculta.\n",
        "    self.fc2 = nn.Linear(hidden_dim, hidden_dim)\n",
        "    # Capa de salida: de hidden_dim a número de acciones.\n",
        "    self.fc3 = nn.Linear(hidden_dim, action_dim)\n",
        "\n",
        "  def forward(self, x):\n",
        "    \"\"\"\n",
        "    Propagación hacia adelante.\n",
        "\n",
        "    Parámetro:\n",
        "      - x (Tensor): Estado de entrada con forma [batch_size, state_dim].\n",
        "\n",
        "    Retorna:\n",
        "      - Tensor: Valores Q para cada acción, con forma [batch_size, action_dim].\n",
        "    \"\"\"\n",
        "    # Aplicar la primera capa seguida de ReLU.\n",
        "    x = F.relu(self.fc1(x))\n",
        "    # Aplicar la segunda capa seguida de ReLU.\n",
        "    x = F.relu(self.fc2(x))\n",
        "    # Capa de salida sin activación, para obtener los valores Q.\n",
        "    x = self.fc3(x)\n",
        "    return x\n"
      ]
    },
    {
      "cell_type": "markdown",
      "metadata": {
        "id": "kPuWN7nCvz83"
      },
      "source": [
        "## Replay Buffer"
      ]
    },
    {
      "cell_type": "markdown",
      "source": [
        "Para la implementación del algoritmo de Deep Q-Learning necesitamos implementar un Replay Buffer para que el método converga a la política óptima. Este buffer tendrá el tamaño que le indiquemos como hiperparámetro en la definición del agente, y almacenará tuplas del tipo: (`estado`, `acción`, `recompensa`, `siguiente estado`, `terminado`)."
      ],
      "metadata": {
        "id": "_1ILT9Yy4oQV"
      }
    },
    {
      "cell_type": "code",
      "execution_count": 6,
      "metadata": {
        "id": "2STBO_5kkKw_"
      },
      "outputs": [],
      "source": [
        "from collections import deque\n",
        "import random\n",
        "\n",
        "class ReplayBuffer:\n",
        "  def __init__(self, capacity):\n",
        "    self.buffer = deque(maxlen=capacity)\n",
        "\n",
        "  def push(self, state, action, reward, next_state, done):\n",
        "    self.buffer.append((state, action, reward, next_state, done))\n",
        "\n",
        "  # Muestreo aleatorio del buffer\n",
        "  def sample(self, batch_size):\n",
        "    # Extraemos batch_size indices del buffer sin reemplazo\n",
        "    batch = random.sample(self.buffer, batch_size)\n",
        "    states, actions, rewards, next_states, dones = zip(*batch)\n",
        "\n",
        "    # Convertimos las listas a numpy arrays antes de transformarlas en tensores\n",
        "    states = np.array(states)\n",
        "    actions = np.array(actions)\n",
        "    rewards = np.array(rewards)\n",
        "    next_states = np.array(next_states)\n",
        "    dones = np.array(dones)\n",
        "\n",
        "    # Convertimos los numpy arrays a tensores\n",
        "    return (\n",
        "        torch.from_numpy(states).float(),\n",
        "        torch.from_numpy(actions).long().unsqueeze(1),\n",
        "        torch.from_numpy(rewards).float().unsqueeze(1),\n",
        "        torch.from_numpy(next_states).float(),\n",
        "        torch.from_numpy(dones).float().unsqueeze(1),\n",
        "    )\n",
        "\n",
        "  def __len__(self):\n",
        "    return len(self.buffer)\n"
      ]
    },
    {
      "cell_type": "markdown",
      "source": [
        "## Definición del agente"
      ],
      "metadata": {
        "id": "9aMrpcRn5HaU"
      }
    },
    {
      "cell_type": "markdown",
      "source": [
        "Definimos la clase del agente, el cual tendrá información sobre la estructura de la red neuronal, y el replay buffer usado.\n",
        "\n",
        "La política de comportamiento empleada es, como viene siendo habitual, una $\\epsilon$-greedy.\n",
        "\n",
        "Sabemos que Deep Q-Learning presenta el problema de la **sobreestimación**, esto es, la política objetivo magnifica el error y conduce a políticas subóptimas. Para compensar esto, implementamos el **Aprendizaje Doble**, el cual consiste en emplea dos redes neuronales para actualizar los pesos, una **red principal** que seleccione las acciones, y una **red objetivo**, que evalúe estas acciones seleccionadas. Esto aumenta el coste computacional, al tener que estar entrenando dos redes al mismo tiempo, pero nos elimina sesgos, y nos solventa el problema de la sobreestimación."
      ],
      "metadata": {
        "id": "wYB9PrG45Jnm"
      }
    },
    {
      "cell_type": "code",
      "execution_count": 7,
      "metadata": {
        "id": "Z1GggX2blabC"
      },
      "outputs": [],
      "source": [
        "import torch.optim as optim\n",
        "class DQN_Agent:\n",
        "  def __init__(self,\n",
        "               env:gym.Env,\n",
        "               hidden_dim=64,\n",
        "               lr=1e-3,\n",
        "               gamma=0.99,\n",
        "               epsilon=1.0,\n",
        "               epsilon_min=0.05,\n",
        "               epsilon_decay=0.995,\n",
        "               buffer_size=5000,\n",
        "               batch_size=32,\n",
        "               target_update_freq=1000,\n",
        "               max_steps_episode=200):\n",
        "    self.env = env\n",
        "    self.state_dim = self.env.observation_space.shape[0]\n",
        "    self.action_dim = self.env.action_space.n\n",
        "    self.gamma = gamma  # Factor de descuento\n",
        "    self.epsilon = epsilon  # Exploración inicial\n",
        "    self.epsilon_min = epsilon_min  # Exploración mínima\n",
        "    self.epsilon_decay = epsilon_decay  # Factor de decaimiento de epsilon\n",
        "    self.batch_size = batch_size\n",
        "    self.steps = 0\n",
        "    self.target_update_freq = target_update_freq  # Frecuencia de actualización de la red target\n",
        "\n",
        "    self.max_steps_episode = max_steps_episode\n",
        "\n",
        "    # Red neuronal y optimizador\n",
        "    self.qnet = DQN_Network(self.state_dim, self.action_dim, hidden_dim)\n",
        "\n",
        "    # Red target para Double Q-learning\n",
        "    self.qnet_target = DQN_Network(self.state_dim, self.action_dim, hidden_dim)\n",
        "    # Para inicializar igual que la red principal\n",
        "    self.qnet_target.load_state_dict(self.qnet.state_dict())\n",
        "\n",
        "    self.optimizer = optim.Adam(self.qnet.parameters(), lr=lr, amsgrad=True, foreach=True) # Para introducir AMSGrad si Adam da inestabilidad debido a gradientes oscilantes\n",
        "    self.loss_function = nn.MSELoss()\n",
        "\n",
        "    # Replay Buffer\n",
        "    self.replay_buffer = ReplayBuffer(buffer_size)\n",
        "\n",
        "  # Política epsilon-greedy\n",
        "  def get_action(self, state):\n",
        "\n",
        "    if np.random.rand() < self.epsilon:\n",
        "      return np.random.randint(self.action_dim)  # Exploración\n",
        "    else:\n",
        "      if not isinstance(state, torch.Tensor):\n",
        "        state = torch.FloatTensor(state).unsqueeze(0)  # Convertir a tensor con batch\n",
        "      with torch.no_grad():\n",
        "        q_values = self.qnet(state)\n",
        "      return torch.argmax(q_values).item()  # Acción con mayor Q(s, a)\n",
        "\n",
        "  def greedy_action(self, state):\n",
        "    if not isinstance(state, torch.Tensor):\n",
        "      state = torch.FloatTensor(state).unsqueeze(0)  # Convertir a tensor con batch\n",
        "    with torch.no_grad():\n",
        "      q_values = self.qnet(state)\n",
        "    return torch.argmax(q_values).item()  # Acción con mayor Q(s, a)\n",
        "\n",
        "  def update(self):\n",
        "\n",
        "    if len(self.replay_buffer) < self.batch_size:\n",
        "      return  # No entrenar hasta que haya suficientes datos en el buffer\n",
        "\n",
        "    # Muestrea batch de experiencias\n",
        "    states, actions, rewards, next_states, dones = self.replay_buffer.sample(self.batch_size)\n",
        "\n",
        "    # Obtiene Q(s, a) actual de la red principal\n",
        "    q_values = self.qnet(states)\n",
        "    # Selecciona Q(s, a) correcto\n",
        "    qsa = torch.gather(q_values, dim=1, index=actions)\n",
        "\n",
        "    # Usamos la red principal para seleccionar la acción en el siguiente estado\n",
        "    with torch.no_grad():\n",
        "      q_next_values = self.qnet(next_states)\n",
        "      next_actions = torch.argmax(q_next_values, dim=1, keepdim=True)\n",
        "\n",
        "      # Evaluamos el valor de la acción seleccionada usando la red target\n",
        "      qsa_next = self.qnet_target(next_states)\n",
        "      qsa_next_target = torch.gather(qsa_next, dim=1, index=next_actions)\n",
        "\n",
        "    # Calcula el valor objetivo Q_target usando la ecuación de Bellman\n",
        "    qsa_target = rewards + (1 - dones) * self.gamma * qsa_next_target\n",
        "\n",
        "    # Calcula la pérdida\n",
        "    loss = self.loss_function(qsa, qsa_target)\n",
        "\n",
        "    if loss is None:\n",
        "      print(f\"Error: El valor de pérdida es None. qsa: {qsa}, qsa_target: {qsa_target}\")\n",
        "\n",
        "    # Retropropagación y actualización de pesos\n",
        "    self.optimizer.zero_grad()\n",
        "    loss.backward()\n",
        "    self.optimizer.step()\n",
        "\n",
        "    # Actualizamos la red target en función de la frecuencia establecida\n",
        "    if self.steps % self.target_update_freq == 0:\n",
        "      self.qnet_target.load_state_dict(self.qnet.state_dict())  # Copiar parámetros de la red principal\n",
        "\n",
        "    return loss.item()\n",
        "\n",
        "  def save_model(self, path):\n",
        "    torch.save(self.qnet.state_dict(), path)\n",
        "\n",
        "  def load_model(self, path):\n",
        "    self.qnet.load_state_dict(torch.load(path))"
      ]
    },
    {
      "cell_type": "markdown",
      "metadata": {
        "id": "F_3BQHXfugiB"
      },
      "source": [
        "## Esquema general del aprendizaje episódico (Algoritmo)"
      ]
    },
    {
      "cell_type": "markdown",
      "source": [
        "La estructura no difiere de la que se usaba en Q-Learning, pues se actualizan los valores para cada instante de cada episodio. La única diferencia es que, en lugar de actualizar los valores de la tabla $Q$, se actualizan los pesos de las redes neuronales empleadas."
      ],
      "metadata": {
        "id": "U1vD_lrZ6cPg"
      }
    },
    {
      "cell_type": "code",
      "execution_count": 8,
      "metadata": {
        "id": "D6D5DSBcraa3"
      },
      "outputs": [],
      "source": [
        "def train_dqn(agent, num_episodes):\n",
        "  len_episodes = [] # Para guardar la longitud de los episodios\n",
        "  step_display = num_episodes / 10\n",
        "  #np.random.seed(SEED)\n",
        "  rewards_per_episode = []  # Para guardar la recompensa total de cada episodio\n",
        "  episode_losses = []  # Para guardar la pérdida media de cada episodio\n",
        "\n",
        "  for episode in tqdm(range(num_episodes)):\n",
        "    state, _ = agent.env.reset(seed=SEED)\n",
        "    total_reward = 0\n",
        "    len_episode = 0  # Inicializamos la longitud del episodio\n",
        "    done = False\n",
        "    losses_in_episode = []\n",
        "    while not done and len_episode < agent.max_steps_episode:\n",
        "      action = agent.get_action(state)  # Seleccionar acción\n",
        "      next_state, reward, done, _, _ = agent.env.step(action)  # Ejecutar acción\n",
        "      agent.replay_buffer.push(state, action, reward, next_state, done)  # Guardar en buffer\n",
        "      state = next_state\n",
        "      total_reward += reward\n",
        "      len_episode += 1\n",
        "\n",
        "      loss = agent.update()  # Actualizar red DQN\n",
        "\n",
        "      if loss is None:\n",
        "        loss = 0 # Se está rellenando el buffer todavía. Esto debería de ocurrir sólo en el primer episodio\n",
        "\n",
        "      losses_in_episode.append(loss)\n",
        "      agent.steps += 1\n",
        "\n",
        "    #print(len_episode)\n",
        "    mean_loss = np.mean(losses_in_episode)\n",
        "    episode_losses.append(mean_loss)  # Guardar la pérdida media del episodio\n",
        "\n",
        "    # Reducir epsilon con decaimiento exponencial\n",
        "    #if episode > 1000:\n",
        "    #  agent.epsilon = max(agent.epsilon * agent.epsilon_decay, agent.epsilon_min)\n",
        "\n",
        "    # Decay inversamente proporcional al número de episodios\n",
        "    #agent.epsilon = min(agent.epsilon, 200/(episode+1))\n",
        "\n",
        "    rewards_per_episode.append(total_reward)\n",
        "    # Almacenamos la longitud del episodio\n",
        "    len_episodes.append(len_episode)\n",
        "\n",
        "    # Para mostrar la evolución.  Comentar si no se quiere mostrar\n",
        "    if episode % step_display == 0 and episode != 0:\n",
        "      print(f\"Episode {episode+1}/{num_episodes}, total reward: {total_reward}; len_episode: {len_episode}; epsilon: {agent.epsilon}; mean_loss: {mean_loss}\")\n",
        "\n",
        "  return rewards_per_episode, len_episodes, episode_losses"
      ]
    },
    {
      "cell_type": "code",
      "execution_count": 9,
      "metadata": {
        "id": "R5cVAne33tE3"
      },
      "outputs": [],
      "source": [
        "def run_episode_greedy(agent, max_steps=200):\n",
        "    \"\"\"\n",
        "    Ejecuta un episodio usando la política greedy y captura los fotogramas.\n",
        "\n",
        "    Parámetros:\n",
        "      - env: Entorno Gymnasium configurado con render_mode='rgb_array'.\n",
        "      - q_network: Red neuronal QNetwork con los pesos cargados.\n",
        "      - max_steps (int): Número máximo de pasos a ejecutar en el episodio.\n",
        "\n",
        "    Retorna:\n",
        "      - list: Lista de fotogramas (imágenes) capturados durante el episodio.\n",
        "    \"\"\"\n",
        "    frames = []  # Lista para almacenar cada fotograma.\n",
        "\n",
        "    # Reiniciar el entorno y obtener el estado inicial.\n",
        "    state, _ = agent.env.reset()\n",
        "    done = False  # Indicador de finalización del episodio.\n",
        "\n",
        "    # Ejecutar el episodio hasta max_steps o hasta que el entorno indique que ha terminado.\n",
        "    for _ in range(max_steps):\n",
        "        # Capturar el fotograma actual del entorno.\n",
        "        frame = agent.env.render()\n",
        "        frames.append(frame)\n",
        "\n",
        "        # Seleccionar la acción óptima utilizando la función greedy.\n",
        "        action = agent.greedy_action(state)\n",
        "\n",
        "        # Ejecutar la acción en el entorno y obtener el siguiente estado y otros datos.\n",
        "        next_state, reward, done, truncated, info = agent.env.step(action)\n",
        "        state = next_state  # Actualizar el estado.\n",
        "\n",
        "        # Si el episodio ha terminado o se ha truncado, capturar el fotograma final y salir.\n",
        "        if done or truncated:\n",
        "            frames.append(agent.env.render())\n",
        "            break\n",
        "\n",
        "    return frames"
      ]
    },
    {
      "cell_type": "markdown",
      "metadata": {
        "id": "mi7byXFDv3zx"
      },
      "source": [
        "## Funciones auxiliares"
      ]
    },
    {
      "cell_type": "code",
      "execution_count": 10,
      "metadata": {
        "id": "04AID2CUKmJe"
      },
      "outputs": [],
      "source": [
        "import imageio\n",
        "\n",
        "def frames_to_gif(frames, filename=\"MountainCar_DeepQ.gif\"):\n",
        "    \"\"\"\n",
        "    Crea un archivo GIF a partir de una lista de fotogramas.\n",
        "\n",
        "    Parámetros:\n",
        "      - frames (list): Lista de fotogramas (imágenes) capturados del entorno.\n",
        "      - filename (str): Nombre del archivo GIF resultante.\n",
        "\n",
        "    Retorna:\n",
        "      - str: Nombre del archivo GIF creado.\n",
        "    \"\"\"\n",
        "    # Abrir un escritor de GIF con imageio.\n",
        "    with imageio.get_writer(filename, mode='I') as writer:\n",
        "        # Agregar cada fotograma al GIF.\n",
        "        for frame in frames:\n",
        "            writer.append_data(frame)\n",
        "    return filename"
      ]
    },
    {
      "cell_type": "code",
      "execution_count": 11,
      "metadata": {
        "id": "g3t-46FiKynO"
      },
      "outputs": [],
      "source": [
        "import base64\n",
        "from IPython.display import HTML\n",
        "\n",
        "def display_gif(gif_path):\n",
        "    \"\"\"\n",
        "    Muestra un GIF en Google Colab.\n",
        "\n",
        "    Parámetros:\n",
        "      - gif_path (str): Ruta del archivo GIF.\n",
        "\n",
        "    Retorna:\n",
        "      - HTML: Objeto HTML que contiene el GIF incrustado.\n",
        "    \"\"\"\n",
        "    # Abrir el archivo GIF en modo binario.\n",
        "    with open(gif_path, 'rb') as f:\n",
        "        video = f.read()\n",
        "    # Convertir el contenido del GIF a una cadena Base64.\n",
        "    b64 = base64.b64encode(video)\n",
        "    # Retornar el objeto HTML que muestra el GIF.\n",
        "    return HTML(f'')"
      ]
    },
    {
      "cell_type": "code",
      "execution_count": 12,
      "metadata": {
        "id": "Kh2ry6QrbKRK"
      },
      "outputs": [],
      "source": [
        "def plot_stats(list_stats, title):\n",
        "  # Creamos una lista de índices para el eje x\n",
        "  indices = list(range(len(list_stats)))\n",
        "\n",
        "  # Creamos el gráfico\n",
        "  plt.figure(figsize=(6, 3))\n",
        "  plt.plot(indices, list_stats)\n",
        "\n",
        "  # Añadimos título y etiquetas\n",
        "  plt.title(title)\n",
        "  plt.xlabel('Episodio')\n",
        "\n",
        "  # Mostramos el gráfico\n",
        "  plt.grid(True)\n",
        "  plt.show()"
      ]
    },
    {
      "cell_type": "code",
      "execution_count": 13,
      "metadata": {
        "id": "lyaYAL-ubjpT"
      },
      "outputs": [],
      "source": [
        "from scipy import stats\n",
        "\n",
        "def moving_average(data, window_size):\n",
        "    return np.convolve(data, np.ones(window_size)/window_size, mode='valid')"
      ]
    },
    {
      "cell_type": "code",
      "execution_count": 14,
      "metadata": {
        "id": "5nI9c832bTFp",
        "colab": {
          "base_uri": "https://localhost:8080/"
        },
        "outputId": "c72784e5-ff13-403e-bf86-9489ff292365"
      },
      "outputs": [
        {
          "output_type": "stream",
          "name": "stderr",
          "text": [
            "/usr/local/lib/python3.11/dist-packages/ipykernel/ipkernel.py:283: DeprecationWarning: `should_run_async` will not call `transform_cell` automatically in the future. Please pass the result to `transformed_cell` argument and any exception that happen during thetransform in `preprocessing_exc_tuple` in IPython 7.17 and above.\n",
            "  and should_run_async(code)\n"
          ]
        }
      ],
      "source": [
        "def plot_len_tendency(list_len, degree=3):\n",
        "  #indices = list(range(len(list_len)))\n",
        "\n",
        "  plt.figure(figsize=(8, 4))\n",
        "  #plt.plot(indices, list_len, label= \"Longitud del episodio\")\n",
        "  plt.plot(list_len, label= \"Longitud del episodio\", alpha=0.7)\n",
        "  # Curva de media móvil\n",
        "  avg = moving_average(list_len, window_size=50)\n",
        "  plt.plot(range(len(avg)), avg, label=\"Media Móvil\", color='red')\n",
        "\n",
        "  plt.title('Longitud de los episodios')\n",
        "  plt.xlabel('Episodio')\n",
        "  plt.ylabel('Longitud')\n",
        "  plt.legend()\n",
        "\n",
        "  plt.grid(True)\n",
        "  plt.show()"
      ]
    },
    {
      "cell_type": "markdown",
      "metadata": {
        "id": "9QRik8tY83qt"
      },
      "source": [
        "## Entorno"
      ]
    },
    {
      "cell_type": "markdown",
      "source": [
        "El entorno empleado ya lo explicamos en detalle en el notebook `SARSA-semigradiente.ipynb`. Consiste en Mountain Car de Gymnasium, en su versión que discretiza el espacio de acciones."
      ],
      "metadata": {
        "id": "DpZu6bMK7Ahy"
      }
    },
    {
      "cell_type": "code",
      "execution_count": 19,
      "metadata": {
        "colab": {
          "base_uri": "https://localhost:8080/"
        },
        "id": "IJP9CjkjtuSY",
        "outputId": "c95258e3-50ca-4e77-9b18-e1b6474d32fc"
      },
      "outputs": [
        {
          "output_type": "stream",
          "name": "stderr",
          "text": [
            "/usr/local/lib/python3.11/dist-packages/gym/core.py:317: DeprecationWarning: \u001b[33mWARN: Initializing wrapper in old step API which returns one bool instead of two. It is recommended to set `new_step_api=True` to use new step API. This will be the default behaviour in future.\u001b[0m\n",
            "  deprecation(\n",
            "/usr/local/lib/python3.11/dist-packages/gym/wrappers/step_api_compatibility.py:39: DeprecationWarning: \u001b[33mWARN: Initializing environment in old step API which returns one bool instead of two. It is recommended to set `new_step_api=True` to use new step API. This will be the default behaviour in future.\u001b[0m\n",
            "  deprecation(\n"
          ]
        },
        {
          "output_type": "execute_result",
          "data": {
            "text/plain": [
              "array([-0.46483374,  0.        ], dtype=float32)"
            ]
          },
          "metadata": {},
          "execution_count": 19
        }
      ],
      "source": [
        "env = gym.make(\"MountainCar-v0\", render_mode=\"rgb_array\")\n",
        "# Fijamos la semilla en Gymnasium\n",
        "env.reset(seed=SEED)"
      ]
    },
    {
      "cell_type": "code",
      "execution_count": 20,
      "metadata": {
        "colab": {
          "base_uri": "https://localhost:8080/"
        },
        "id": "aTr1adDheRR-",
        "outputId": "1e2f6360-ade8-4f3e-9691-c94362ce7ddc"
      },
      "outputs": [
        {
          "output_type": "execute_result",
          "data": {
            "text/plain": [
              "2"
            ]
          },
          "metadata": {},
          "execution_count": 20
        }
      ],
      "source": [
        "env.observation_space.shape[0]"
      ]
    },
    {
      "cell_type": "code",
      "execution_count": 21,
      "metadata": {
        "colab": {
          "base_uri": "https://localhost:8080/"
        },
        "id": "JMuHDR61tvby",
        "outputId": "156be22b-9b72-4126-ed46-9e7d17a903af"
      },
      "outputs": [
        {
          "output_type": "execute_result",
          "data": {
            "text/plain": [
              "[array([[[255, 255, 255],\n",
              "         [255, 255, 255],\n",
              "         [255, 255, 255],\n",
              "         ...,\n",
              "         [255, 255, 255],\n",
              "         [255, 255, 255],\n",
              "         [255, 255, 255]],\n",
              " \n",
              "        [[255, 255, 255],\n",
              "         [255, 255, 255],\n",
              "         [255, 255, 255],\n",
              "         ...,\n",
              "         [255, 255, 255],\n",
              "         [255, 255, 255],\n",
              "         [255, 255, 255]],\n",
              " \n",
              "        [[255, 255, 255],\n",
              "         [255, 255, 255],\n",
              "         [255, 255, 255],\n",
              "         ...,\n",
              "         [255, 255, 255],\n",
              "         [255, 255, 255],\n",
              "         [255, 255, 255]],\n",
              " \n",
              "        ...,\n",
              " \n",
              "        [[255, 255, 255],\n",
              "         [255, 255, 255],\n",
              "         [255, 255, 255],\n",
              "         ...,\n",
              "         [255, 255, 255],\n",
              "         [255, 255, 255],\n",
              "         [255, 255, 255]],\n",
              " \n",
              "        [[255, 255, 255],\n",
              "         [255, 255, 255],\n",
              "         [255, 255, 255],\n",
              "         ...,\n",
              "         [255, 255, 255],\n",
              "         [255, 255, 255],\n",
              "         [255, 255, 255]],\n",
              " \n",
              "        [[255, 255, 255],\n",
              "         [255, 255, 255],\n",
              "         [255, 255, 255],\n",
              "         ...,\n",
              "         [255, 255, 255],\n",
              "         [255, 255, 255],\n",
              "         [255, 255, 255]]], dtype=uint8)]"
            ]
          },
          "metadata": {},
          "execution_count": 21
        }
      ],
      "source": [
        "env.render()"
      ]
    },
    {
      "cell_type": "markdown",
      "metadata": {
        "id": "3QGk_SsWwSri"
      },
      "source": [
        "## Entrenamiento"
      ]
    },
    {
      "cell_type": "code",
      "execution_count": null,
      "metadata": {
        "colab": {
          "background_save": true,
          "base_uri": "https://localhost:8080/"
        },
        "id": "IQ_Rk2i9wUhU",
        "outputId": "2c5562b4-f90a-41e8-dcee-9196e6a62286"
      },
      "outputs": [
        {
          "name": "stderr",
          "output_type": "stream",
          "text": [
            " 10%|█         | 1001/10000 [06:47<58:34,  2.56it/s]"
          ]
        },
        {
          "name": "stdout",
          "output_type": "stream",
          "text": [
            "Episode 1001/10000, total reward: -200.0; len_episode: 200; epsilon: 0.3; mean_loss: 0.013212638192653685\n"
          ]
        },
        {
          "name": "stderr",
          "output_type": "stream",
          "text": [
            " 20%|██        | 2001/10000 [13:31<57:28,  2.32it/s]"
          ]
        },
        {
          "name": "stdout",
          "output_type": "stream",
          "text": [
            "Episode 2001/10000, total reward: -200.0; len_episode: 200; epsilon: 0.3; mean_loss: 0.036627685390412806\n"
          ]
        },
        {
          "name": "stderr",
          "output_type": "stream",
          "text": [
            " 30%|███       | 3001/10000 [19:43<42:08,  2.77it/s]"
          ]
        },
        {
          "name": "stdout",
          "output_type": "stream",
          "text": [
            "Episode 3001/10000, total reward: -200.0; len_episode: 200; epsilon: 0.3; mean_loss: 0.1935851463768631\n"
          ]
        },
        {
          "name": "stderr",
          "output_type": "stream",
          "text": [
            " 40%|████      | 4001/10000 [25:47<33:56,  2.95it/s]"
          ]
        },
        {
          "name": "stdout",
          "output_type": "stream",
          "text": [
            "Episode 4001/10000, total reward: -129.0; len_episode: 129; epsilon: 0.3; mean_loss: 0.3457709561253703\n"
          ]
        },
        {
          "name": "stderr",
          "output_type": "stream",
          "text": [
            " 50%|█████     | 5001/10000 [32:16<30:18,  2.75it/s]"
          ]
        },
        {
          "name": "stdout",
          "output_type": "stream",
          "text": [
            "Episode 5001/10000, total reward: -183.0; len_episode: 183; epsilon: 0.3; mean_loss: 0.5377364950916155\n"
          ]
        },
        {
          "name": "stderr",
          "output_type": "stream",
          "text": [
            " 60%|██████    | 6001/10000 [38:42<31:39,  2.11it/s]"
          ]
        },
        {
          "name": "stdout",
          "output_type": "stream",
          "text": [
            "Episode 6001/10000, total reward: -200.0; len_episode: 200; epsilon: 0.3; mean_loss: 0.3260135434009135\n"
          ]
        },
        {
          "name": "stderr",
          "output_type": "stream",
          "text": [
            " 70%|███████   | 7001/10000 [44:57<15:43,  3.18it/s]"
          ]
        },
        {
          "name": "stdout",
          "output_type": "stream",
          "text": [
            "Episode 7001/10000, total reward: -153.0; len_episode: 153; epsilon: 0.3; mean_loss: 0.35032656652475497\n"
          ]
        },
        {
          "name": "stderr",
          "output_type": "stream",
          "text": [
            " 80%|████████  | 8001/10000 [50:56<09:53,  3.37it/s]"
          ]
        },
        {
          "name": "stdout",
          "output_type": "stream",
          "text": [
            "Episode 8001/10000, total reward: -155.0; len_episode: 155; epsilon: 0.3; mean_loss: 0.44537893331819967\n"
          ]
        },
        {
          "name": "stderr",
          "output_type": "stream",
          "text": [
            " 90%|█████████ | 9001/10000 [56:31<05:15,  3.17it/s]"
          ]
        },
        {
          "name": "stdout",
          "output_type": "stream",
          "text": [
            "Episode 9001/10000, total reward: -164.0; len_episode: 164; epsilon: 0.3; mean_loss: 0.29240116894972035\n"
          ]
        },
        {
          "name": "stderr",
          "output_type": "stream",
          "text": [
            "100%|██████████| 10000/10000 [1:02:37<00:00,  2.66it/s]"
          ]
        },
        {
          "name": "stdout",
          "output_type": "stream",
          "text": [
            "Pasos totales: 1844967\n"
          ]
        },
        {
          "name": "stderr",
          "output_type": "stream",
          "text": [
            "\n"
          ]
        }
      ],
      "source": [
        "n_episodes = 10000\n",
        "\n",
        "agent = DQN_Agent(env, hidden_dim=64, lr=1e-3, gamma=0.99, epsilon=0.3, epsilon_min=0.05, epsilon_decay=0.995, buffer_size=5000, batch_size=32, target_update_freq=5000, max_steps_episode=200)\n",
        "\n",
        "rewards_per_episode, len_episode, episode_losses = train_dqn(agent, n_episodes)\n",
        "agent.save_model(\"modelo_dqn.pth\")\n",
        "print(f'Pasos totales: {agent.steps}')"
      ]
    },
    {
      "cell_type": "code",
      "execution_count": null,
      "metadata": {
        "id": "h1p3I-QJ3ewS"
      },
      "outputs": [],
      "source": [
        "plot_stats(rewards_per_episode, 'Recompensa por episodio')"
      ]
    },
    {
      "cell_type": "code",
      "execution_count": null,
      "metadata": {
        "colab": {
          "base_uri": "https://localhost:8080/",
          "height": 372
        },
        "id": "P8hd_crq3hZM",
        "outputId": "540afba1-88b8-4d68-c5d0-1f2dbc0751a5"
      },
      "outputs": [
        {
          "data": {
            "image/png": "[encoded data removed]",
            "text/plain": [
              "<Figure size 800x400 with 1 Axes>"
            ]
          },
          "metadata": {},
          "output_type": "display_data"
        }
      ],
      "source": [
        "plot_len_tendency(len_episode)"
      ]
    },
    {
      "cell_type": "code",
      "execution_count": null,
      "metadata": {
        "colab": {
          "base_uri": "https://localhost:8080/",
          "height": 334
        },
        "id": "w6giy1Mt3jBq",
        "outputId": "3b72422d-edba-41ad-f092-04305ca81c11"
      },
      "outputs": [
        {
          "data": {
            "image/png": "[encoded data removed]",
            "text/plain": [
              "<Figure size 600x300 with 1 Axes>"
            ]
          },
          "metadata": {},
          "output_type": "display_data"
        }
      ],
      "source": [
        "plot_stats(episode_losses, 'Pérdida promedio por episodio')"
      ]
    },
    {
      "cell_type": "markdown",
      "metadata": {
        "id": "WbTWart7PzCQ"
      },
      "source": [
        "## Evaluación"
      ]
    },
    {
      "cell_type": "code",
      "execution_count": null,
      "metadata": {
        "colab": {
          "base_uri": "https://localhost:8080/"
        },
        "id": "TpYDbYpmLLro",
        "outputId": "2ce333fc-b3c6-40e6-c531-77d0fc3fd814"
      },
      "outputs": [
        {
          "name": "stdout",
          "output_type": "stream",
          "text": [
            "GIF guardado en: MountainCar_DeepQ.gif\n"
          ]
        }
      ],
      "source": [
        "# Ejecutar un episodio utilizando la política greedy y capturar los fotogramas.\n",
        "frames = run_episode_greedy(agent)\n",
        "\n",
        "# Crear el GIF a partir de los fotogramas capturados.\n",
        "gif_path = frames_to_gif(frames)\n",
        "print(\"GIF guardado en:\", gif_path)"
      ]
    },
    {
      "cell_type": "code",
      "execution_count": null,
      "metadata": {
        "colab": {
          "base_uri": "https://localhost:8080/",
          "height": 17
        },
        "id": "KPYwiGx8Lbay",
        "outputId": "cfa0b165-5a3f-4480-c39b-b5708d2503e8"
      },
      "outputs": [
        {
          "data": {
            "text/html": [],
            "text/plain": [
              "<IPython.core.display.HTML object>"
            ]
          },
          "execution_count": 26,
          "metadata": {},
          "output_type": "execute_result"
        }
      ],
      "source": [
        "display_gif(gif_path)"
      ]
    }
  ],
  "metadata": {
    "colab": {
      "provenance": [],
      "authorship_tag": "ABX9TyOGqwF/m85PTUPmxfDr+Q+k",
      "include_colab_link": true
    },
    "kernelspec": {
      "display_name": "Python 3",
      "name": "python3"
    },
    "language_info": {
      "name": "python"
    }
  },
  "nbformat": 4,
  "nbformat_minor": 0
}