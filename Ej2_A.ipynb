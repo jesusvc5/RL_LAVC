{
  "nbformat": 4,
  "nbformat_minor": 0,
  "metadata": {
    "colab": {
      "provenance": [],
      "authorship_tag": "ABX9TyPH6scSWyTalF+9mpJi1RnP",
      "include_colab_link": true
    },
    "kernelspec": {
      "name": "python3",
      "display_name": "Python 3"
    },
    "language_info": {
      "name": "python"
    }
  },
  "cells": [
    {
      "cell_type": "markdown",
      "metadata": {
        "id": "view-in-github",
        "colab_type": "text"
      },
      "source": [
        "<a href=\"https://colab.research.google.com/github/jesusvc5/RL_LAVC/blob/main/Ej2_A.ipynb\" target=\"_parent\"><img src=\"https://colab.research.google.com/assets/colab-badge.svg\" alt=\"Open In Colab\"/></a>"
      ]
    },
    {
      "cell_type": "code",
      "execution_count": null,
      "metadata": {
        "id": "fzpn_ejysg02"
      },
      "outputs": [],
      "source": []
    },
    {
      "cell_type": "markdown",
      "source": [
        "# **Monte Carlo con Políticas epsilon-soft**\n",
        "\n",
        "_Esto es un ejemplo de uso de Gymnasium e informe sobre un experimento de aprendizaje por refuerzo_\n",
        "\n",
        "````\n",
        "Luis D. Hernández.\n",
        "<ldaniel at um.es>\n",
        "````\n",
        "\n",
        "Este notebook describe un experimento de aprendizaje por refuerzo utilizando el algoritmo de Monte Carlo con políticas epsilon-soft. El propósito de este análisis es entrenar un agente en un entorno de gym con el juego \"FrozenLake\", un entorno estándar en el que el agente debe aprender a moverse a través de un mapa en busca de una meta, evitando caer en agujeros. A continuación, se presenta una descripción de las diferentes partes del código y el proceso utilizado en el experimento.\n",
        "\n",
        "🎯 **Ojo, el código debe modificarse para ser un auténtico Monte Carlo. Supongo que sabrás darte cuenta.**"
      ],
      "metadata": {
        "id": "SipaVo-gz1ey"
      }
    },
    {
      "cell_type": "markdown",
      "source": [
        "## **1. Preparación del Entorno**"
      ],
      "metadata": {
        "id": "loCIjd-T0AVg"
      }
    },
    {
      "cell_type": "markdown",
      "source": [
        "La preparación consta de las siguientes partes:\n",
        "- **Instalación de Dependencias**: Se instalan las librerías necesarias para utilizar el entorno `gymnasium` para la simulación, con el objetivo de crear un ambiente controlado para que el agente pueda interactuar.\n",
        "- **Importación de Librerías**: Se importan las bibliotecas necesarias como `numpy` para el manejo de matrices y `matplotlib` para la visualización de los resultados.\n",
        "\n",
        "- **Importación del Entorno \"FrozenLake\"**:\n",
        "Se cargan dos versiones del entorno \"FrozenLake\": una de 4x4 y otra de 8x8. Ambas versiones no son resbaladizas, lo que facilita la comprensión de los resultados, dado que el entorno resbaladizo podría dificultar la comprensión inicial del aprendizaje.\n",
        "\n",
        "#### 3. **Funciones para Mostrar los Resultados**\n",
        "   - Se define una función para graficar la proporción de recompensas obtenidas en cada episodio del entrenamiento. Esto ayuda a visualizar el progreso del agente en términos de su desempeño durante el entrenamiento.\n",
        "\n"
      ],
      "metadata": {
        "id": "e2MTvyPWcU2q"
      }
    },
    {
      "cell_type": "markdown",
      "source": [
        "##### _________ **Código de la Instalación e Importación**\n",
        "----"
      ],
      "metadata": {
        "id": "0P7_98YrcsZw"
      }
    },
    {
      "cell_type": "code",
      "execution_count": null,
      "metadata": {
        "id": "s-wSiHxNyuBH"
      },
      "outputs": [],
      "source": [
        "%%capture\n",
        "#@title Instalamos gym\n",
        "!pip install 'gym[box2d]==0.20.0'\n",
        "\n",
        "## Instalación de algunos paquetes.\n",
        "#!apt-get update\n",
        "## Para usar gymnasium[box2d]\n",
        "#!apt install swig\n",
        "#!pip install gymnasium[box2d]"
      ]
    },
    {
      "cell_type": "code",
      "source": [
        "#@title Importamos librerias\n",
        "import numpy as np\n",
        "import matplotlib.pyplot as plt\n",
        "from tqdm import tqdm\n",
        "import gymnasium as gym"
      ],
      "metadata": {
        "id": "o5s4pz9Hzk7r"
      },
      "execution_count": null,
      "outputs": []
    },
    {
      "cell_type": "code",
      "source": [
        "#@title Importamos el lago helado\n",
        "name = 'FrozenLake-v1'\n",
        "env4 = gym.make(name, is_slippery=False, map_name=\"4x4\", render_mode=\"ansi\") # No resbaladizo para entender mejor los resultados.\n",
        "env8 = gym.make(name, is_slippery=False, map_name=\"8x8\", render_mode=\"ansi\") # No resbaladizo para entender mejor los resultados."
      ],
      "metadata": {
        "id": "0ogCwKft-Ki9"
      },
      "execution_count": null,
      "outputs": []
    },
    {
      "cell_type": "markdown",
      "source": [
        "## **2. Diseño del Agente**\n",
        "\n",
        "El diseño del agente consta de dos partes, el algoritmo con el que aprende y las políticas (toma de decisiones) que realiza.\n",
        "\n",
        "- **Políticas del Agente**\n",
        "   - **Política epsilon-soft**: Se define una política donde todas las acciones tienen una probabilidad de ser elegida.\n",
        "   - **Política epsilon-greedy**: basada en la política epsilon-soft. De esta forma el agente tiene una pequeña probabilidad de explorar (tomar una acción aleatoria) y una mayor probabilidad de explotar (tomar la acción que considera mejor). Esto permite equilibrar la exploración y la explotación.\n",
        "   - **Política greedy**: Es la usada una vez que \"ha aprendido\".\n",
        "\n",
        "- **Algoritmo de Iteración de Valor**\n",
        "  - Se implementa el algoritmo de iteración de valor utilizando Monte Carlo.\n",
        "  - Se usa una versión \"on-policy\" de Monte Carlo con políticas epsilon greedy sobre una política epsilon-soft.\n",
        "  - Se basa en el criterio de todas las visitas.\n",
        "  - Otro aspecto es que la actualización de los retornos no se realiza en el orden inverso a las visitas."
      ],
      "metadata": {
        "id": "n1ySdi2wdXdm"
      }
    },
    {
      "cell_type": "markdown",
      "source": [
        "#### **Código de las políticas y algoritmo MC**\n",
        "----------------"
      ],
      "metadata": {
        "id": "9vDI1gmKfDPT"
      }
    },
    {
      "cell_type": "markdown",
      "source": [
        "**Según Gymnasium:**\n",
        "\n",
        "**Definición del agente:**"
      ],
      "metadata": {
        "id": "Uj9dLD8FuBPx"
      }
    },
    {
      "cell_type": "code",
      "source": [
        "# actions\n",
        "LEFT, DOWN, RIGHT, UP = 0,1,2,3\n",
        "\n",
        "class AgentMonteCarloOnPolicy:\n",
        "  def __init__(self,\n",
        "               env:gym.Env,\n",
        "               epsilon:float,\n",
        "               decay:bool,\n",
        "               discount_factor:float): #hiperparametros):\n",
        "    \"\"\"Inicializa todo lo necesario para el aprendizaje\"\"\"\n",
        "    self.env = env\n",
        "    self.epsilon = initial_epsilon\n",
        "    self.decay = decay\n",
        "    self.discount_factor = discount_factor\n",
        "    self.nA = env.action_space.n\n",
        "    self.nS = env.observation_space.n\n",
        "    # Cada vez que se hace self.q_values[state] para un state nuevo, se crea un nuevo espacio de valores Q(state,a), para cada acción\n",
        "    #self.q_values = defaultdict(lambda: np.zeros(env.action_space.n))\n",
        "    self.Q = np.zeros((self.nS, self.nA))\n",
        "\n",
        "  def set_epsilon(eps):\n",
        "    self.epsilon = eps\n",
        "\n",
        "\n",
        "  \"\"\"\n",
        "  Indicará qué acción realizar de acuerdo al estado.\n",
        "  Responde a la política del agente.\n",
        "  Construir tantas funciones de este tipo como políticas se quieran usar.\n",
        "  \"\"\"\n",
        "  # Política epsilon-soft\n",
        "  def get_action_epsilon_soft(self, state):\n",
        "    pi_A = np.ones(nA, dtype=float) * self.epsilon / self.nA\n",
        "    best_action = np.argmax(self.Q[state])\n",
        "    pi_A[best_action] += (1.0 - self.epsilon)\n",
        "    return pi_A\n",
        "\n",
        "  # Política epsilon-greedy a partir de una epsilon-soft\n",
        "  def get_action_epsilon_greedy_from_epssoft(self, state):\n",
        "    pi_A = get_action_epsilon_soft(self, state)\n",
        "    return np.random.choice(np.arange(self.nA), p=pi_A)\n",
        "\n",
        "  # Política Greedy a partir de los valones Q. Se usa para mostrar la solución.\n",
        "  def get_action_greedy_from_Q(self, env):\n",
        "    done = False\n",
        "    pi_star = np.zeros([env.observation_space.n, env.action_space.n])\n",
        "    state, info = env.reset() # start in top-left, = 0\n",
        "    actions = \"\"\n",
        "    while not done:\n",
        "        action = np.argmax(self.Q[state, :])\n",
        "        actions += f\"{action}, \"\n",
        "        pi_star[state,action] = action\n",
        "        state, reward, terminated, truncated, info = env.step(action)\n",
        "        done = terminated or truncated\n",
        "    return pi_star, actions\n",
        "\n",
        "  # Updates the Q-value of an action\n",
        "  def update(self, obs, action, next_state, reward, terminated, truncated, info):\n",
        "    \"\"\"\n",
        "    Con la muestra (s, a, s', r) e información complementaria aplicamos el algoritmo.\n",
        "    update() no es más que el algoritmo de aprendizaje del agente.\n",
        "    Se añadirá lo necesario para obtener resultados estadísticos, evolución, etc ...\n",
        "    \"\"\"\n",
        "\n",
        "\n",
        "  def stats():\n",
        "\n",
        "\n"
      ],
      "metadata": {
        "id": "ROW3rDdNuA1P"
      },
      "execution_count": null,
      "outputs": []
    },
    {
      "cell_type": "markdown",
      "source": [
        "**Algoritmo:**"
      ],
      "metadata": {
        "id": "7KU1uXDaxGbl"
      }
    },
    {
      "cell_type": "code",
      "source": [
        "import gymnasium as gym\n",
        "\n",
        "agent = AgentMonteCarloOnPolicy(env4) # Si queremos usa MC\n",
        "\n",
        "for episode in tqdm(range(n_episodes)):\n",
        "  state, info = env.reset()\n",
        "  done = False\n",
        "\n",
        "  episode = []\n",
        "  G = []\n",
        "  factor_list = []\n",
        "\n",
        "  # play one episode\n",
        "  while not done:\n",
        "    if self.decay:\n",
        "      self.set_epsilon(min(1.0, 1000.0/(self.episode+1)))\n",
        "\n",
        "    # get action\n",
        "    action = agent.get_action_epsilon_greedy_from_epssoft(state)\n",
        "    next_state, reward, terminated, truncated, info = env.step(action)\n",
        "\n",
        "    episode.append((state, action))\n",
        "\n",
        "    # update the agent\n",
        "    agent.update(self, state, action, next_state, reward, terminated, truncated, info)\n",
        "\n",
        "    # update if the environment is done and the current obs\n",
        "    done = terminated or truncated\n",
        "    state = next_state\n",
        "\n",
        "\n",
        "\n",
        "stats = agent.stats() # Retorna los resultados estadísticos, evolución, etc ...\n",
        "\n",
        "# Mostrar las estadísticas\n"
      ],
      "metadata": {
        "id": "p1WkqQGuxJZO",
        "colab": {
          "base_uri": "https://localhost:8080/",
          "height": 383
        },
        "outputId": "a1cf00be-4c02-41a1-eaa6-73d64a2ed05f"
      },
      "execution_count": null,
      "outputs": [
        {
          "output_type": "error",
          "ename": "ModuleNotFoundError",
          "evalue": "No module named 'agents'",
          "traceback": [
            "\u001b[0;31m---------------------------------------------------------------------------\u001b[0m",
            "\u001b[0;31mModuleNotFoundError\u001b[0m                       Traceback (most recent call last)",
            "\u001b[0;32m<ipython-input-5-9b58ecbd0385>\u001b[0m in \u001b[0;36m<cell line: 0>\u001b[0;34m()\u001b[0m\n\u001b[1;32m      1\u001b[0m \u001b[0;32mimport\u001b[0m \u001b[0mgymnasium\u001b[0m \u001b[0;32mas\u001b[0m \u001b[0mgym\u001b[0m\u001b[0;34m\u001b[0m\u001b[0;34m\u001b[0m\u001b[0m\n\u001b[0;32m----> 2\u001b[0;31m \u001b[0;32mfrom\u001b[0m \u001b[0magents\u001b[0m \u001b[0;32mimport\u001b[0m \u001b[0mAgentMonteCarlo\u001b[0m\u001b[0;34m\u001b[0m\u001b[0;34m\u001b[0m\u001b[0m\n\u001b[0m\u001b[1;32m      3\u001b[0m \u001b[0;34m\u001b[0m\u001b[0m\n\u001b[1;32m      4\u001b[0m \u001b[0menv\u001b[0m \u001b[0;34m=\u001b[0m \u001b[0mgym\u001b[0m\u001b[0;34m.\u001b[0m\u001b[0mmake\u001b[0m\u001b[0;34m(\u001b[0m\u001b[0;34m'nombreEntorno'\u001b[0m\u001b[0;34m)\u001b[0m\u001b[0;34m\u001b[0m\u001b[0;34m\u001b[0m\u001b[0m\n\u001b[1;32m      5\u001b[0m \u001b[0magent\u001b[0m \u001b[0;34m=\u001b[0m \u001b[0mAgentMonteCarloOnPolicy\u001b[0m\u001b[0;34m(\u001b[0m\u001b[0menv\u001b[0m\u001b[0;34m)\u001b[0m \u001b[0;31m# Si queremos usa MC\u001b[0m\u001b[0;34m\u001b[0m\u001b[0;34m\u001b[0m\u001b[0m\n",
            "\u001b[0;31mModuleNotFoundError\u001b[0m: No module named 'agents'",
            "",
            "\u001b[0;31m---------------------------------------------------------------------------\u001b[0;32m\nNOTE: If your import is failing due to a missing package, you can\nmanually install dependencies using either !pip or !apt.\n\nTo view examples of installing some common dependencies, click the\n\"Open Examples\" button below.\n\u001b[0;31m---------------------------------------------------------------------------\u001b[0m\n"
          ],
          "errorDetails": {
            "actions": [
              {
                "action": "open_url",
                "actionText": "Open Examples",
                "url": "/notebooks/snippets/importing_libraries.ipynb"
              }
            ]
          }
        }
      ]
    },
    {
      "cell_type": "code",
      "source": [
        "# @title Políticas del agente\n",
        "\n",
        "# actions\n",
        "LEFT, DOWN, RIGHT, UP = 0,1,2,3\n",
        "\n",
        "# Política epsilon-soft. Se usa para el entrenamiento\n",
        "# Mirar slide 25 tema 5 Monte Carlo\n",
        "def random_epsilon_greedy_policy(Q, epsilon, state, nA):\n",
        "    # cada acción tiene un pi(a)=eps/|A(state)| , es decir, todos tienen la misma prob\n",
        "    pi_A = np.ones(nA, dtype=float) * epsilon / nA\n",
        "    # A* <- argmax_a Q(S_t, a)\n",
        "    best_action = np.argmax(Q[state])\n",
        "    pi_A[best_action] += (1.0 - epsilon)\n",
        "    return pi_A\n",
        "\n",
        "# Política epsilon-greedy a partir de una epsilon-soft\n",
        "def epsilon_greedy_policy(Q, epsilon, state, nA):\n",
        "    pi_A = random_epsilon_greedy_policy(Q, epsilon, state, nA)\n",
        "    return np.random.choice(np.arange(nA), p=pi_A)\n",
        "\n",
        "# Política Greedy a partir de los valones Q. Se usa para mostrar la solución.\n",
        "def pi_star_from_Q(env, Q):\n",
        "    done = False\n",
        "    pi_star = np.zeros([env.observation_space.n, env.action_space.n])\n",
        "    state, info = env.reset() # start in top-left, = 0\n",
        "    actions = \"\"\n",
        "    while not done:\n",
        "        action = np.argmax(Q[state, :])\n",
        "        actions += f\"{action}, \"\n",
        "        pi_star[state,action] = action\n",
        "        state, reward, terminated, truncated, info = env.step(action)\n",
        "        done = terminated or truncated\n",
        "    return pi_star, actions"
      ],
      "metadata": {
        "id": "lVEIYzaJ4p8N"
      },
      "execution_count": null,
      "outputs": []
    },
    {
      "cell_type": "code",
      "source": [
        "#@title Algoritmo de Iteración de Valor versión MC con Políticas epsilon-soft\n",
        "\n",
        "def on_policy_all_visit(env, num_episodes=5000, epsilon=0.4, decay=False, discount_factor=1):\n",
        "  # Matriz de valores  Q\n",
        "  nA = env.action_space.n\n",
        "  Q = np.zeros([env.observation_space.n, nA])\n",
        "\n",
        "  # Número de visitas. Vamoa a realizar la versión incremental.\n",
        "  n_visits = np.zeros([env.observation_space.n, env.action_space.n])\n",
        "\n",
        "  # Para mostrar la evolución en el terminal y algún dato que mostrar\n",
        "  stats = 0.0\n",
        "  list_stats = [stats]\n",
        "  step_display = num_episodes / 10\n",
        "\n",
        "  for t in tqdm(range(num_episodes)):\n",
        "      state, info = env.reset(seed=100)\n",
        "      done = False\n",
        "      episode = []\n",
        "      result_sum = 0.0  # Retorno (G <- 0)\n",
        "      factor = 1 # descuento inicial\n",
        "      # Generación de un episodio\n",
        "      while not done:\n",
        "          if decay:\n",
        "            epsilon = min(1.0, 1000.0/(t+1))\n",
        "          # obtención de la acción a realizar según la política usada\n",
        "          action = epsilon_greedy_policy(Q, epsilon, state, nA)\n",
        "          # ejecutamos la acción en el entorno y obtenemos los resultados\n",
        "          new_state, reward, terminated, truncated, info = env.step(action)\n",
        "          #print(f'reward: {reward}; action: {action}')\n",
        "          #print('----------------')\n",
        "          # update if the environment is done and the current obs\n",
        "          done = terminated or truncated\n",
        "          # añadimos nuevo paso al episodio\n",
        "          episode.append((state, action))\n",
        "          # retorno\n",
        "          result_sum += factor * reward\n",
        "          # si queremos descuento, dependiendo del discount_factor pasado (sin por defecto)\n",
        "          factor *= discount_factor\n",
        "          # actualizamos el estado\n",
        "          state = new_state\n",
        "\n",
        "      # Actualización de los valores Q (es all visit porque cada vez que se ve un par en un\n",
        "      # episodio, se actualiza el Q correspondiente, en lugar de hacerlo la primera vez sólo)\n",
        "      for (state, action) in episode:\n",
        "          # Actualización incremental del slide 9\n",
        "          n_visits[state, action] += 1.0\n",
        "          alpha = 1.0 / n_visits[state, action] # controla cuanto se ajusta el valor actual hacia la recompensa observada\n",
        "          # V(S_t) = V(S_t) + alpha*(G_t - V(S_t)) -> lo que hace que esto no sea un MonteCarlo es que esto no se hace con G_t, si no que se está haciendo con G_0\n",
        "          # En lugar de actualizarse este Q con el G_t correspondiente de su instante de aparición, se está haciendo todo el rato con G_0!!!!!!!!!!!!!!!!\n",
        "          Q[state, action] += alpha * (result_sum - Q[state, action]) # la resta es el error entre la recompensa esperada y la estimación actual\n",
        "\n",
        "      # Guardamos datos sobre la evolución\n",
        "      stats += result_sum\n",
        "      list_stats.append(stats/(t+1))\n",
        "\n",
        "      # Para mostrar la evolución.  Comentar si no se quiere mostrar\n",
        "      if t % step_display == 0 and t != 0:\n",
        "          print(f\"success: {stats/t}, epsilon: {epsilon}\")\n",
        "\n",
        "  return Q, list_stats\n"
      ],
      "metadata": {
        "id": "RpUWKye-7YA1"
      },
      "execution_count": null,
      "outputs": []
    },
    {
      "cell_type": "markdown",
      "source": [
        "## **3. Experimentación**\n",
        "\n",
        "   - En esta sección, el algoritmo de Monte Carlo con la política epsilon-soft se ejecuta tanto para el entorno de 4x4 como al de 8x8 de FrozenLake sin resbalar.\n",
        "   \n",
        "   - En ambos casos se realiza un entrenamiento con un número determinado de episodios (5000 en concreto)\n",
        "\n",
        "   - Además en el escenario 8x8 el  epsilon tiene decaimiento de acuerdo a la expresión: $\\epsilon = min(1.0, 1000.0/(t+1))$\n",
        "\n",
        "   - Durante el entrenamiento hay una visualización de la proporción de recompensas obtenidas a lo largo del entrenamiento.\n",
        "\n",
        "   - Junto a dicho volcado se muestra gráficamente la proporcion de recompensas obtendias.\n",
        "\n",
        "   - También se hace un volcado de los valores Q de cada estado, donde se muestra cómo el agente valora diferentes acciones en distintos estados del entorno, lo que puede interpretarse como su conocimiento sobre las mejores estrategias para alcanzar la meta sin caer en los agujeros.\n",
        "\n",
        "   - Además, se muestra la política óptima derivada de los valores Q. Esta política es la que el agente seguiría si tuviera que elegir siempre la acción que maximiza su recompensa esperada.\n",
        "\n",
        "   "
      ],
      "metadata": {
        "id": "0XxVyTFTfVkL"
      }
    },
    {
      "cell_type": "markdown",
      "source": [
        "### **3.1 Repressentaciones Gráficas**\n",
        "\n",
        "Para comprobar el aprendizaje se mostrará la función $f(t)=\\frac{\\sum_{i=1}^t R_i}{t}$ para $t=1,2,\\ldots, NumeroEpisodios$. La justificación es la siguiente. Como sabemmos que el retorno en el estados inicial 1 (pues no hay descuento) o 9, si se divide por el número de episodios ejecutados se calcular el porcentaje de recompensas positivas obtenidas. Dicho de otra forma, nos dirá el porcentaje de veces que el agente ha llegado al estado terminal.\n",
        "\n",
        "*TODO:* Contruir una gráfica que muestre la longitud de los episodios en cada estado junto con la curva de tendencia."
      ],
      "metadata": {
        "id": "cqdLUE8zQN2v"
      }
    },
    {
      "cell_type": "code",
      "source": [
        "# @title Funciones para mostrar los resultados\n",
        "\n",
        "def plot(list_stats):\n",
        "  # Creamos una lista de índices para el eje x\n",
        "  indices = list(range(len(list_stats)))\n",
        "\n",
        "  # Creamos el gráfico\n",
        "  plt.figure(figsize=(6, 3))\n",
        "  plt.plot(indices, list_stats)\n",
        "\n",
        "  # Añadimos título y etiquetas\n",
        "  plt.title('Proporción de recompensas')\n",
        "  plt.xlabel('Episodio')\n",
        "  plt.ylabel('Proporción')\n",
        "\n",
        "  # Mostramos el gráfico\n",
        "  plt.grid(True)\n",
        "  plt.show()\n",
        "\n",
        "# Define la función para mostrar el tamaño de los episodios\n",
        "# Pon aquí tu código."
      ],
      "metadata": {
        "id": "u42-YlgazukU"
      },
      "execution_count": null,
      "outputs": []
    },
    {
      "cell_type": "markdown",
      "source": [
        "### **3.2 Experimentación en el escenario 4x4**\n",
        "\n",
        "\n",
        "\n",
        "   - Se realizan 5000 epsisodios y se actualizan los valores Q (valor de acción) basándose en las recompensas obtenidas durante cada episodio completo (e.d. aplicamos Monte Carlo) Se apica una política $\\epsilon$ greedy sobre una política $\\epsilon$ soft con un valor $\\epsilon$ constante\n",
        "\n",
        "\n"
      ],
      "metadata": {
        "id": "JvnGJVGF_j2j"
      }
    },
    {
      "cell_type": "code",
      "source": [
        "# @title Aprendizaje\n",
        "Q, list_stats = on_policy_all_visit(env4, num_episodes=50000, epsilon=0.4, discount_factor=1)"
      ],
      "metadata": {
        "colab": {
          "base_uri": "https://localhost:8080/"
        },
        "collapsed": true,
        "id": "j_Dronjr_mAN",
        "outputId": "46e0dc9a-eb9f-4e8d-c4a7-fcaa4f9be91a"
      },
      "execution_count": null,
      "outputs": [
        {
          "output_type": "stream",
          "name": "stderr",
          "text": [
            " 11%|█         | 5295/50000 [00:02<00:23, 1936.51it/s]"
          ]
        },
        {
          "output_type": "stream",
          "name": "stdout",
          "text": [
            "success: 0.5224, epsilon: 0.4\n"
          ]
        },
        {
          "output_type": "stream",
          "name": "stderr",
          "text": [
            " 21%|██        | 10266/50000 [00:05<00:28, 1401.96it/s]"
          ]
        },
        {
          "output_type": "stream",
          "name": "stdout",
          "text": [
            "success: 0.5312, epsilon: 0.4\n"
          ]
        },
        {
          "output_type": "stream",
          "name": "stderr",
          "text": [
            " 31%|███       | 15311/50000 [00:08<00:17, 1994.82it/s]"
          ]
        },
        {
          "output_type": "stream",
          "name": "stdout",
          "text": [
            "success: 0.5326, epsilon: 0.4\n"
          ]
        },
        {
          "output_type": "stream",
          "name": "stderr",
          "text": [
            " 40%|████      | 20228/50000 [00:11<00:15, 1971.43it/s]"
          ]
        },
        {
          "output_type": "stream",
          "name": "stdout",
          "text": [
            "success: 0.53445, epsilon: 0.4\n"
          ]
        },
        {
          "output_type": "stream",
          "name": "stderr",
          "text": [
            " 50%|█████     | 25236/50000 [00:13<00:12, 2025.58it/s]"
          ]
        },
        {
          "output_type": "stream",
          "name": "stdout",
          "text": [
            "success: 0.5354, epsilon: 0.4\n"
          ]
        },
        {
          "output_type": "stream",
          "name": "stderr",
          "text": [
            " 61%|██████    | 30360/50000 [00:16<00:10, 1943.35it/s]"
          ]
        },
        {
          "output_type": "stream",
          "name": "stdout",
          "text": [
            "success: 0.5391666666666667, epsilon: 0.4\n"
          ]
        },
        {
          "output_type": "stream",
          "name": "stderr",
          "text": [
            " 71%|███████   | 35355/50000 [00:19<00:08, 1796.60it/s]"
          ]
        },
        {
          "output_type": "stream",
          "name": "stdout",
          "text": [
            "success: 0.5394285714285715, epsilon: 0.4\n"
          ]
        },
        {
          "output_type": "stream",
          "name": "stderr",
          "text": [
            " 80%|████████  | 40209/50000 [00:22<00:05, 1942.66it/s]"
          ]
        },
        {
          "output_type": "stream",
          "name": "stdout",
          "text": [
            "success: 0.539525, epsilon: 0.4\n"
          ]
        },
        {
          "output_type": "stream",
          "name": "stderr",
          "text": [
            " 91%|█████████ | 45405/50000 [00:24<00:02, 2024.82it/s]"
          ]
        },
        {
          "output_type": "stream",
          "name": "stdout",
          "text": [
            "success: 0.5393555555555556, epsilon: 0.4\n"
          ]
        },
        {
          "output_type": "stream",
          "name": "stderr",
          "text": [
            "100%|██████████| 50000/50000 [00:27<00:00, 1840.59it/s]\n"
          ]
        }
      ]
    },
    {
      "cell_type": "code",
      "source": [
        "#@title Proporción de aciertos por número de episodios\n",
        "\n",
        "plot(list_stats)\n",
        "print(f\"Máxima proporcion: {list_stats[-1]}\")"
      ],
      "metadata": {
        "colab": {
          "base_uri": "https://localhost:8080/",
          "height": 351
        },
        "id": "KLhdk1SFtn8S",
        "outputId": "e98edcd9-c940-46a7-ef1f-c494b98299a3"
      },
      "execution_count": null,
      "outputs": [
        {
          "output_type": "display_data",
          "data": {
            "text/plain": [
              "<Figure size 600x300 with 1 Axes>"
            ],
            "image/png": "[encoded data removed]"
          },
          "metadata": {}
        },
        {
          "output_type": "stream",
          "name": "stdout",
          "text": [
            "Máxima proporcion: 0.52346\n"
          ]
        }
      ]
    },
    {
      "cell_type": "markdown",
      "source": [
        "####.\n",
        "Mostramos los valores Q para cada estado. Cada estado tienen 4 valores, que se corresponden con las 4 acciones que se pueden en cada estado."
      ],
      "metadata": {
        "id": "zoP1jHL_StI9"
      }
    },
    {
      "cell_type": "code",
      "source": [
        "# @title Tabla de valores Q\n",
        "LEFT, DOWN, RIGHT, UP = 0,1,2,3\n",
        "print(\"Valores Q para cada estado:\\n\", Q)\n"
      ],
      "metadata": {
        "colab": {
          "base_uri": "https://localhost:8080/"
        },
        "id": "psRtMmxyFkFq",
        "outputId": "feac48fd-9296-4b3d-8cac-6c5210218cf5"
      },
      "execution_count": null,
      "outputs": [
        {
          "output_type": "stream",
          "name": "stdout",
          "text": [
            "Valores Q para cada estado:\n",
            " [[0.18477181 0.52301371 0.39571526 0.41760978]\n",
            " [0.20726339 0.         0.57108309 0.35403927]\n",
            " [0.3815261  0.61950215 0.48941469 0.59600998]\n",
            " [0.56223176 0.         0.53153153 0.49450549]\n",
            " [0.28289019 0.61295478 0.         0.48029154]\n",
            " [0.         0.         0.         0.        ]\n",
            " [0.         0.80776827 0.         0.58715596]\n",
            " [0.         0.         0.         0.        ]\n",
            " [0.41766962 0.         0.7192033  0.51914972]\n",
            " [0.59929078 0.8298323  0.80616523 0.        ]\n",
            " [0.72727273 0.9607548  0.         0.62603648]\n",
            " [0.         0.         0.         0.        ]\n",
            " [0.         0.         0.         0.        ]\n",
            " [0.         0.82246078 0.96088599 0.72760358]\n",
            " [0.82675862 0.96638881 1.         0.81593111]\n",
            " [0.         0.         0.         0.        ]]\n"
          ]
        }
      ]
    },
    {
      "cell_type": "markdown",
      "source": [
        "- También se muestra la política óptima (greedy) obtenida a partir del aprendizaje anterior.\n",
        "\n",
        "- Cada estado tienen 4 valores, pero todos son 0 menos 1. Es decir, en cada estado se aplica de manera determinística una única acción.\n",
        "\n",
        "*TODO:* Mostrar de forma gráfica el escenario."
      ],
      "metadata": {
        "id": "AsJ-AgwcTgdO"
      }
    },
    {
      "cell_type": "code",
      "source": [
        "# @title Política final\n",
        "LEFT, DOWN, RIGHT, UP = 0,1,2,3\n",
        "pi, actions = pi_star_from_Q(env4, Q)\n",
        "\n",
        "print(\"Política óptima obtenida\\n\", pi, f\"\\n Acciones {actions} \\n Para el siguiente grid\\n\", env4.render())\n",
        "print()"
      ],
      "metadata": {
        "colab": {
          "base_uri": "https://localhost:8080/"
        },
        "collapsed": true,
        "id": "dA0-q-woGYL2",
        "outputId": "ce45cfbf-5b93-4641-bcce-5629a855281d"
      },
      "execution_count": null,
      "outputs": [
        {
          "output_type": "stream",
          "name": "stdout",
          "text": [
            "Política óptima obtenida\n",
            " [[0. 1. 0. 0.]\n",
            " [0. 0. 0. 0.]\n",
            " [0. 0. 0. 0.]\n",
            " [0. 0. 0. 0.]\n",
            " [0. 1. 0. 0.]\n",
            " [0. 0. 0. 0.]\n",
            " [0. 0. 0. 0.]\n",
            " [0. 0. 0. 0.]\n",
            " [0. 0. 2. 0.]\n",
            " [0. 1. 0. 0.]\n",
            " [0. 0. 0. 0.]\n",
            " [0. 0. 0. 0.]\n",
            " [0. 0. 0. 0.]\n",
            " [0. 0. 2. 0.]\n",
            " [0. 0. 2. 0.]\n",
            " [0. 0. 0. 0.]] \n",
            " Acciones 1, 1, 2, 1, 2, 2,  \n",
            " Para el siguiente grid\n",
            "   (Right)\n",
            "SFFF\n",
            "FHFH\n",
            "FFFH\n",
            "HFF\u001b[41mG\u001b[0m\n",
            "\n",
            "\n"
          ]
        }
      ]
    },
    {
      "cell_type": "markdown",
      "source": [
        "### **3.3 Experimentación en el escenario 8x8**\n",
        "\n",
        "  - Se realizan 5000 epsisodios y se actualizan los valores Q (valor de acción) basándose en las recompensas obtenidas durante cada episodio completo (e.d. aplicamos Monte Carlo) Se apica una política $\\epsilon$ greedy sobre una política $\\epsilon$ soft con un valor $\\epsilon$ decreciente\n",
        "\n"
      ],
      "metadata": {
        "id": "3tUyGCBuS41T"
      }
    },
    {
      "cell_type": "code",
      "source": [
        "# @title Aprendizaje\n",
        "Q, list_stats = on_policy_all_visit(env8, num_episodes=50000, epsilon=0.4, decay=True, discount_factor=1)"
      ],
      "metadata": {
        "colab": {
          "base_uri": "https://localhost:8080/"
        },
        "collapsed": true,
        "outputId": "bcda5aeb-2b87-42db-f805-880e6c24e205",
        "id": "ttDsqDX16sSj"
      },
      "execution_count": null,
      "outputs": [
        {
          "output_type": "stream",
          "name": "stderr",
          "text": [
            " 10%|█         | 5047/50000 [00:12<02:00, 373.88it/s]"
          ]
        },
        {
          "output_type": "stream",
          "name": "stdout",
          "text": [
            "success: 0.489, epsilon: 0.19996000799840033\n"
          ]
        },
        {
          "output_type": "stream",
          "name": "stderr",
          "text": [
            " 20%|██        | 10076/50000 [00:27<01:30, 441.22it/s]"
          ]
        },
        {
          "output_type": "stream",
          "name": "stdout",
          "text": [
            "success: 0.6838, epsilon: 0.0999900009999\n"
          ]
        },
        {
          "output_type": "stream",
          "name": "stderr",
          "text": [
            " 30%|███       | 15026/50000 [00:41<01:37, 358.23it/s]"
          ]
        },
        {
          "output_type": "stream",
          "name": "stdout",
          "text": [
            "success: 0.7608666666666667, epsilon: 0.06666222251849876\n"
          ]
        },
        {
          "output_type": "stream",
          "name": "stderr",
          "text": [
            " 40%|████      | 20073/50000 [00:56<00:45, 657.87it/s]"
          ]
        },
        {
          "output_type": "stream",
          "name": "stdout",
          "text": [
            "success: 0.7971, epsilon: 0.04999750012499375\n"
          ]
        },
        {
          "output_type": "stream",
          "name": "stderr",
          "text": [
            " 50%|█████     | 25184/50000 [01:02<00:25, 985.01it/s]"
          ]
        },
        {
          "output_type": "stream",
          "name": "stdout",
          "text": [
            "success: 0.83332, epsilon: 0.03999840006399744\n"
          ]
        },
        {
          "output_type": "stream",
          "name": "stderr",
          "text": [
            " 60%|██████    | 30046/50000 [01:07<00:22, 869.67it/s]"
          ]
        },
        {
          "output_type": "stream",
          "name": "stdout",
          "text": [
            "success: 0.8581333333333333, epsilon: 0.033332222259258026\n"
          ]
        },
        {
          "output_type": "stream",
          "name": "stderr",
          "text": [
            " 70%|███████   | 35200/50000 [01:13<00:14, 988.59it/s]"
          ]
        },
        {
          "output_type": "stream",
          "name": "stdout",
          "text": [
            "success: 0.8765714285714286, epsilon: 0.02857061226822091\n"
          ]
        },
        {
          "output_type": "stream",
          "name": "stderr",
          "text": [
            " 80%|████████  | 40153/50000 [01:18<00:09, 1020.53it/s]"
          ]
        },
        {
          "output_type": "stream",
          "name": "stdout",
          "text": [
            "success: 0.890275, epsilon: 0.02499937501562461\n"
          ]
        },
        {
          "output_type": "stream",
          "name": "stderr",
          "text": [
            " 90%|█████████ | 45115/50000 [01:24<00:05, 956.08it/s] "
          ]
        },
        {
          "output_type": "stream",
          "name": "stdout",
          "text": [
            "success: 0.9014222222222222, epsilon: 0.02222172840603542\n"
          ]
        },
        {
          "output_type": "stream",
          "name": "stderr",
          "text": [
            "100%|██████████| 50000/50000 [01:29<00:00, 558.02it/s]\n"
          ]
        }
      ]
    },
    {
      "cell_type": "code",
      "source": [
        "#@title Proporción de aciertos por número de episodios\n",
        "\n",
        "plot(list_stats)\n",
        "print(f\"Máxima proporcion: {list_stats[-1]}\")"
      ],
      "metadata": {
        "colab": {
          "base_uri": "https://localhost:8080/",
          "height": 351
        },
        "id": "Z_tbLcAq6yWR",
        "outputId": "ff07d6e9-9ff1-4659-a5e6-ae6411a317d8"
      },
      "execution_count": null,
      "outputs": [
        {
          "output_type": "display_data",
          "data": {
            "text/plain": [
              "<Figure size 600x300 with 1 Axes>"
            ],
            "image/png": "[encoded data removed]"
          },
          "metadata": {}
        },
        {
          "output_type": "stream",
          "name": "stdout",
          "text": [
            "Máxima proporcion: 0.91004\n"
          ]
        }
      ]
    },
    {
      "cell_type": "markdown",
      "source": [
        "####.\n",
        "Mostramos los valores Q para cada estado. Cada estado tienen 4 valores, que se corresponden con las 4 acciones que se pueden en cada estado."
      ],
      "metadata": {
        "id": "dptS3Xv8v8H7"
      }
    },
    {
      "cell_type": "code",
      "source": [
        "# @title Tabla de valores Q\n",
        "LEFT, DOWN, RIGHT, UP = 0,1,2,3\n",
        "print(\"Valores Q para cada estado:\\n\", Q)"
      ],
      "metadata": {
        "colab": {
          "base_uri": "https://localhost:8080/"
        },
        "id": "scmn1mwlwBam",
        "outputId": "3f913215-63d1-4558-8e1c-3b5541f20787"
      },
      "execution_count": null,
      "outputs": [
        {
          "output_type": "stream",
          "name": "stdout",
          "text": [
            "Valores Q para cada estado:\n",
            " [[0.36001318 0.36170918 0.88585334 0.3599228 ]\n",
            " [0.69465338 0.7557066  0.93672355 0.78102997]\n",
            " [0.41038771 0.41052632 0.94410385 0.41642229]\n",
            " [0.55453351 0.5760662  0.94220219 0.58835208]\n",
            " [0.67210884 0.67074928 0.94086054 0.65454545]\n",
            " [0.73289474 0.75932203 0.88349929 0.73817925]\n",
            " [0.77807824 0.78270677 0.9667183  0.76565577]\n",
            " [0.78255208 0.96662912 0.77702703 0.77852349]\n",
            " [0.07685739 0.06750675 0.48786861 0.07522124]\n",
            " [0.2928399  0.272361   0.78040447 0.2680067 ]\n",
            " [0.35367115 0.31937173 0.80490992 0.38061224]\n",
            " [0.44055944 0.         0.46491228 0.85930277]\n",
            " [0.24324324 0.21501706 0.7275624  0.27777778]\n",
            " [0.46726862 0.44034707 0.80688337 0.45434298]\n",
            " [0.58362989 0.83941158 0.63773585 0.55280528]\n",
            " [0.77955665 0.9655649  0.75845974 0.76522843]\n",
            " [0.02945302 0.11802853 0.01848739 0.01669196]\n",
            " [0.05671078 0.05244123 0.0797227  0.37091988]\n",
            " [0.07142857 0.07255521 0.         0.44251337]\n",
            " [0.         0.         0.         0.        ]\n",
            " [0.         0.1        0.15789474 0.46116505]\n",
            " [0.2987013  0.         0.67027864 0.35862069]\n",
            " [0.58834586 0.61512027 0.86061975 0.68070175]\n",
            " [0.78513876 0.95341213 0.78290025 0.79639175]\n",
            " [0.01762115 0.02307692 0.16087751 0.02077922]\n",
            " [0.03735632 0.02446483 0.0224359  0.2185567 ]\n",
            " [0.01388889 0.00568182 0.00609756 0.13207547]\n",
            " [0.         0.         0.04166667 0.        ]\n",
            " [0.02173913 0.         0.         0.27777778]\n",
            " [0.         0.         0.         0.        ]\n",
            " [0.         0.41780822 0.48571429 0.82374363]\n",
            " [0.760812   0.95769382 0.821662   0.79599619]\n",
            " [0.01840491 0.         0.04385965 0.00492611]\n",
            " [0.01098901 0.         0.02040816 0.08917197]\n",
            " [0.01123596 0.         0.         0.04109589]\n",
            " [0.         0.         0.         0.        ]\n",
            " [0.         0.         0.         0.        ]\n",
            " [0.         0.         0.59615385 0.        ]\n",
            " [0.34065934 0.         0.85757272 0.51282051]\n",
            " [0.80501931 0.96040302 0.85294118 0.83097262]\n",
            " [0.         0.         0.         0.        ]\n",
            " [0.         0.         0.         0.        ]\n",
            " [0.         0.         0.         0.        ]\n",
            " [0.         0.         0.         0.        ]\n",
            " [0.         0.         0.         0.        ]\n",
            " [0.         0.         0.         0.        ]\n",
            " [0.         0.         0.         0.        ]\n",
            " [0.         0.98075986 0.88100209 0.87011616]\n",
            " [0.         0.         0.         0.        ]\n",
            " [0.         0.         0.         0.        ]\n",
            " [0.         0.         0.         0.        ]\n",
            " [0.         0.         0.         0.        ]\n",
            " [0.         0.         0.         0.        ]\n",
            " [0.         0.         0.         0.        ]\n",
            " [0.         0.         0.         0.        ]\n",
            " [0.         1.         0.94917408 0.91152503]\n",
            " [0.         0.         0.         0.        ]\n",
            " [0.         0.         0.         0.        ]\n",
            " [0.         0.         0.         0.        ]\n",
            " [0.         0.         0.         0.        ]\n",
            " [0.         0.         0.         0.        ]\n",
            " [0.         0.         0.         0.        ]\n",
            " [0.         0.         0.         0.        ]\n",
            " [0.         0.         0.         0.        ]]\n"
          ]
        }
      ]
    },
    {
      "cell_type": "markdown",
      "source": [
        "- También se muestra la política óptima (greedy) obtenida a partir del aprendizaje anterior.\n",
        "\n",
        "- Cada estado tienen 4 valores, pero todos son 0 menos 1. Es decir, en cada estado se aplica de manera determinística una única acción.\n",
        "\n",
        "*TODO:* Mostrar de forma gráfica el escenario."
      ],
      "metadata": {
        "id": "oWQWD7UqwH2Y"
      }
    },
    {
      "cell_type": "code",
      "source": [
        "# @title Política final\n",
        "LEFT, DOWN, RIGHT, UP = 0,1,2,3\n",
        "pi, actions = pi_star_from_Q(env8, Q)\n",
        "\n",
        "print(\"Política óptima obtenida\\n\", pi, f\"\\n Acciones {actions} \\n Para el siguiente grid\\n\", env8.render())\n",
        "print()"
      ],
      "metadata": {
        "colab": {
          "base_uri": "https://localhost:8080/"
        },
        "id": "1n6i3oMzwSG3",
        "outputId": "0dd2772e-e096-41d8-e2ae-18d809e2b098"
      },
      "execution_count": null,
      "outputs": [
        {
          "output_type": "stream",
          "name": "stdout",
          "text": [
            "Política óptima obtenida\n",
            " [[0. 1. 0. 0.]\n",
            " [0. 0. 0. 0.]\n",
            " [0. 0. 0. 0.]\n",
            " [0. 0. 0. 0.]\n",
            " [0. 0. 0. 0.]\n",
            " [0. 0. 0. 0.]\n",
            " [0. 0. 0. 0.]\n",
            " [0. 0. 0. 0.]\n",
            " [0. 0. 2. 0.]\n",
            " [0. 0. 2. 0.]\n",
            " [0. 0. 2. 0.]\n",
            " [0. 0. 2. 0.]\n",
            " [0. 0. 2. 0.]\n",
            " [0. 1. 0. 0.]\n",
            " [0. 0. 0. 0.]\n",
            " [0. 0. 0. 0.]\n",
            " [0. 0. 0. 0.]\n",
            " [0. 0. 0. 0.]\n",
            " [0. 0. 0. 0.]\n",
            " [0. 0. 0. 0.]\n",
            " [0. 0. 0. 0.]\n",
            " [0. 0. 2. 0.]\n",
            " [0. 1. 0. 0.]\n",
            " [0. 0. 0. 0.]\n",
            " [0. 0. 0. 0.]\n",
            " [0. 0. 0. 0.]\n",
            " [0. 0. 0. 0.]\n",
            " [0. 0. 0. 0.]\n",
            " [0. 0. 0. 0.]\n",
            " [0. 0. 0. 0.]\n",
            " [0. 0. 2. 0.]\n",
            " [0. 1. 0. 0.]\n",
            " [0. 0. 0. 0.]\n",
            " [0. 0. 0. 0.]\n",
            " [0. 0. 0. 0.]\n",
            " [0. 0. 0. 0.]\n",
            " [0. 0. 0. 0.]\n",
            " [0. 0. 0. 0.]\n",
            " [0. 0. 0. 0.]\n",
            " [0. 1. 0. 0.]\n",
            " [0. 0. 0. 0.]\n",
            " [0. 0. 0. 0.]\n",
            " [0. 0. 0. 0.]\n",
            " [0. 0. 0. 0.]\n",
            " [0. 0. 0. 0.]\n",
            " [0. 0. 0. 0.]\n",
            " [0. 0. 0. 0.]\n",
            " [0. 1. 0. 0.]\n",
            " [0. 0. 0. 0.]\n",
            " [0. 0. 0. 0.]\n",
            " [0. 0. 0. 0.]\n",
            " [0. 0. 0. 0.]\n",
            " [0. 0. 0. 0.]\n",
            " [0. 0. 0. 0.]\n",
            " [0. 0. 0. 0.]\n",
            " [0. 1. 0. 0.]\n",
            " [0. 0. 0. 0.]\n",
            " [0. 0. 0. 0.]\n",
            " [0. 0. 0. 0.]\n",
            " [0. 0. 0. 0.]\n",
            " [0. 0. 0. 0.]\n",
            " [0. 0. 0. 0.]\n",
            " [0. 0. 0. 0.]\n",
            " [0. 0. 0. 0.]] \n",
            " Acciones 1, 2, 2, 2, 2, 2, 1, 2, 1, 2, 1, 1, 1, 1,  \n",
            " Para el siguiente grid\n",
            "   (Down)\n",
            "SFFFFFFF\n",
            "FFFFFFFF\n",
            "FFFHFFFF\n",
            "FFFFFHFF\n",
            "FFFHFFFF\n",
            "FHHFFFHF\n",
            "FHFFHFHF\n",
            "FFFHFFF\u001b[41mG\u001b[0m\n",
            "\n",
            "\n"
          ]
        }
      ]
    },
    {
      "cell_type": "markdown",
      "source": [
        "## **4. Análisis y Estudios Futuros**\n",
        "\n",
        "### **4.1 Análisis de Resultados**\n",
        "\n",
        "- En los dos entornos (4x4 y 8x8), el agente comienza con un conocimiento muy limitado, pero gradualmente mejora su desempeño a medida que avanza en los episodios. Este comportamiento se puede observar en el gráfico de la proporción de recompensas, que aumenta con el tiempo.\n",
        "- En el entorno 4x4, la máxima proporción de éxito alcanzada fue 0.522, mientras que en el entorno 8x8, la máxima alcanzada fue 0.914. Esto refleja que el agente aprendió a optimizar su estrategia en un entorno más complejo.\n",
        "- La política óptima obtenida muestra las acciones recomendadas por el agente en cada estado del entorno. En el entorno 8x8, la política es más compleja debido a la mayor cantidad de estados y la dificultad del entorno.\n",
        "\n",
        "### **4.2 Propuestas para Estudios Futuros**\n",
        "\n",
        "1. **Evaluar con Otros Entornos**: Sería interesante aplicar este algoritmo a otros entornos más complejos de `gym`, como \"Taxi-v3\" o \"MountainCar\", para analizar cómo se comporta el agente en situaciones con dinámicas más complicadas.\n",
        "   \n",
        "2. **Optimización del Decaimiento de Epsilon**: Aunque se utilizó un decaimiento de epsilon en el segundo experimento, se podría investigar la efectividad de diferentes tasas de decaimiento o incluso explorar algoritmos como `Q-learning` para comparar su desempeño. Graficamente se trataría de mostrar la curva de la tasa de aciertos para distintas funciones de decaimientos\n",
        "\n",
        "3. **Análisis del Impacto de los descuentos en las Recompensas**: El estudio se ha hecho para $\\gamma = 1$; pero no se ha probado qué pasa cuando  $0 \\leq \\gamma < 1$. Se trataría de estudiar la curva para distintos valores de $\\gamma$\n",
        "\n",
        "4. **Nuevas gráficas**: Aquí solo se ha usado la proporción de aciertos, pero sería interesante qué relación entre dicha tasa y las tamaños de los episodios.\n",
        "\n",
        "4. **Ampliación del Algoritmo**: Explorar otros enfoques de Monte Carlo o incluso combinar Monte Carlo con otros algoritmos de aprendizaje por refuerzo, como el Deep Q-Network (DQN), podría mejorar aún más los resultados en entornos más complejos.\n"
      ],
      "metadata": {
        "id": "FG0Z813yhKz7"
      }
    }
  ]
}