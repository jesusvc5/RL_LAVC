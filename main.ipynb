{
  "nbformat": 4,
  "nbformat_minor": 0,
  "metadata": {
    "colab": {
      "provenance": [],
      "authorship_tag": "ABX9TyMH6RSmnFrV71/6YVpxNnq0",
      "include_colab_link": true
    },
    "kernelspec": {
      "name": "python3",
      "display_name": "Python 3"
    },
    "language_info": {
      "name": "python"
    }
  },
  "cells": [
    {
      "cell_type": "markdown",
      "metadata": {
        "id": "view-in-github",
        "colab_type": "text"
      },
      "source": [
        "<a href=\"https://colab.research.google.com/github/jesusvc5/RL_LAVC/blob/main/main.ipynb\" target=\"_parent\"><img src=\"https://colab.research.google.com/assets/colab-badge.svg\" alt=\"Open In Colab\"/></a>"
      ]
    },
    {
      "cell_type": "markdown",
      "source": [
        "    Authors: Jesús Verdú Chacón\n",
        "             Jorge López Abad\n",
        "    Emails: jesus.v.c@um.es\n",
        "            jorge.lopeza@um.es\n",
        "    Date: 2025/03/09\n"
      ],
      "metadata": {
        "id": "DpqIm4uE5hqO"
      }
    },
    {
      "cell_type": "code",
      "source": [
        "#@title Copiar el repositorio.\n",
        "\n",
        "!git clone https://github.com/jesusvc5/RL_LAVC.git\n",
        "!cd RL_LAVC/"
      ],
      "metadata": {
        "colab": {
          "base_uri": "https://localhost:8080/"
        },
        "id": "aYN974O--B8G",
        "outputId": "e59b0c64-4b69-48d0-ca44-488e52092985"
      },
      "execution_count": null,
      "outputs": [
        {
          "output_type": "stream",
          "name": "stdout",
          "text": [
            "Cloning into 'k_brazos_LAVC'...\n",
            "remote: Enumerating objects: 493, done.\u001b[K\n",
            "remote: Counting objects: 100% (116/116), done.\u001b[K\n",
            "remote: Compressing objects: 100% (107/107), done.\u001b[K\n",
            "remote: Total 493 (delta 50), reused 1 (delta 1), pack-reused 377 (from 2)\u001b[K\n",
            "Receiving objects: 100% (493/493), 10.68 MiB | 14.01 MiB/s, done.\n",
            "Resolving deltas: 100% (254/254), done.\n"
          ]
        }
      ]
    },
    {
      "cell_type": "markdown",
      "source": [
        "Este notebook sirve como enlace para poder acceder a todos los notebooks que hemos desarrollado. Los enlaces se muestran a continuación:"
      ],
      "metadata": {
        "id": "Iv7eUOv49xnn"
      }
    },
    {
      "cell_type": "markdown",
      "source": [
        "# Acceso rápido a notebooks\n",
        "\n",
        "- [📓 Notebook usando MonteCarlo On Policy](https://colab.research.google.com/github/jesusvc5/RL_LAVC/blob/main/MonteCarloOffPolicy.ipynb)\n",
        "- [📓 Notebook usando MonteCarlo Off Policy](https://colab.research.google.com/github/jesusvc5/RL_LAVC/blob/main/MonteCarloOnPolicy.ipynb)\n",
        "- [📓 Notebook usando SARSA](https://colab.research.google.com/github/jesusvc5/RL_LAVC/blob/main/SARSA.ipynb)\n",
        "- [📓 Notebook usando SARSA Semigradiente](https://colab.research.google.com/github/jesusvc5/RL_LAVC/blob/main/SARSA_semigradiente.ipynb)\n",
        "- [📓 Notebook usando Q Learning](https://colab.research.google.com/github/jesusvc5/RL_LAVC/blob/main/Q_learning.ipynb)\n",
        "- [📓 Notebook usando Deep Q Learning](https://colab.research.google.com/github/jesusvc5/RL_LAVC/blob/main/Deep_Q_learning.ipynb)"
      ],
      "metadata": {
        "id": "EKRgOxfn6loe"
      }
    }
  ]
}